{
 "cells": [
  {
   "cell_type": "markdown",
   "metadata": {},
   "source": [
    "# Strategic Movie Production Analysis"
   ]
  },
  {
   "cell_type": "markdown",
   "metadata": {},
   "source": [
    "Movie making is a wide source of revenue mainly in the entertainment industry compared to music and other forms of entertainment.\n",
    "Many movies in hollywood and bollywood have grossed over 1 billion dollars world wide within months in a certain year due to the fact that movies have a very large audience world wide.\n",
    "Some movie genres are popular than other movie genres based on the audience as different audience have their own different opinion and preferences to different genres.\n",
    "Our aim is to navigate movies that rate high in the box office to find out what preference do most audiences prefer based on the genre of the film and its popularity to decide which films our movie studio could make.\n"
   ]
  },
  {
   "cell_type": "markdown",
   "metadata": {},
   "source": [
    "# Goals"
   ]
  },
  {
   "cell_type": "markdown",
   "metadata": {},
   "source": [
    "## 1. Identify top-movies genres in the box office\n",
    "This can be done by analyzing which movie genres are the most successful in the box office grossing a lot of money and its popularity among the audience.\n",
    "## 2. Gather factors that make a movie be a success or popular\n",
    "This can be done by investigating characteristics that contribute to top performing films.\n",
    "Examining factors such as the movie budget, special effects used, storyline of the movie that engages the audience and the cast of the movie as some audience prefer watching movies with a popular cast and director.\n",
    "## 3. Understand the market insights\n",
    "Understand which movie genres are popular with which type of age group and gender as different audiences have different preferences. Example is child under the age 10 primarily girls would prefer to watch animated barbie movies.\n",
    "## 4. Recommendations\n",
    "1. Budget vs Revenue - Understand the relationship between the budget used to make the movies and the revenue received by the movie studio after the movie sales. We want to understand which aspect influences the other and how can it used by the stakeholders to make the movie studio a success.\n",
    "\n",
    "2. Popularity vs Audience - Understand the relationship between popularity and the given audience. In the case popularity refers to how popular a certain film is and audience refers to the number of people who watch the certain films based on their popularity. We want to understand how the popularity of a film affects the number of people who go watch the certain films, and how it can be used by the movie studio stakeholders to make the movie studio succeed.\n",
    "\n",
    "3. Rating - Understand of a rating of a movie influences the success of a movie. Rating of the movies are made by the audience and influence the number of people who watch the movies. We want to understand how this aspect can be used the stakeholders to make the movie studio a success.\n",
    "\n",
    "4. Genres - This is the categories of movies which can either be romance action etc. Every audience have different preferences in terms of genres. As a movie we want to understand how different genres influence the success of a movie and with other aspects such as rating and popularity.\n",
    "\n"
   ]
  },
  {
   "cell_type": "markdown",
   "metadata": {},
   "source": [
    "## Business understanding"
   ]
  },
  {
   "cell_type": "markdown",
   "metadata": {},
   "source": [
    "## Introduction\n",
    "With the competitive edge in the entertainment industry, many companies are seeking in creating original video content  as popular way to secure audience attention and use it as a way of earning more revenue. \n",
    "Our company is interested into venturing to this dynamic market as it been seen and proven as a great source of income.\n",
    "The real-life problem is that our organization is opening a new movie studio as a step into the film production industry. But we don't have the knowledge and understanding needed to make movies that will do well at the box office. This research attempts to study current box office statistics in order to determine the kinds of films that are doing the best in order to address this difficulty. Through the conversion of these insights into practical plans, we can direct the production of films that both connect with viewers and bring in a significant amount of money for our company's new film studio.\n",
    "\n",
    "### Stakeholders\n",
    "\n",
    "#### Company executives\n",
    "Company executives provide insights and input on how the movie studio is to be managed. \n",
    "They provide strategic moves such as hiring of the intended staff such as directors and cast members of a certain movie.\n",
    "They oversee the production of the movie in terms of budget required and as well as producers to ensure the movie is a success.\n",
    "Another role is they approve which type of films to be produced and allocate resources to them.\n",
    "\n",
    "Problem faced by company executives lack of market insight, company executives cannot approve production of a movie without knowing the intended market and what their needs and wants includes.\n",
    "\n",
    "#### Marketing and sales teams \n",
    "A problem faced by marketing and sales teams is the ineffective  marketing and sales strategies.\n",
    "Market and sales teams require a deep understanding of the audience preferences and market trends to develop a compelling campaign to promote the movies and increase revenue.\n",
    "Without the knowledge, they incur a loss and money wastage in promoting the movie and lower return in revenue in the box-office.\n",
    "\n",
    "By identifying which genre of movies gross a lot of money in the box office, marketing and sales teams identify the target market which is the audience depending on their prefernces and promote the movies to them increasing the chances of a successful film release.\n",
    "From this, the movies end up grossing a lot of money in the box office.\n",
    "\n",
    "\n",
    "#### Film production team \n",
    "\n",
    "The film production team are entrusted from the analysis of movies that generate the highest amount of money in the box office, to identify the key elements that make the successful.\n",
    "The key elements could include a ceratin movie genre with its preferred audience, the movie rating, the cast of the movie, the stroyline of the movie and its popularity with the audience and the special effects used in the movie.\n",
    "The film production could then adopt such ideas and create original video content from those elements.\n",
    "\n",
    "The problem faced by the film production team is lack of knowledge about the key elements, without this knowledge they are at a higher risk to making a bad movie that does not fit the audience preferences leading to poor performance at the box office incurring the movie studio a huge loss.\n",
    "\n",
    "#### Investors\n",
    "Investors are a very important part in the movie making process as they provide financial aid that is essential with potential return on their investment. This encourages them to invest in more movies if the movies they invest in become huge successes.\n",
    "\n",
    "Without the proper market analysis and reports about what the target audience may want, many investors may be hesitant in getting involved with the movie making limiting the movie studio financial resources.\n",
    "\n",
    "#### Audience \n",
    "The audience are the main consumers in the entertainment industry. If they did not exist they wouldn't be an entertainment industry. \n",
    "With them been our main consumers it is important to understand their needs and wants.\n",
    "This can be done by identify their preferences by placing them into different categories such as age, gender, hobbies and  probably occupation .\n",
    "Giving an example, children under the age of 13 have a preference of watching animated films compared to crime documentary films.\n",
    "Another example is male audience who love watching have a higher rate of watching sports-based films.\n",
    "Through that the film studio is able to generate revenues from the movies through their audience.\n",
    "\n",
    "\n",
    "With making of movies which do not resonate with them, it will be difficult to attract the audience to watch the movies leading to poor performance at the box office and a huge financial loss to the movie studio.\n",
    "## Conclusion\n",
    "The implications set by the project to the stakeholders include:\n",
    "1. Through analysis and identifying the genres and characteristics of higher grossing films in the box office, the data derived from that provides easy decision making to the film production team who are able to meet the elements and provide film productions that satisfy consumer wants and generate revenue.\n",
    "2. Company executives will be able to approve movies that meet the consumer wants and needs by allowing film production that meets the elements of grossing a high rating movie.\n",
    "3. Market and sales teams will be able to design campigns that are attracting that draw in the audience as a way of promoting the movie.\n",
    "4. Investors confidence will duue to the profit the studio is gaining and invest in more movie productions.\n",
    "5. The audience will be able to watch and enjoy movies tailored to their needs and promote it by giving it a high rating.\n",
    "\n",
    "\n"
   ]
  },
  {
   "cell_type": "code",
   "execution_count": null,
   "metadata": {},
   "outputs": [],
   "source": []
  },
  {
   "cell_type": "markdown",
   "metadata": {},
   "source": [
    "## Data Understanding\n",
    "\n",
    "### Data Sources\n",
    "#### 1. Box-office Mojo\n",
    "This is a detailed database that tracks box-office revenues of different types of movies world-wide and their overall financial performance of the movies.\n",
    "This data source is relevant to our project as it will enable us to identify which movies perform well in certain countries and how much revenue it attracts in a certain period of time and their overall performance after.\n",
    "#### 2. IMDb \n",
    "This website provides information on film genres, cast and crew, storyline context of the film and the rating of the film which enables us to understand the context of successful films.\n",
    "This data is relevant to our project as studying and analyzing different movie genres provides us with certain audience preferences and other information that contribute to a movie success such as captivating storyline context that draws in the audience.\n",
    "#### 3. Rotten Tomatoes\n",
    "This is a website that provides the audience with a space to be able to critic and post reviews about certain movies.\n",
    "This data is relevant as audience opinion is critical in the movie industry such that a bad rated movie with negative reviews leads to poor performance in the box office and vice versa.\n",
    "Through rotten tomatoes some audience may be compelled to watch the movies based on the rating and reviews of the people who have already watched the film.\n",
    "#### 4. TheMovieDB\n",
    "This is a website that engages the audience to know which films are trending on a certain day of the week or on a certain week time period by showcasing in terms of percentage to show what percentage of the audience  is watching these films.\n",
    "Another feature of this website is that, it shows which popular films in categories which include those that can be streamed, are on tv, can be rented and in theaters in terms of percentage to show what percentage of the audience is watching these films in the mentioned categories.\n",
    "This data is relevant as it shows which films are the audience attracted to the most in terms of the percentage such that a movie with a high percentage of 89% is popular among the audience and that many of them watch it.\n",
    "Through this we can be able to extract key characteristics from the films to know why the high percentage of the audience watch such films.\n",
    "#### 5. The numbers \n",
    " Includes data on film budgets, revenues, and financial performance, which is crucial for understanding profitability.\n",
    " Its relevance is that it gives insights into budget and profitability, which are important for evaluating financial success.\n",
    "\n",
    "\n",
    "\n",
    "\n"
   ]
  },
  {
   "cell_type": "markdown",
   "metadata": {},
   "source": [
    "### Dataset size and descriptive statistics\n"
   ]
  },
  {
   "cell_type": "code",
   "execution_count": 1,
   "metadata": {},
   "outputs": [],
   "source": [
    "import pandas as pd\n",
    "import gzip"
   ]
  },
  {
   "cell_type": "markdown",
   "metadata": {},
   "source": [
    "#### 1. Bom.movie_gross.csv.gz dataset\n",
    "The data information below shows that the dataset has five columns which include title, studio, domestic_gross, foreign_gross and year.\n",
    "\n",
    "Has a data size of 5 columns and 3886 rows.\n",
    "\n",
    "It has a total of 3387 entries.\n",
    "##### Descriptive statistics\n",
    "The dataset has a descriptive statistics which include:\n",
    "Count - the domestic gross count is 3000.36 and year count is 3387\n",
    "Mean - the domestic gross mean  2.874585e+07 and year mean is 2013.958075\n",
    "\n",
    "std\t- the domestic gross std 6.698250e+07 and the year std 2.478141\n",
    "\n",
    "min - the domestic gross min 1.000000e+02 and the year min 2010.000000\n",
    "\n",
    "25%\t- the domestic gross 25% 1.200000e+05,and the year 25%\t2012.000000\n",
    "\n",
    "50%\t- the domestic gross 50% 1.400000e+06, and the year 50%\t2014.000000\n",
    "\n",
    "75%\t- the domestic gross 75% 2.790000e+07,\tand the year 75% 2016.000000\n",
    "\n",
    "max\t- the domestic gross max 9.367000e+08,\tand the year max 2018.000000"
   ]
  },
  {
   "cell_type": "code",
   "execution_count": 2,
   "metadata": {},
   "outputs": [
    {
     "data": {
      "text/html": [
       "<div>\n",
       "<style scoped>\n",
       "    .dataframe tbody tr th:only-of-type {\n",
       "        vertical-align: middle;\n",
       "    }\n",
       "\n",
       "    .dataframe tbody tr th {\n",
       "        vertical-align: top;\n",
       "    }\n",
       "\n",
       "    .dataframe thead th {\n",
       "        text-align: right;\n",
       "    }\n",
       "</style>\n",
       "<table border=\"1\" class=\"dataframe\">\n",
       "  <thead>\n",
       "    <tr style=\"text-align: right;\">\n",
       "      <th></th>\n",
       "      <th>title</th>\n",
       "      <th>studio</th>\n",
       "      <th>domestic_gross</th>\n",
       "      <th>foreign_gross</th>\n",
       "      <th>year</th>\n",
       "    </tr>\n",
       "  </thead>\n",
       "  <tbody>\n",
       "    <tr>\n",
       "      <th>0</th>\n",
       "      <td>Toy Story 3</td>\n",
       "      <td>BV</td>\n",
       "      <td>415000000.0</td>\n",
       "      <td>652000000</td>\n",
       "      <td>2010</td>\n",
       "    </tr>\n",
       "    <tr>\n",
       "      <th>1</th>\n",
       "      <td>Alice in Wonderland (2010)</td>\n",
       "      <td>BV</td>\n",
       "      <td>334200000.0</td>\n",
       "      <td>691300000</td>\n",
       "      <td>2010</td>\n",
       "    </tr>\n",
       "    <tr>\n",
       "      <th>2</th>\n",
       "      <td>Harry Potter and the Deathly Hallows Part 1</td>\n",
       "      <td>WB</td>\n",
       "      <td>296000000.0</td>\n",
       "      <td>664300000</td>\n",
       "      <td>2010</td>\n",
       "    </tr>\n",
       "    <tr>\n",
       "      <th>3</th>\n",
       "      <td>Inception</td>\n",
       "      <td>WB</td>\n",
       "      <td>292600000.0</td>\n",
       "      <td>535700000</td>\n",
       "      <td>2010</td>\n",
       "    </tr>\n",
       "    <tr>\n",
       "      <th>4</th>\n",
       "      <td>Shrek Forever After</td>\n",
       "      <td>P/DW</td>\n",
       "      <td>238700000.0</td>\n",
       "      <td>513900000</td>\n",
       "      <td>2010</td>\n",
       "    </tr>\n",
       "  </tbody>\n",
       "</table>\n",
       "</div>"
      ],
      "text/plain": [
       "                                         title studio  domestic_gross  \\\n",
       "0                                  Toy Story 3     BV     415000000.0   \n",
       "1                   Alice in Wonderland (2010)     BV     334200000.0   \n",
       "2  Harry Potter and the Deathly Hallows Part 1     WB     296000000.0   \n",
       "3                                    Inception     WB     292600000.0   \n",
       "4                          Shrek Forever After   P/DW     238700000.0   \n",
       "\n",
       "  foreign_gross  year  \n",
       "0     652000000  2010  \n",
       "1     691300000  2010  \n",
       "2     664300000  2010  \n",
       "3     535700000  2010  \n",
       "4     513900000  2010  "
      ]
     },
     "execution_count": 2,
     "metadata": {},
     "output_type": "execute_result"
    }
   ],
   "source": [
    "#specify the file path\n",
    "file_path = '../zippedData/bom.movie_gross.csv.gz'\n",
    "\n",
    "#open the compressed zip folder\n",
    "with gzip.open(file_path, 'rt') as file:\n",
    "    df = pd.read_csv(file)\n",
    "\n",
    "#show the first 5 rows\n",
    "df.head()"
   ]
  },
  {
   "cell_type": "code",
   "execution_count": 3,
   "metadata": {},
   "outputs": [
    {
     "name": "stdout",
     "output_type": "stream",
     "text": [
      "<class 'pandas.core.frame.DataFrame'>\n",
      "RangeIndex: 3387 entries, 0 to 3386\n",
      "Data columns (total 5 columns):\n",
      " #   Column          Non-Null Count  Dtype  \n",
      "---  ------          --------------  -----  \n",
      " 0   title           3387 non-null   object \n",
      " 1   studio          3382 non-null   object \n",
      " 2   domestic_gross  3359 non-null   float64\n",
      " 3   foreign_gross   2037 non-null   object \n",
      " 4   year            3387 non-null   int64  \n",
      "dtypes: float64(1), int64(1), object(3)\n",
      "memory usage: 132.4+ KB\n"
     ]
    }
   ],
   "source": [
    "# show the data size and the number of entries and columns\n",
    "df.info()"
   ]
  },
  {
   "cell_type": "code",
   "execution_count": 4,
   "metadata": {},
   "outputs": [
    {
     "data": {
      "text/html": [
       "<div>\n",
       "<style scoped>\n",
       "    .dataframe tbody tr th:only-of-type {\n",
       "        vertical-align: middle;\n",
       "    }\n",
       "\n",
       "    .dataframe tbody tr th {\n",
       "        vertical-align: top;\n",
       "    }\n",
       "\n",
       "    .dataframe thead th {\n",
       "        text-align: right;\n",
       "    }\n",
       "</style>\n",
       "<table border=\"1\" class=\"dataframe\">\n",
       "  <thead>\n",
       "    <tr style=\"text-align: right;\">\n",
       "      <th></th>\n",
       "      <th>domestic_gross</th>\n",
       "      <th>year</th>\n",
       "    </tr>\n",
       "  </thead>\n",
       "  <tbody>\n",
       "    <tr>\n",
       "      <th>count</th>\n",
       "      <td>3.359000e+03</td>\n",
       "      <td>3387.000000</td>\n",
       "    </tr>\n",
       "    <tr>\n",
       "      <th>mean</th>\n",
       "      <td>2.874585e+07</td>\n",
       "      <td>2013.958075</td>\n",
       "    </tr>\n",
       "    <tr>\n",
       "      <th>std</th>\n",
       "      <td>6.698250e+07</td>\n",
       "      <td>2.478141</td>\n",
       "    </tr>\n",
       "    <tr>\n",
       "      <th>min</th>\n",
       "      <td>1.000000e+02</td>\n",
       "      <td>2010.000000</td>\n",
       "    </tr>\n",
       "    <tr>\n",
       "      <th>25%</th>\n",
       "      <td>1.200000e+05</td>\n",
       "      <td>2012.000000</td>\n",
       "    </tr>\n",
       "    <tr>\n",
       "      <th>50%</th>\n",
       "      <td>1.400000e+06</td>\n",
       "      <td>2014.000000</td>\n",
       "    </tr>\n",
       "    <tr>\n",
       "      <th>75%</th>\n",
       "      <td>2.790000e+07</td>\n",
       "      <td>2016.000000</td>\n",
       "    </tr>\n",
       "    <tr>\n",
       "      <th>max</th>\n",
       "      <td>9.367000e+08</td>\n",
       "      <td>2018.000000</td>\n",
       "    </tr>\n",
       "  </tbody>\n",
       "</table>\n",
       "</div>"
      ],
      "text/plain": [
       "       domestic_gross         year\n",
       "count    3.359000e+03  3387.000000\n",
       "mean     2.874585e+07  2013.958075\n",
       "std      6.698250e+07     2.478141\n",
       "min      1.000000e+02  2010.000000\n",
       "25%      1.200000e+05  2012.000000\n",
       "50%      1.400000e+06  2014.000000\n",
       "75%      2.790000e+07  2016.000000\n",
       "max      9.367000e+08  2018.000000"
      ]
     },
     "execution_count": 4,
     "metadata": {},
     "output_type": "execute_result"
    }
   ],
   "source": [
    "df.describe()"
   ]
  },
  {
   "cell_type": "markdown",
   "metadata": {},
   "source": [
    "#### 2. Dataset rt.movie_info.tsv.gz\n"
   ]
  },
  {
   "cell_type": "code",
   "execution_count": 5,
   "metadata": {},
   "outputs": [
    {
     "data": {
      "text/html": [
       "<div>\n",
       "<style scoped>\n",
       "    .dataframe tbody tr th:only-of-type {\n",
       "        vertical-align: middle;\n",
       "    }\n",
       "\n",
       "    .dataframe tbody tr th {\n",
       "        vertical-align: top;\n",
       "    }\n",
       "\n",
       "    .dataframe thead th {\n",
       "        text-align: right;\n",
       "    }\n",
       "</style>\n",
       "<table border=\"1\" class=\"dataframe\">\n",
       "  <thead>\n",
       "    <tr style=\"text-align: right;\">\n",
       "      <th></th>\n",
       "      <th>synopsis</th>\n",
       "      <th>rating</th>\n",
       "      <th>genre</th>\n",
       "      <th>director</th>\n",
       "      <th>writer</th>\n",
       "      <th>theater_date</th>\n",
       "      <th>dvd_date</th>\n",
       "      <th>currency</th>\n",
       "      <th>box_office</th>\n",
       "      <th>runtime</th>\n",
       "      <th>studio</th>\n",
       "    </tr>\n",
       "    <tr>\n",
       "      <th>id</th>\n",
       "      <th></th>\n",
       "      <th></th>\n",
       "      <th></th>\n",
       "      <th></th>\n",
       "      <th></th>\n",
       "      <th></th>\n",
       "      <th></th>\n",
       "      <th></th>\n",
       "      <th></th>\n",
       "      <th></th>\n",
       "      <th></th>\n",
       "    </tr>\n",
       "  </thead>\n",
       "  <tbody>\n",
       "    <tr>\n",
       "      <th>1</th>\n",
       "      <td>This gritty, fast-paced, and innovative police...</td>\n",
       "      <td>R</td>\n",
       "      <td>Action and Adventure|Classics|Drama</td>\n",
       "      <td>William Friedkin</td>\n",
       "      <td>Ernest Tidyman</td>\n",
       "      <td>Oct 9, 1971</td>\n",
       "      <td>Sep 25, 2001</td>\n",
       "      <td>NaN</td>\n",
       "      <td>NaN</td>\n",
       "      <td>104 minutes</td>\n",
       "      <td>NaN</td>\n",
       "    </tr>\n",
       "    <tr>\n",
       "      <th>3</th>\n",
       "      <td>New York City, not-too-distant-future: Eric Pa...</td>\n",
       "      <td>R</td>\n",
       "      <td>Drama|Science Fiction and Fantasy</td>\n",
       "      <td>David Cronenberg</td>\n",
       "      <td>David Cronenberg|Don DeLillo</td>\n",
       "      <td>Aug 17, 2012</td>\n",
       "      <td>Jan 1, 2013</td>\n",
       "      <td>$</td>\n",
       "      <td>600,000</td>\n",
       "      <td>108 minutes</td>\n",
       "      <td>Entertainment One</td>\n",
       "    </tr>\n",
       "    <tr>\n",
       "      <th>5</th>\n",
       "      <td>Illeana Douglas delivers a superb performance ...</td>\n",
       "      <td>R</td>\n",
       "      <td>Drama|Musical and Performing Arts</td>\n",
       "      <td>Allison Anders</td>\n",
       "      <td>Allison Anders</td>\n",
       "      <td>Sep 13, 1996</td>\n",
       "      <td>Apr 18, 2000</td>\n",
       "      <td>NaN</td>\n",
       "      <td>NaN</td>\n",
       "      <td>116 minutes</td>\n",
       "      <td>NaN</td>\n",
       "    </tr>\n",
       "    <tr>\n",
       "      <th>6</th>\n",
       "      <td>Michael Douglas runs afoul of a treacherous su...</td>\n",
       "      <td>R</td>\n",
       "      <td>Drama|Mystery and Suspense</td>\n",
       "      <td>Barry Levinson</td>\n",
       "      <td>Paul Attanasio|Michael Crichton</td>\n",
       "      <td>Dec 9, 1994</td>\n",
       "      <td>Aug 27, 1997</td>\n",
       "      <td>NaN</td>\n",
       "      <td>NaN</td>\n",
       "      <td>128 minutes</td>\n",
       "      <td>NaN</td>\n",
       "    </tr>\n",
       "    <tr>\n",
       "      <th>7</th>\n",
       "      <td>NaN</td>\n",
       "      <td>NR</td>\n",
       "      <td>Drama|Romance</td>\n",
       "      <td>Rodney Bennett</td>\n",
       "      <td>Giles Cooper</td>\n",
       "      <td>NaN</td>\n",
       "      <td>NaN</td>\n",
       "      <td>NaN</td>\n",
       "      <td>NaN</td>\n",
       "      <td>200 minutes</td>\n",
       "      <td>NaN</td>\n",
       "    </tr>\n",
       "    <tr>\n",
       "      <th>8</th>\n",
       "      <td>The year is 1942. As the Allies unite overseas...</td>\n",
       "      <td>PG</td>\n",
       "      <td>Drama|Kids and Family</td>\n",
       "      <td>Jay Russell</td>\n",
       "      <td>Gail Gilchriest</td>\n",
       "      <td>Mar 3, 2000</td>\n",
       "      <td>Jul 11, 2000</td>\n",
       "      <td>NaN</td>\n",
       "      <td>NaN</td>\n",
       "      <td>95 minutes</td>\n",
       "      <td>Warner Bros. Pictures</td>\n",
       "    </tr>\n",
       "    <tr>\n",
       "      <th>10</th>\n",
       "      <td>Some cast and crew from NBC's highly acclaimed...</td>\n",
       "      <td>PG-13</td>\n",
       "      <td>Comedy</td>\n",
       "      <td>Jake Kasdan</td>\n",
       "      <td>Mike White</td>\n",
       "      <td>Jan 11, 2002</td>\n",
       "      <td>Jun 18, 2002</td>\n",
       "      <td>$</td>\n",
       "      <td>41,032,915</td>\n",
       "      <td>82 minutes</td>\n",
       "      <td>Paramount Pictures</td>\n",
       "    </tr>\n",
       "    <tr>\n",
       "      <th>13</th>\n",
       "      <td>Stewart Kane, an Irishman living in the Austra...</td>\n",
       "      <td>R</td>\n",
       "      <td>Drama</td>\n",
       "      <td>Ray Lawrence</td>\n",
       "      <td>Raymond Carver|Beatrix Christian</td>\n",
       "      <td>Apr 27, 2006</td>\n",
       "      <td>Oct 2, 2007</td>\n",
       "      <td>$</td>\n",
       "      <td>224,114</td>\n",
       "      <td>123 minutes</td>\n",
       "      <td>Sony Pictures Classics</td>\n",
       "    </tr>\n",
       "    <tr>\n",
       "      <th>14</th>\n",
       "      <td>\"Love Ranch\" is a bittersweet love story that ...</td>\n",
       "      <td>R</td>\n",
       "      <td>Drama</td>\n",
       "      <td>Taylor Hackford</td>\n",
       "      <td>Mark Jacobson</td>\n",
       "      <td>Jun 30, 2010</td>\n",
       "      <td>Nov 9, 2010</td>\n",
       "      <td>$</td>\n",
       "      <td>134,904</td>\n",
       "      <td>117 minutes</td>\n",
       "      <td>NaN</td>\n",
       "    </tr>\n",
       "    <tr>\n",
       "      <th>15</th>\n",
       "      <td>When a diamond expedition in the Congo is lost...</td>\n",
       "      <td>PG-13</td>\n",
       "      <td>Action and Adventure|Mystery and Suspense|Scie...</td>\n",
       "      <td>Frank Marshall</td>\n",
       "      <td>John Patrick Shanley</td>\n",
       "      <td>Jun 9, 1995</td>\n",
       "      <td>Jul 27, 1999</td>\n",
       "      <td>NaN</td>\n",
       "      <td>NaN</td>\n",
       "      <td>108 minutes</td>\n",
       "      <td>NaN</td>\n",
       "    </tr>\n",
       "    <tr>\n",
       "      <th>17</th>\n",
       "      <td>NaN</td>\n",
       "      <td>NaN</td>\n",
       "      <td>NaN</td>\n",
       "      <td>NaN</td>\n",
       "      <td>NaN</td>\n",
       "      <td>NaN</td>\n",
       "      <td>NaN</td>\n",
       "      <td>NaN</td>\n",
       "      <td>NaN</td>\n",
       "      <td>NaN</td>\n",
       "      <td>NaN</td>\n",
       "    </tr>\n",
       "    <tr>\n",
       "      <th>18</th>\n",
       "      <td>In 1979, Bill Viola and Frank Caliguri dreamed...</td>\n",
       "      <td>NR</td>\n",
       "      <td>Documentary</td>\n",
       "      <td>NaN</td>\n",
       "      <td>Robert Zullo</td>\n",
       "      <td>NaN</td>\n",
       "      <td>NaN</td>\n",
       "      <td>NaN</td>\n",
       "      <td>NaN</td>\n",
       "      <td>NaN</td>\n",
       "      <td>Showtime Documentary Films</td>\n",
       "    </tr>\n",
       "    <tr>\n",
       "      <th>19</th>\n",
       "      <td>While Microsoft may be the biggest software co...</td>\n",
       "      <td>NR</td>\n",
       "      <td>Documentary|Special Interest</td>\n",
       "      <td>NaN</td>\n",
       "      <td>NaN</td>\n",
       "      <td>Aug 23, 2002</td>\n",
       "      <td>Sep 30, 2003</td>\n",
       "      <td>NaN</td>\n",
       "      <td>NaN</td>\n",
       "      <td>90 minutes</td>\n",
       "      <td>Seventh Art Releasing</td>\n",
       "    </tr>\n",
       "    <tr>\n",
       "      <th>20</th>\n",
       "      <td>Rachel (Britt Ekland) is an Amish girl who rej...</td>\n",
       "      <td>PG-13</td>\n",
       "      <td>Classics|Comedy|Drama</td>\n",
       "      <td>William Friedkin</td>\n",
       "      <td>Sidney Michaels|Arnold Schulman|Norman Lear</td>\n",
       "      <td>Dec 22, 1968</td>\n",
       "      <td>May 20, 2008</td>\n",
       "      <td>NaN</td>\n",
       "      <td>NaN</td>\n",
       "      <td>97 minutes</td>\n",
       "      <td>NaN</td>\n",
       "    </tr>\n",
       "    <tr>\n",
       "      <th>21</th>\n",
       "      <td>Old-school comic Rodney \"I get no respect\" Dan...</td>\n",
       "      <td>R</td>\n",
       "      <td>Comedy</td>\n",
       "      <td>Peter Baldwin</td>\n",
       "      <td>Rodney Dangerfield|Harry Basil</td>\n",
       "      <td>Jan 31, 1997</td>\n",
       "      <td>Sep 20, 1999</td>\n",
       "      <td>NaN</td>\n",
       "      <td>NaN</td>\n",
       "      <td>106 minutes</td>\n",
       "      <td>NaN</td>\n",
       "    </tr>\n",
       "    <tr>\n",
       "      <th>22</th>\n",
       "      <td>Two-time Academy Award Winner Kevin Spacey giv...</td>\n",
       "      <td>R</td>\n",
       "      <td>Comedy|Drama|Mystery and Suspense</td>\n",
       "      <td>George Hickenlooper</td>\n",
       "      <td>Norman Snider</td>\n",
       "      <td>Dec 17, 2010</td>\n",
       "      <td>Apr 5, 2011</td>\n",
       "      <td>$</td>\n",
       "      <td>1,039,869</td>\n",
       "      <td>108 minutes</td>\n",
       "      <td>ATO Pictures</td>\n",
       "    </tr>\n",
       "    <tr>\n",
       "      <th>23</th>\n",
       "      <td>A fictional film set in the alluring world of ...</td>\n",
       "      <td>R</td>\n",
       "      <td>Drama</td>\n",
       "      <td>NaN</td>\n",
       "      <td>NaN</td>\n",
       "      <td>Dec 20, 2013</td>\n",
       "      <td>Mar 18, 2014</td>\n",
       "      <td>$</td>\n",
       "      <td>99,165,609</td>\n",
       "      <td>129 minutes</td>\n",
       "      <td>Sony Pictures</td>\n",
       "    </tr>\n",
       "    <tr>\n",
       "      <th>24</th>\n",
       "      <td>Three young boys discover a stranded Russian s...</td>\n",
       "      <td>PG</td>\n",
       "      <td>Action and Adventure|Comedy|Drama</td>\n",
       "      <td>Rick Rosenthal</td>\n",
       "      <td>Sheldon Lettich|Michael Nankin|Alan Jay Glueckman</td>\n",
       "      <td>Nov 6, 1987</td>\n",
       "      <td>Mar 8, 2005</td>\n",
       "      <td>NaN</td>\n",
       "      <td>NaN</td>\n",
       "      <td>98 minutes</td>\n",
       "      <td>NaN</td>\n",
       "    </tr>\n",
       "    <tr>\n",
       "      <th>25</th>\n",
       "      <td>From ancient Japan's most enduring tale, the e...</td>\n",
       "      <td>PG-13</td>\n",
       "      <td>Action and Adventure|Drama|Science Fiction and...</td>\n",
       "      <td>Carl Erik Rinsch</td>\n",
       "      <td>Chris Morgan|Hossein Amini</td>\n",
       "      <td>Dec 25, 2013</td>\n",
       "      <td>Apr 1, 2014</td>\n",
       "      <td>$</td>\n",
       "      <td>20,518,224</td>\n",
       "      <td>127 minutes</td>\n",
       "      <td>Universal Pictures</td>\n",
       "    </tr>\n",
       "    <tr>\n",
       "      <th>26</th>\n",
       "      <td>A comic series of short vignettes build on one...</td>\n",
       "      <td>R</td>\n",
       "      <td>Art House and International|Comedy|Drama|Music...</td>\n",
       "      <td>Jim Jarmusch</td>\n",
       "      <td>Jim Jarmusch</td>\n",
       "      <td>May 14, 2004</td>\n",
       "      <td>Sep 21, 2004</td>\n",
       "      <td>$</td>\n",
       "      <td>1,971,135</td>\n",
       "      <td>96 minutes</td>\n",
       "      <td>MGM</td>\n",
       "    </tr>\n",
       "  </tbody>\n",
       "</table>\n",
       "</div>"
      ],
      "text/plain": [
       "                                             synopsis rating  \\\n",
       "id                                                             \n",
       "1   This gritty, fast-paced, and innovative police...      R   \n",
       "3   New York City, not-too-distant-future: Eric Pa...      R   \n",
       "5   Illeana Douglas delivers a superb performance ...      R   \n",
       "6   Michael Douglas runs afoul of a treacherous su...      R   \n",
       "7                                                 NaN     NR   \n",
       "8   The year is 1942. As the Allies unite overseas...     PG   \n",
       "10  Some cast and crew from NBC's highly acclaimed...  PG-13   \n",
       "13  Stewart Kane, an Irishman living in the Austra...      R   \n",
       "14  \"Love Ranch\" is a bittersweet love story that ...      R   \n",
       "15  When a diamond expedition in the Congo is lost...  PG-13   \n",
       "17                                                NaN    NaN   \n",
       "18  In 1979, Bill Viola and Frank Caliguri dreamed...     NR   \n",
       "19  While Microsoft may be the biggest software co...     NR   \n",
       "20  Rachel (Britt Ekland) is an Amish girl who rej...  PG-13   \n",
       "21  Old-school comic Rodney \"I get no respect\" Dan...      R   \n",
       "22  Two-time Academy Award Winner Kevin Spacey giv...      R   \n",
       "23  A fictional film set in the alluring world of ...      R   \n",
       "24  Three young boys discover a stranded Russian s...     PG   \n",
       "25  From ancient Japan's most enduring tale, the e...  PG-13   \n",
       "26  A comic series of short vignettes build on one...      R   \n",
       "\n",
       "                                                genre             director  \\\n",
       "id                                                                           \n",
       "1                 Action and Adventure|Classics|Drama     William Friedkin   \n",
       "3                   Drama|Science Fiction and Fantasy     David Cronenberg   \n",
       "5                   Drama|Musical and Performing Arts       Allison Anders   \n",
       "6                          Drama|Mystery and Suspense       Barry Levinson   \n",
       "7                                       Drama|Romance       Rodney Bennett   \n",
       "8                               Drama|Kids and Family          Jay Russell   \n",
       "10                                             Comedy          Jake Kasdan   \n",
       "13                                              Drama         Ray Lawrence   \n",
       "14                                              Drama      Taylor Hackford   \n",
       "15  Action and Adventure|Mystery and Suspense|Scie...       Frank Marshall   \n",
       "17                                                NaN                  NaN   \n",
       "18                                        Documentary                  NaN   \n",
       "19                       Documentary|Special Interest                  NaN   \n",
       "20                              Classics|Comedy|Drama     William Friedkin   \n",
       "21                                             Comedy        Peter Baldwin   \n",
       "22                  Comedy|Drama|Mystery and Suspense  George Hickenlooper   \n",
       "23                                              Drama                  NaN   \n",
       "24                  Action and Adventure|Comedy|Drama       Rick Rosenthal   \n",
       "25  Action and Adventure|Drama|Science Fiction and...     Carl Erik Rinsch   \n",
       "26  Art House and International|Comedy|Drama|Music...         Jim Jarmusch   \n",
       "\n",
       "                                               writer  theater_date  \\\n",
       "id                                                                    \n",
       "1                                      Ernest Tidyman   Oct 9, 1971   \n",
       "3                        David Cronenberg|Don DeLillo  Aug 17, 2012   \n",
       "5                                      Allison Anders  Sep 13, 1996   \n",
       "6                     Paul Attanasio|Michael Crichton   Dec 9, 1994   \n",
       "7                                        Giles Cooper           NaN   \n",
       "8                                     Gail Gilchriest   Mar 3, 2000   \n",
       "10                                         Mike White  Jan 11, 2002   \n",
       "13                   Raymond Carver|Beatrix Christian  Apr 27, 2006   \n",
       "14                                      Mark Jacobson  Jun 30, 2010   \n",
       "15                               John Patrick Shanley   Jun 9, 1995   \n",
       "17                                                NaN           NaN   \n",
       "18                                       Robert Zullo           NaN   \n",
       "19                                                NaN  Aug 23, 2002   \n",
       "20        Sidney Michaels|Arnold Schulman|Norman Lear  Dec 22, 1968   \n",
       "21                     Rodney Dangerfield|Harry Basil  Jan 31, 1997   \n",
       "22                                      Norman Snider  Dec 17, 2010   \n",
       "23                                                NaN  Dec 20, 2013   \n",
       "24  Sheldon Lettich|Michael Nankin|Alan Jay Glueckman   Nov 6, 1987   \n",
       "25                         Chris Morgan|Hossein Amini  Dec 25, 2013   \n",
       "26                                       Jim Jarmusch  May 14, 2004   \n",
       "\n",
       "        dvd_date currency  box_office      runtime                      studio  \n",
       "id                                                                              \n",
       "1   Sep 25, 2001      NaN         NaN  104 minutes                         NaN  \n",
       "3    Jan 1, 2013        $     600,000  108 minutes           Entertainment One  \n",
       "5   Apr 18, 2000      NaN         NaN  116 minutes                         NaN  \n",
       "6   Aug 27, 1997      NaN         NaN  128 minutes                         NaN  \n",
       "7            NaN      NaN         NaN  200 minutes                         NaN  \n",
       "8   Jul 11, 2000      NaN         NaN   95 minutes       Warner Bros. Pictures  \n",
       "10  Jun 18, 2002        $  41,032,915   82 minutes          Paramount Pictures  \n",
       "13   Oct 2, 2007        $     224,114  123 minutes      Sony Pictures Classics  \n",
       "14   Nov 9, 2010        $     134,904  117 minutes                         NaN  \n",
       "15  Jul 27, 1999      NaN         NaN  108 minutes                         NaN  \n",
       "17           NaN      NaN         NaN          NaN                         NaN  \n",
       "18           NaN      NaN         NaN          NaN  Showtime Documentary Films  \n",
       "19  Sep 30, 2003      NaN         NaN   90 minutes       Seventh Art Releasing  \n",
       "20  May 20, 2008      NaN         NaN   97 minutes                         NaN  \n",
       "21  Sep 20, 1999      NaN         NaN  106 minutes                         NaN  \n",
       "22   Apr 5, 2011        $   1,039,869  108 minutes                ATO Pictures  \n",
       "23  Mar 18, 2014        $  99,165,609  129 minutes               Sony Pictures  \n",
       "24   Mar 8, 2005      NaN         NaN   98 minutes                         NaN  \n",
       "25   Apr 1, 2014        $  20,518,224  127 minutes          Universal Pictures  \n",
       "26  Sep 21, 2004        $   1,971,135   96 minutes                         MGM  "
      ]
     },
     "execution_count": 5,
     "metadata": {},
     "output_type": "execute_result"
    }
   ],
   "source": [
    "#specify the file path\n",
    "file_path = '../zippedData/rt.movie_info.tsv.gz'\n",
    "\n",
    "#open the compressed zip folder\n",
    "with gzip.open(file_path, 'rt') as file:\n",
    "    df2 = pd.read_csv(file, delimiter='\\t', index_col=0) #tsv file\n",
    "\n",
    "#show the first 5 rows\n",
    "df2.head(20)"
   ]
  },
  {
   "cell_type": "markdown",
   "metadata": {},
   "source": [
    "#### Data size and information\n",
    "The dataset contains 10 columns and 1560 rows.\n",
    "A total number 1560 entries"
   ]
  },
  {
   "cell_type": "code",
   "execution_count": 6,
   "metadata": {},
   "outputs": [
    {
     "name": "stdout",
     "output_type": "stream",
     "text": [
      "<class 'pandas.core.frame.DataFrame'>\n",
      "Int64Index: 1560 entries, 1 to 2000\n",
      "Data columns (total 11 columns):\n",
      " #   Column        Non-Null Count  Dtype \n",
      "---  ------        --------------  ----- \n",
      " 0   synopsis      1498 non-null   object\n",
      " 1   rating        1557 non-null   object\n",
      " 2   genre         1552 non-null   object\n",
      " 3   director      1361 non-null   object\n",
      " 4   writer        1111 non-null   object\n",
      " 5   theater_date  1201 non-null   object\n",
      " 6   dvd_date      1201 non-null   object\n",
      " 7   currency      340 non-null    object\n",
      " 8   box_office    340 non-null    object\n",
      " 9   runtime       1530 non-null   object\n",
      " 10  studio        494 non-null    object\n",
      "dtypes: object(11)\n",
      "memory usage: 146.2+ KB\n"
     ]
    }
   ],
   "source": [
    "df2.info()"
   ]
  },
  {
   "cell_type": "markdown",
   "metadata": {},
   "source": [
    "#### Descriptive statistics\n",
    "They include:\n",
    "In relation to the different columns\n",
    "1. count\n",
    "2. Unique\n",
    "3. Top\n",
    "4. Frequency\n",
    "\n"
   ]
  },
  {
   "cell_type": "code",
   "execution_count": 7,
   "metadata": {},
   "outputs": [
    {
     "data": {
      "text/html": [
       "<div>\n",
       "<style scoped>\n",
       "    .dataframe tbody tr th:only-of-type {\n",
       "        vertical-align: middle;\n",
       "    }\n",
       "\n",
       "    .dataframe tbody tr th {\n",
       "        vertical-align: top;\n",
       "    }\n",
       "\n",
       "    .dataframe thead th {\n",
       "        text-align: right;\n",
       "    }\n",
       "</style>\n",
       "<table border=\"1\" class=\"dataframe\">\n",
       "  <thead>\n",
       "    <tr style=\"text-align: right;\">\n",
       "      <th></th>\n",
       "      <th>synopsis</th>\n",
       "      <th>rating</th>\n",
       "      <th>genre</th>\n",
       "      <th>director</th>\n",
       "      <th>writer</th>\n",
       "      <th>theater_date</th>\n",
       "      <th>dvd_date</th>\n",
       "      <th>currency</th>\n",
       "      <th>box_office</th>\n",
       "      <th>runtime</th>\n",
       "      <th>studio</th>\n",
       "    </tr>\n",
       "  </thead>\n",
       "  <tbody>\n",
       "    <tr>\n",
       "      <th>count</th>\n",
       "      <td>1498</td>\n",
       "      <td>1557</td>\n",
       "      <td>1552</td>\n",
       "      <td>1361</td>\n",
       "      <td>1111</td>\n",
       "      <td>1201</td>\n",
       "      <td>1201</td>\n",
       "      <td>340</td>\n",
       "      <td>340</td>\n",
       "      <td>1530</td>\n",
       "      <td>494</td>\n",
       "    </tr>\n",
       "    <tr>\n",
       "      <th>unique</th>\n",
       "      <td>1497</td>\n",
       "      <td>6</td>\n",
       "      <td>299</td>\n",
       "      <td>1125</td>\n",
       "      <td>1069</td>\n",
       "      <td>1025</td>\n",
       "      <td>717</td>\n",
       "      <td>1</td>\n",
       "      <td>336</td>\n",
       "      <td>142</td>\n",
       "      <td>200</td>\n",
       "    </tr>\n",
       "    <tr>\n",
       "      <th>top</th>\n",
       "      <td>A group of air crash survivors are stranded in...</td>\n",
       "      <td>R</td>\n",
       "      <td>Drama</td>\n",
       "      <td>Steven Spielberg</td>\n",
       "      <td>Woody Allen</td>\n",
       "      <td>Jan 1, 1987</td>\n",
       "      <td>Jun 1, 2004</td>\n",
       "      <td>$</td>\n",
       "      <td>200,000</td>\n",
       "      <td>90 minutes</td>\n",
       "      <td>Universal Pictures</td>\n",
       "    </tr>\n",
       "    <tr>\n",
       "      <th>freq</th>\n",
       "      <td>2</td>\n",
       "      <td>521</td>\n",
       "      <td>151</td>\n",
       "      <td>10</td>\n",
       "      <td>4</td>\n",
       "      <td>8</td>\n",
       "      <td>11</td>\n",
       "      <td>340</td>\n",
       "      <td>2</td>\n",
       "      <td>72</td>\n",
       "      <td>35</td>\n",
       "    </tr>\n",
       "  </tbody>\n",
       "</table>\n",
       "</div>"
      ],
      "text/plain": [
       "                                                 synopsis rating  genre  \\\n",
       "count                                                1498   1557   1552   \n",
       "unique                                               1497      6    299   \n",
       "top     A group of air crash survivors are stranded in...      R  Drama   \n",
       "freq                                                    2    521    151   \n",
       "\n",
       "                director       writer theater_date     dvd_date currency  \\\n",
       "count               1361         1111         1201         1201      340   \n",
       "unique              1125         1069         1025          717        1   \n",
       "top     Steven Spielberg  Woody Allen  Jan 1, 1987  Jun 1, 2004        $   \n",
       "freq                  10            4            8           11      340   \n",
       "\n",
       "       box_office     runtime              studio  \n",
       "count         340        1530                 494  \n",
       "unique        336         142                 200  \n",
       "top       200,000  90 minutes  Universal Pictures  \n",
       "freq            2          72                  35  "
      ]
     },
     "execution_count": 7,
     "metadata": {},
     "output_type": "execute_result"
    }
   ],
   "source": [
    "df2.describe()"
   ]
  },
  {
   "cell_type": "markdown",
   "metadata": {},
   "source": [
    "#### 3. Dataset rt.reviews.tsv.gz"
   ]
  },
  {
   "cell_type": "code",
   "execution_count": 8,
   "metadata": {},
   "outputs": [
    {
     "data": {
      "text/html": [
       "<div>\n",
       "<style scoped>\n",
       "    .dataframe tbody tr th:only-of-type {\n",
       "        vertical-align: middle;\n",
       "    }\n",
       "\n",
       "    .dataframe tbody tr th {\n",
       "        vertical-align: top;\n",
       "    }\n",
       "\n",
       "    .dataframe thead th {\n",
       "        text-align: right;\n",
       "    }\n",
       "</style>\n",
       "<table border=\"1\" class=\"dataframe\">\n",
       "  <thead>\n",
       "    <tr style=\"text-align: right;\">\n",
       "      <th></th>\n",
       "      <th>review</th>\n",
       "      <th>rating</th>\n",
       "      <th>fresh</th>\n",
       "      <th>critic</th>\n",
       "      <th>top_critic</th>\n",
       "      <th>publisher</th>\n",
       "      <th>date</th>\n",
       "    </tr>\n",
       "    <tr>\n",
       "      <th>id</th>\n",
       "      <th></th>\n",
       "      <th></th>\n",
       "      <th></th>\n",
       "      <th></th>\n",
       "      <th></th>\n",
       "      <th></th>\n",
       "      <th></th>\n",
       "    </tr>\n",
       "  </thead>\n",
       "  <tbody>\n",
       "    <tr>\n",
       "      <th>3</th>\n",
       "      <td>A distinctly gallows take on contemporary fina...</td>\n",
       "      <td>3/5</td>\n",
       "      <td>fresh</td>\n",
       "      <td>PJ Nabarro</td>\n",
       "      <td>0</td>\n",
       "      <td>Patrick Nabarro</td>\n",
       "      <td>November 10, 2018</td>\n",
       "    </tr>\n",
       "    <tr>\n",
       "      <th>3</th>\n",
       "      <td>It's an allegory in search of a meaning that n...</td>\n",
       "      <td>NaN</td>\n",
       "      <td>rotten</td>\n",
       "      <td>Annalee Newitz</td>\n",
       "      <td>0</td>\n",
       "      <td>io9.com</td>\n",
       "      <td>May 23, 2018</td>\n",
       "    </tr>\n",
       "    <tr>\n",
       "      <th>3</th>\n",
       "      <td>... life lived in a bubble in financial dealin...</td>\n",
       "      <td>NaN</td>\n",
       "      <td>fresh</td>\n",
       "      <td>Sean Axmaker</td>\n",
       "      <td>0</td>\n",
       "      <td>Stream on Demand</td>\n",
       "      <td>January 4, 2018</td>\n",
       "    </tr>\n",
       "    <tr>\n",
       "      <th>3</th>\n",
       "      <td>Continuing along a line introduced in last yea...</td>\n",
       "      <td>NaN</td>\n",
       "      <td>fresh</td>\n",
       "      <td>Daniel Kasman</td>\n",
       "      <td>0</td>\n",
       "      <td>MUBI</td>\n",
       "      <td>November 16, 2017</td>\n",
       "    </tr>\n",
       "    <tr>\n",
       "      <th>3</th>\n",
       "      <td>... a perverse twist on neorealism...</td>\n",
       "      <td>NaN</td>\n",
       "      <td>fresh</td>\n",
       "      <td>NaN</td>\n",
       "      <td>0</td>\n",
       "      <td>Cinema Scope</td>\n",
       "      <td>October 12, 2017</td>\n",
       "    </tr>\n",
       "    <tr>\n",
       "      <th>3</th>\n",
       "      <td>... Cronenberg's Cosmopolis expresses somethin...</td>\n",
       "      <td>NaN</td>\n",
       "      <td>fresh</td>\n",
       "      <td>Michelle Orange</td>\n",
       "      <td>0</td>\n",
       "      <td>Capital New York</td>\n",
       "      <td>September 11, 2017</td>\n",
       "    </tr>\n",
       "    <tr>\n",
       "      <th>3</th>\n",
       "      <td>Quickly grows repetitive and tiresome, meander...</td>\n",
       "      <td>C</td>\n",
       "      <td>rotten</td>\n",
       "      <td>Eric D. Snider</td>\n",
       "      <td>0</td>\n",
       "      <td>EricDSnider.com</td>\n",
       "      <td>July 17, 2013</td>\n",
       "    </tr>\n",
       "    <tr>\n",
       "      <th>3</th>\n",
       "      <td>Cronenberg is not a director to be daunted by ...</td>\n",
       "      <td>2/5</td>\n",
       "      <td>rotten</td>\n",
       "      <td>Matt Kelemen</td>\n",
       "      <td>0</td>\n",
       "      <td>Las Vegas CityLife</td>\n",
       "      <td>April 21, 2013</td>\n",
       "    </tr>\n",
       "    <tr>\n",
       "      <th>3</th>\n",
       "      <td>Cronenberg's cold, exacting precision and emot...</td>\n",
       "      <td>NaN</td>\n",
       "      <td>fresh</td>\n",
       "      <td>Sean Axmaker</td>\n",
       "      <td>0</td>\n",
       "      <td>Parallax View</td>\n",
       "      <td>March 24, 2013</td>\n",
       "    </tr>\n",
       "    <tr>\n",
       "      <th>3</th>\n",
       "      <td>Over and above its topical urgency or the bit ...</td>\n",
       "      <td>NaN</td>\n",
       "      <td>fresh</td>\n",
       "      <td>Kong Rithdee</td>\n",
       "      <td>0</td>\n",
       "      <td>Bangkok Post</td>\n",
       "      <td>March 4, 2013</td>\n",
       "    </tr>\n",
       "  </tbody>\n",
       "</table>\n",
       "</div>"
      ],
      "text/plain": [
       "                                               review rating   fresh  \\\n",
       "id                                                                     \n",
       "3   A distinctly gallows take on contemporary fina...    3/5   fresh   \n",
       "3   It's an allegory in search of a meaning that n...    NaN  rotten   \n",
       "3   ... life lived in a bubble in financial dealin...    NaN   fresh   \n",
       "3   Continuing along a line introduced in last yea...    NaN   fresh   \n",
       "3              ... a perverse twist on neorealism...     NaN   fresh   \n",
       "3   ... Cronenberg's Cosmopolis expresses somethin...    NaN   fresh   \n",
       "3   Quickly grows repetitive and tiresome, meander...      C  rotten   \n",
       "3   Cronenberg is not a director to be daunted by ...    2/5  rotten   \n",
       "3   Cronenberg's cold, exacting precision and emot...    NaN   fresh   \n",
       "3   Over and above its topical urgency or the bit ...    NaN   fresh   \n",
       "\n",
       "             critic  top_critic           publisher                date  \n",
       "id                                                                       \n",
       "3        PJ Nabarro           0     Patrick Nabarro   November 10, 2018  \n",
       "3    Annalee Newitz           0             io9.com        May 23, 2018  \n",
       "3      Sean Axmaker           0    Stream on Demand     January 4, 2018  \n",
       "3     Daniel Kasman           0                MUBI   November 16, 2017  \n",
       "3               NaN           0        Cinema Scope    October 12, 2017  \n",
       "3   Michelle Orange           0    Capital New York  September 11, 2017  \n",
       "3    Eric D. Snider           0     EricDSnider.com       July 17, 2013  \n",
       "3      Matt Kelemen           0  Las Vegas CityLife      April 21, 2013  \n",
       "3      Sean Axmaker           0       Parallax View      March 24, 2013  \n",
       "3      Kong Rithdee           0        Bangkok Post       March 4, 2013  "
      ]
     },
     "execution_count": 8,
     "metadata": {},
     "output_type": "execute_result"
    }
   ],
   "source": [
    "#specify the file path\n",
    "file_path = '../zippedData/rt.reviews.tsv.gz'\n",
    "\n",
    "#open the compressed zip folder\n",
    "with gzip.open(file_path, 'rt', encoding='latin1') as file:\n",
    "    df3 = pd.read_csv(file, delimiter='\\t', index_col=0) #tsv file\n",
    "\n",
    "#show the first 5 rows\n",
    "df3.head(10)"
   ]
  },
  {
   "cell_type": "markdown",
   "metadata": {},
   "source": [
    "#### Data size and information\n",
    "The dataset has a total of 7 columns and 54432 rows.\n",
    "It has a total of 54432 entries\n"
   ]
  },
  {
   "cell_type": "code",
   "execution_count": 9,
   "metadata": {},
   "outputs": [
    {
     "name": "stdout",
     "output_type": "stream",
     "text": [
      "<class 'pandas.core.frame.DataFrame'>\n",
      "Int64Index: 54432 entries, 3 to 2000\n",
      "Data columns (total 7 columns):\n",
      " #   Column      Non-Null Count  Dtype \n",
      "---  ------      --------------  ----- \n",
      " 0   review      48869 non-null  object\n",
      " 1   rating      40915 non-null  object\n",
      " 2   fresh       54432 non-null  object\n",
      " 3   critic      51710 non-null  object\n",
      " 4   top_critic  54432 non-null  int64 \n",
      " 5   publisher   54123 non-null  object\n",
      " 6   date        54432 non-null  object\n",
      "dtypes: int64(1), object(6)\n",
      "memory usage: 3.3+ MB\n"
     ]
    }
   ],
   "source": [
    "df3.info()"
   ]
  },
  {
   "cell_type": "markdown",
   "metadata": {},
   "source": [
    "#### Descriptive statistics\n",
    "The code below shows the descriptive statistics of top_critic which is a column in the dataset"
   ]
  },
  {
   "cell_type": "code",
   "execution_count": 10,
   "metadata": {},
   "outputs": [
    {
     "data": {
      "text/html": [
       "<div>\n",
       "<style scoped>\n",
       "    .dataframe tbody tr th:only-of-type {\n",
       "        vertical-align: middle;\n",
       "    }\n",
       "\n",
       "    .dataframe tbody tr th {\n",
       "        vertical-align: top;\n",
       "    }\n",
       "\n",
       "    .dataframe thead th {\n",
       "        text-align: right;\n",
       "    }\n",
       "</style>\n",
       "<table border=\"1\" class=\"dataframe\">\n",
       "  <thead>\n",
       "    <tr style=\"text-align: right;\">\n",
       "      <th></th>\n",
       "      <th>top_critic</th>\n",
       "    </tr>\n",
       "  </thead>\n",
       "  <tbody>\n",
       "    <tr>\n",
       "      <th>count</th>\n",
       "      <td>54432.000000</td>\n",
       "    </tr>\n",
       "    <tr>\n",
       "      <th>mean</th>\n",
       "      <td>0.240594</td>\n",
       "    </tr>\n",
       "    <tr>\n",
       "      <th>std</th>\n",
       "      <td>0.427448</td>\n",
       "    </tr>\n",
       "    <tr>\n",
       "      <th>min</th>\n",
       "      <td>0.000000</td>\n",
       "    </tr>\n",
       "    <tr>\n",
       "      <th>25%</th>\n",
       "      <td>0.000000</td>\n",
       "    </tr>\n",
       "    <tr>\n",
       "      <th>50%</th>\n",
       "      <td>0.000000</td>\n",
       "    </tr>\n",
       "    <tr>\n",
       "      <th>75%</th>\n",
       "      <td>0.000000</td>\n",
       "    </tr>\n",
       "    <tr>\n",
       "      <th>max</th>\n",
       "      <td>1.000000</td>\n",
       "    </tr>\n",
       "  </tbody>\n",
       "</table>\n",
       "</div>"
      ],
      "text/plain": [
       "         top_critic\n",
       "count  54432.000000\n",
       "mean       0.240594\n",
       "std        0.427448\n",
       "min        0.000000\n",
       "25%        0.000000\n",
       "50%        0.000000\n",
       "75%        0.000000\n",
       "max        1.000000"
      ]
     },
     "execution_count": 10,
     "metadata": {},
     "output_type": "execute_result"
    }
   ],
   "source": [
    "df3.describe()"
   ]
  },
  {
   "cell_type": "markdown",
   "metadata": {},
   "source": [
    "#### 4. Dataset tmdb.movies.csv.gz"
   ]
  },
  {
   "cell_type": "code",
   "execution_count": 11,
   "metadata": {},
   "outputs": [
    {
     "data": {
      "text/html": [
       "<div>\n",
       "<style scoped>\n",
       "    .dataframe tbody tr th:only-of-type {\n",
       "        vertical-align: middle;\n",
       "    }\n",
       "\n",
       "    .dataframe tbody tr th {\n",
       "        vertical-align: top;\n",
       "    }\n",
       "\n",
       "    .dataframe thead th {\n",
       "        text-align: right;\n",
       "    }\n",
       "</style>\n",
       "<table border=\"1\" class=\"dataframe\">\n",
       "  <thead>\n",
       "    <tr style=\"text-align: right;\">\n",
       "      <th></th>\n",
       "      <th>genre_ids</th>\n",
       "      <th>id</th>\n",
       "      <th>original_language</th>\n",
       "      <th>original_title</th>\n",
       "      <th>popularity</th>\n",
       "      <th>release_date</th>\n",
       "      <th>title</th>\n",
       "      <th>vote_average</th>\n",
       "      <th>vote_count</th>\n",
       "    </tr>\n",
       "  </thead>\n",
       "  <tbody>\n",
       "    <tr>\n",
       "      <th>0</th>\n",
       "      <td>[12, 14, 10751]</td>\n",
       "      <td>12444</td>\n",
       "      <td>en</td>\n",
       "      <td>Harry Potter and the Deathly Hallows: Part 1</td>\n",
       "      <td>33.533</td>\n",
       "      <td>2010-11-19</td>\n",
       "      <td>Harry Potter and the Deathly Hallows: Part 1</td>\n",
       "      <td>7.7</td>\n",
       "      <td>10788</td>\n",
       "    </tr>\n",
       "    <tr>\n",
       "      <th>1</th>\n",
       "      <td>[14, 12, 16, 10751]</td>\n",
       "      <td>10191</td>\n",
       "      <td>en</td>\n",
       "      <td>How to Train Your Dragon</td>\n",
       "      <td>28.734</td>\n",
       "      <td>2010-03-26</td>\n",
       "      <td>How to Train Your Dragon</td>\n",
       "      <td>7.7</td>\n",
       "      <td>7610</td>\n",
       "    </tr>\n",
       "    <tr>\n",
       "      <th>2</th>\n",
       "      <td>[12, 28, 878]</td>\n",
       "      <td>10138</td>\n",
       "      <td>en</td>\n",
       "      <td>Iron Man 2</td>\n",
       "      <td>28.515</td>\n",
       "      <td>2010-05-07</td>\n",
       "      <td>Iron Man 2</td>\n",
       "      <td>6.8</td>\n",
       "      <td>12368</td>\n",
       "    </tr>\n",
       "    <tr>\n",
       "      <th>3</th>\n",
       "      <td>[16, 35, 10751]</td>\n",
       "      <td>862</td>\n",
       "      <td>en</td>\n",
       "      <td>Toy Story</td>\n",
       "      <td>28.005</td>\n",
       "      <td>1995-11-22</td>\n",
       "      <td>Toy Story</td>\n",
       "      <td>7.9</td>\n",
       "      <td>10174</td>\n",
       "    </tr>\n",
       "    <tr>\n",
       "      <th>4</th>\n",
       "      <td>[28, 878, 12]</td>\n",
       "      <td>27205</td>\n",
       "      <td>en</td>\n",
       "      <td>Inception</td>\n",
       "      <td>27.920</td>\n",
       "      <td>2010-07-16</td>\n",
       "      <td>Inception</td>\n",
       "      <td>8.3</td>\n",
       "      <td>22186</td>\n",
       "    </tr>\n",
       "    <tr>\n",
       "      <th>5</th>\n",
       "      <td>[12, 14, 10751]</td>\n",
       "      <td>32657</td>\n",
       "      <td>en</td>\n",
       "      <td>Percy Jackson &amp; the Olympians: The Lightning T...</td>\n",
       "      <td>26.691</td>\n",
       "      <td>2010-02-11</td>\n",
       "      <td>Percy Jackson &amp; the Olympians: The Lightning T...</td>\n",
       "      <td>6.1</td>\n",
       "      <td>4229</td>\n",
       "    </tr>\n",
       "    <tr>\n",
       "      <th>6</th>\n",
       "      <td>[28, 12, 14, 878]</td>\n",
       "      <td>19995</td>\n",
       "      <td>en</td>\n",
       "      <td>Avatar</td>\n",
       "      <td>26.526</td>\n",
       "      <td>2009-12-18</td>\n",
       "      <td>Avatar</td>\n",
       "      <td>7.4</td>\n",
       "      <td>18676</td>\n",
       "    </tr>\n",
       "    <tr>\n",
       "      <th>7</th>\n",
       "      <td>[16, 10751, 35]</td>\n",
       "      <td>10193</td>\n",
       "      <td>en</td>\n",
       "      <td>Toy Story 3</td>\n",
       "      <td>24.445</td>\n",
       "      <td>2010-06-17</td>\n",
       "      <td>Toy Story 3</td>\n",
       "      <td>7.7</td>\n",
       "      <td>8340</td>\n",
       "    </tr>\n",
       "    <tr>\n",
       "      <th>8</th>\n",
       "      <td>[16, 10751, 35]</td>\n",
       "      <td>20352</td>\n",
       "      <td>en</td>\n",
       "      <td>Despicable Me</td>\n",
       "      <td>23.673</td>\n",
       "      <td>2010-07-09</td>\n",
       "      <td>Despicable Me</td>\n",
       "      <td>7.2</td>\n",
       "      <td>10057</td>\n",
       "    </tr>\n",
       "    <tr>\n",
       "      <th>9</th>\n",
       "      <td>[16, 28, 35, 10751, 878]</td>\n",
       "      <td>38055</td>\n",
       "      <td>en</td>\n",
       "      <td>Megamind</td>\n",
       "      <td>22.855</td>\n",
       "      <td>2010-11-04</td>\n",
       "      <td>Megamind</td>\n",
       "      <td>6.8</td>\n",
       "      <td>3635</td>\n",
       "    </tr>\n",
       "    <tr>\n",
       "      <th>10</th>\n",
       "      <td>[16, 35, 10751]</td>\n",
       "      <td>863</td>\n",
       "      <td>en</td>\n",
       "      <td>Toy Story 2</td>\n",
       "      <td>22.698</td>\n",
       "      <td>1999-11-24</td>\n",
       "      <td>Toy Story 2</td>\n",
       "      <td>7.5</td>\n",
       "      <td>7553</td>\n",
       "    </tr>\n",
       "    <tr>\n",
       "      <th>11</th>\n",
       "      <td>[10751, 14, 12]</td>\n",
       "      <td>12155</td>\n",
       "      <td>en</td>\n",
       "      <td>Alice in Wonderland</td>\n",
       "      <td>22.020</td>\n",
       "      <td>2010-03-05</td>\n",
       "      <td>Alice in Wonderland</td>\n",
       "      <td>6.6</td>\n",
       "      <td>8713</td>\n",
       "    </tr>\n",
       "    <tr>\n",
       "      <th>12</th>\n",
       "      <td>[53, 12, 28]</td>\n",
       "      <td>27578</td>\n",
       "      <td>en</td>\n",
       "      <td>The Expendables</td>\n",
       "      <td>21.517</td>\n",
       "      <td>2010-08-03</td>\n",
       "      <td>The Expendables</td>\n",
       "      <td>6.1</td>\n",
       "      <td>4647</td>\n",
       "    </tr>\n",
       "    <tr>\n",
       "      <th>13</th>\n",
       "      <td>[16, 10751]</td>\n",
       "      <td>38757</td>\n",
       "      <td>en</td>\n",
       "      <td>Tangled</td>\n",
       "      <td>21.511</td>\n",
       "      <td>2010-11-24</td>\n",
       "      <td>Tangled</td>\n",
       "      <td>7.5</td>\n",
       "      <td>6407</td>\n",
       "    </tr>\n",
       "    <tr>\n",
       "      <th>14</th>\n",
       "      <td>[27, 80]</td>\n",
       "      <td>41439</td>\n",
       "      <td>en</td>\n",
       "      <td>Saw 3D</td>\n",
       "      <td>20.370</td>\n",
       "      <td>2010-10-28</td>\n",
       "      <td>Saw: The Final Chapter</td>\n",
       "      <td>6.0</td>\n",
       "      <td>1488</td>\n",
       "    </tr>\n",
       "  </tbody>\n",
       "</table>\n",
       "</div>"
      ],
      "text/plain": [
       "                   genre_ids     id original_language  \\\n",
       "0            [12, 14, 10751]  12444                en   \n",
       "1        [14, 12, 16, 10751]  10191                en   \n",
       "2              [12, 28, 878]  10138                en   \n",
       "3            [16, 35, 10751]    862                en   \n",
       "4              [28, 878, 12]  27205                en   \n",
       "5            [12, 14, 10751]  32657                en   \n",
       "6          [28, 12, 14, 878]  19995                en   \n",
       "7            [16, 10751, 35]  10193                en   \n",
       "8            [16, 10751, 35]  20352                en   \n",
       "9   [16, 28, 35, 10751, 878]  38055                en   \n",
       "10           [16, 35, 10751]    863                en   \n",
       "11           [10751, 14, 12]  12155                en   \n",
       "12              [53, 12, 28]  27578                en   \n",
       "13               [16, 10751]  38757                en   \n",
       "14                  [27, 80]  41439                en   \n",
       "\n",
       "                                       original_title  popularity  \\\n",
       "0        Harry Potter and the Deathly Hallows: Part 1      33.533   \n",
       "1                            How to Train Your Dragon      28.734   \n",
       "2                                          Iron Man 2      28.515   \n",
       "3                                           Toy Story      28.005   \n",
       "4                                           Inception      27.920   \n",
       "5   Percy Jackson & the Olympians: The Lightning T...      26.691   \n",
       "6                                              Avatar      26.526   \n",
       "7                                         Toy Story 3      24.445   \n",
       "8                                       Despicable Me      23.673   \n",
       "9                                            Megamind      22.855   \n",
       "10                                        Toy Story 2      22.698   \n",
       "11                                Alice in Wonderland      22.020   \n",
       "12                                    The Expendables      21.517   \n",
       "13                                            Tangled      21.511   \n",
       "14                                             Saw 3D      20.370   \n",
       "\n",
       "   release_date                                              title  \\\n",
       "0    2010-11-19       Harry Potter and the Deathly Hallows: Part 1   \n",
       "1    2010-03-26                           How to Train Your Dragon   \n",
       "2    2010-05-07                                         Iron Man 2   \n",
       "3    1995-11-22                                          Toy Story   \n",
       "4    2010-07-16                                          Inception   \n",
       "5    2010-02-11  Percy Jackson & the Olympians: The Lightning T...   \n",
       "6    2009-12-18                                             Avatar   \n",
       "7    2010-06-17                                        Toy Story 3   \n",
       "8    2010-07-09                                      Despicable Me   \n",
       "9    2010-11-04                                           Megamind   \n",
       "10   1999-11-24                                        Toy Story 2   \n",
       "11   2010-03-05                                Alice in Wonderland   \n",
       "12   2010-08-03                                    The Expendables   \n",
       "13   2010-11-24                                            Tangled   \n",
       "14   2010-10-28                             Saw: The Final Chapter   \n",
       "\n",
       "    vote_average  vote_count  \n",
       "0            7.7       10788  \n",
       "1            7.7        7610  \n",
       "2            6.8       12368  \n",
       "3            7.9       10174  \n",
       "4            8.3       22186  \n",
       "5            6.1        4229  \n",
       "6            7.4       18676  \n",
       "7            7.7        8340  \n",
       "8            7.2       10057  \n",
       "9            6.8        3635  \n",
       "10           7.5        7553  \n",
       "11           6.6        8713  \n",
       "12           6.1        4647  \n",
       "13           7.5        6407  \n",
       "14           6.0        1488  "
      ]
     },
     "execution_count": 11,
     "metadata": {},
     "output_type": "execute_result"
    }
   ],
   "source": [
    "#specify the file path\n",
    "file_path = '../zippedData/tmdb.movies.csv.gz'\n",
    "\n",
    "#open the compressed zip folder\n",
    "with gzip.open(file_path, 'rt') as file:\n",
    "    df4 = pd.read_csv(file, index_col=0)\n",
    "\n",
    "#show the first 5 rows\n",
    "df4.head(15)"
   ]
  },
  {
   "cell_type": "markdown",
   "metadata": {},
   "source": [
    "#### Data information and size\n",
    "The dataset has a total of 9 columns and 26517 rows.\n",
    "It has a total of 26517 entries.\n",
    "The table below shows the column names and their type if its a integer or a string etc."
   ]
  },
  {
   "cell_type": "code",
   "execution_count": 12,
   "metadata": {},
   "outputs": [
    {
     "name": "stdout",
     "output_type": "stream",
     "text": [
      "<class 'pandas.core.frame.DataFrame'>\n",
      "Int64Index: 26517 entries, 0 to 26516\n",
      "Data columns (total 9 columns):\n",
      " #   Column             Non-Null Count  Dtype  \n",
      "---  ------             --------------  -----  \n",
      " 0   genre_ids          26517 non-null  object \n",
      " 1   id                 26517 non-null  int64  \n",
      " 2   original_language  26517 non-null  object \n",
      " 3   original_title     26517 non-null  object \n",
      " 4   popularity         26517 non-null  float64\n",
      " 5   release_date       26517 non-null  object \n",
      " 6   title              26517 non-null  object \n",
      " 7   vote_average       26517 non-null  float64\n",
      " 8   vote_count         26517 non-null  int64  \n",
      "dtypes: float64(2), int64(2), object(5)\n",
      "memory usage: 2.0+ MB\n"
     ]
    }
   ],
   "source": [
    "df4.info()"
   ]
  },
  {
   "cell_type": "markdown",
   "metadata": {},
   "source": [
    "#### Descriptive Statistics\n",
    "The table below shows the descriptive statistics of columns id, popularity, vote_average and vote_count in terms of mean, std etc."
   ]
  },
  {
   "cell_type": "code",
   "execution_count": 13,
   "metadata": {},
   "outputs": [
    {
     "data": {
      "text/html": [
       "<div>\n",
       "<style scoped>\n",
       "    .dataframe tbody tr th:only-of-type {\n",
       "        vertical-align: middle;\n",
       "    }\n",
       "\n",
       "    .dataframe tbody tr th {\n",
       "        vertical-align: top;\n",
       "    }\n",
       "\n",
       "    .dataframe thead th {\n",
       "        text-align: right;\n",
       "    }\n",
       "</style>\n",
       "<table border=\"1\" class=\"dataframe\">\n",
       "  <thead>\n",
       "    <tr style=\"text-align: right;\">\n",
       "      <th></th>\n",
       "      <th>id</th>\n",
       "      <th>popularity</th>\n",
       "      <th>vote_average</th>\n",
       "      <th>vote_count</th>\n",
       "    </tr>\n",
       "  </thead>\n",
       "  <tbody>\n",
       "    <tr>\n",
       "      <th>count</th>\n",
       "      <td>26517.000000</td>\n",
       "      <td>26517.000000</td>\n",
       "      <td>26517.000000</td>\n",
       "      <td>26517.000000</td>\n",
       "    </tr>\n",
       "    <tr>\n",
       "      <th>mean</th>\n",
       "      <td>295050.153260</td>\n",
       "      <td>3.130912</td>\n",
       "      <td>5.991281</td>\n",
       "      <td>194.224837</td>\n",
       "    </tr>\n",
       "    <tr>\n",
       "      <th>std</th>\n",
       "      <td>153661.615648</td>\n",
       "      <td>4.355229</td>\n",
       "      <td>1.852946</td>\n",
       "      <td>960.961095</td>\n",
       "    </tr>\n",
       "    <tr>\n",
       "      <th>min</th>\n",
       "      <td>27.000000</td>\n",
       "      <td>0.600000</td>\n",
       "      <td>0.000000</td>\n",
       "      <td>1.000000</td>\n",
       "    </tr>\n",
       "    <tr>\n",
       "      <th>25%</th>\n",
       "      <td>157851.000000</td>\n",
       "      <td>0.600000</td>\n",
       "      <td>5.000000</td>\n",
       "      <td>2.000000</td>\n",
       "    </tr>\n",
       "    <tr>\n",
       "      <th>50%</th>\n",
       "      <td>309581.000000</td>\n",
       "      <td>1.374000</td>\n",
       "      <td>6.000000</td>\n",
       "      <td>5.000000</td>\n",
       "    </tr>\n",
       "    <tr>\n",
       "      <th>75%</th>\n",
       "      <td>419542.000000</td>\n",
       "      <td>3.694000</td>\n",
       "      <td>7.000000</td>\n",
       "      <td>28.000000</td>\n",
       "    </tr>\n",
       "    <tr>\n",
       "      <th>max</th>\n",
       "      <td>608444.000000</td>\n",
       "      <td>80.773000</td>\n",
       "      <td>10.000000</td>\n",
       "      <td>22186.000000</td>\n",
       "    </tr>\n",
       "  </tbody>\n",
       "</table>\n",
       "</div>"
      ],
      "text/plain": [
       "                  id    popularity  vote_average    vote_count\n",
       "count   26517.000000  26517.000000  26517.000000  26517.000000\n",
       "mean   295050.153260      3.130912      5.991281    194.224837\n",
       "std    153661.615648      4.355229      1.852946    960.961095\n",
       "min        27.000000      0.600000      0.000000      1.000000\n",
       "25%    157851.000000      0.600000      5.000000      2.000000\n",
       "50%    309581.000000      1.374000      6.000000      5.000000\n",
       "75%    419542.000000      3.694000      7.000000     28.000000\n",
       "max    608444.000000     80.773000     10.000000  22186.000000"
      ]
     },
     "execution_count": 13,
     "metadata": {},
     "output_type": "execute_result"
    }
   ],
   "source": [
    "df4.describe()"
   ]
  },
  {
   "cell_type": "markdown",
   "metadata": {},
   "source": [
    "#### 5. Dataset tn.movie_budgets.csv.gz"
   ]
  },
  {
   "cell_type": "code",
   "execution_count": 14,
   "metadata": {},
   "outputs": [
    {
     "data": {
      "text/html": [
       "<div>\n",
       "<style scoped>\n",
       "    .dataframe tbody tr th:only-of-type {\n",
       "        vertical-align: middle;\n",
       "    }\n",
       "\n",
       "    .dataframe tbody tr th {\n",
       "        vertical-align: top;\n",
       "    }\n",
       "\n",
       "    .dataframe thead th {\n",
       "        text-align: right;\n",
       "    }\n",
       "</style>\n",
       "<table border=\"1\" class=\"dataframe\">\n",
       "  <thead>\n",
       "    <tr style=\"text-align: right;\">\n",
       "      <th></th>\n",
       "      <th>release_date</th>\n",
       "      <th>movie</th>\n",
       "      <th>production_budget</th>\n",
       "      <th>domestic_gross</th>\n",
       "      <th>worldwide_gross</th>\n",
       "    </tr>\n",
       "    <tr>\n",
       "      <th>id</th>\n",
       "      <th></th>\n",
       "      <th></th>\n",
       "      <th></th>\n",
       "      <th></th>\n",
       "      <th></th>\n",
       "    </tr>\n",
       "  </thead>\n",
       "  <tbody>\n",
       "    <tr>\n",
       "      <th>1</th>\n",
       "      <td>Dec 18, 2009</td>\n",
       "      <td>Avatar</td>\n",
       "      <td>$425,000,000</td>\n",
       "      <td>$760,507,625</td>\n",
       "      <td>$2,776,345,279</td>\n",
       "    </tr>\n",
       "    <tr>\n",
       "      <th>2</th>\n",
       "      <td>May 20, 2011</td>\n",
       "      <td>Pirates of the Caribbean: On Stranger Tides</td>\n",
       "      <td>$410,600,000</td>\n",
       "      <td>$241,063,875</td>\n",
       "      <td>$1,045,663,875</td>\n",
       "    </tr>\n",
       "    <tr>\n",
       "      <th>3</th>\n",
       "      <td>Jun 7, 2019</td>\n",
       "      <td>Dark Phoenix</td>\n",
       "      <td>$350,000,000</td>\n",
       "      <td>$42,762,350</td>\n",
       "      <td>$149,762,350</td>\n",
       "    </tr>\n",
       "    <tr>\n",
       "      <th>4</th>\n",
       "      <td>May 1, 2015</td>\n",
       "      <td>Avengers: Age of Ultron</td>\n",
       "      <td>$330,600,000</td>\n",
       "      <td>$459,005,868</td>\n",
       "      <td>$1,403,013,963</td>\n",
       "    </tr>\n",
       "    <tr>\n",
       "      <th>5</th>\n",
       "      <td>Dec 15, 2017</td>\n",
       "      <td>Star Wars Ep. VIII: The Last Jedi</td>\n",
       "      <td>$317,000,000</td>\n",
       "      <td>$620,181,382</td>\n",
       "      <td>$1,316,721,747</td>\n",
       "    </tr>\n",
       "  </tbody>\n",
       "</table>\n",
       "</div>"
      ],
      "text/plain": [
       "    release_date                                        movie  \\\n",
       "id                                                              \n",
       "1   Dec 18, 2009                                       Avatar   \n",
       "2   May 20, 2011  Pirates of the Caribbean: On Stranger Tides   \n",
       "3    Jun 7, 2019                                 Dark Phoenix   \n",
       "4    May 1, 2015                      Avengers: Age of Ultron   \n",
       "5   Dec 15, 2017            Star Wars Ep. VIII: The Last Jedi   \n",
       "\n",
       "   production_budget domestic_gross worldwide_gross  \n",
       "id                                                   \n",
       "1       $425,000,000   $760,507,625  $2,776,345,279  \n",
       "2       $410,600,000   $241,063,875  $1,045,663,875  \n",
       "3       $350,000,000    $42,762,350    $149,762,350  \n",
       "4       $330,600,000   $459,005,868  $1,403,013,963  \n",
       "5       $317,000,000   $620,181,382  $1,316,721,747  "
      ]
     },
     "execution_count": 14,
     "metadata": {},
     "output_type": "execute_result"
    }
   ],
   "source": [
    "#specify the file path\n",
    "file_path = '../zippedData/tn.movie_budgets.csv.gz'\n",
    "\n",
    "#open the compressed zip folder\n",
    "with gzip.open(file_path, 'rt') as file:\n",
    "    df5 = pd.read_csv(file, index_col=0)\n",
    "\n",
    "#show the first 5 rows\n",
    "df5.head()"
   ]
  },
  {
   "cell_type": "markdown",
   "metadata": {},
   "source": [
    "#### Dataset size and information\n",
    "The dataset has a total of 5 columns and 5782 rows.\n",
    "It has a total of 5782 entries."
   ]
  },
  {
   "cell_type": "code",
   "execution_count": 15,
   "metadata": {},
   "outputs": [
    {
     "name": "stdout",
     "output_type": "stream",
     "text": [
      "<class 'pandas.core.frame.DataFrame'>\n",
      "Int64Index: 5782 entries, 1 to 82\n",
      "Data columns (total 5 columns):\n",
      " #   Column             Non-Null Count  Dtype \n",
      "---  ------             --------------  ----- \n",
      " 0   release_date       5782 non-null   object\n",
      " 1   movie              5782 non-null   object\n",
      " 2   production_budget  5782 non-null   object\n",
      " 3   domestic_gross     5782 non-null   object\n",
      " 4   worldwide_gross    5782 non-null   object\n",
      "dtypes: object(5)\n",
      "memory usage: 271.0+ KB\n"
     ]
    }
   ],
   "source": [
    "df5.info()"
   ]
  },
  {
   "cell_type": "markdown",
   "metadata": {},
   "source": [
    "#### Descriptive Statistics\n",
    "The descriptive statistics is described below for the different columns release_date, movie, production_budget, domestic_gross and worldwide_gross"
   ]
  },
  {
   "cell_type": "code",
   "execution_count": 16,
   "metadata": {},
   "outputs": [
    {
     "data": {
      "text/html": [
       "<div>\n",
       "<style scoped>\n",
       "    .dataframe tbody tr th:only-of-type {\n",
       "        vertical-align: middle;\n",
       "    }\n",
       "\n",
       "    .dataframe tbody tr th {\n",
       "        vertical-align: top;\n",
       "    }\n",
       "\n",
       "    .dataframe thead th {\n",
       "        text-align: right;\n",
       "    }\n",
       "</style>\n",
       "<table border=\"1\" class=\"dataframe\">\n",
       "  <thead>\n",
       "    <tr style=\"text-align: right;\">\n",
       "      <th></th>\n",
       "      <th>release_date</th>\n",
       "      <th>movie</th>\n",
       "      <th>production_budget</th>\n",
       "      <th>domestic_gross</th>\n",
       "      <th>worldwide_gross</th>\n",
       "    </tr>\n",
       "  </thead>\n",
       "  <tbody>\n",
       "    <tr>\n",
       "      <th>count</th>\n",
       "      <td>5782</td>\n",
       "      <td>5782</td>\n",
       "      <td>5782</td>\n",
       "      <td>5782</td>\n",
       "      <td>5782</td>\n",
       "    </tr>\n",
       "    <tr>\n",
       "      <th>unique</th>\n",
       "      <td>2418</td>\n",
       "      <td>5698</td>\n",
       "      <td>509</td>\n",
       "      <td>5164</td>\n",
       "      <td>5356</td>\n",
       "    </tr>\n",
       "    <tr>\n",
       "      <th>top</th>\n",
       "      <td>Dec 31, 2014</td>\n",
       "      <td>King Kong</td>\n",
       "      <td>$20,000,000</td>\n",
       "      <td>$0</td>\n",
       "      <td>$0</td>\n",
       "    </tr>\n",
       "    <tr>\n",
       "      <th>freq</th>\n",
       "      <td>24</td>\n",
       "      <td>3</td>\n",
       "      <td>231</td>\n",
       "      <td>548</td>\n",
       "      <td>367</td>\n",
       "    </tr>\n",
       "  </tbody>\n",
       "</table>\n",
       "</div>"
      ],
      "text/plain": [
       "        release_date      movie production_budget domestic_gross  \\\n",
       "count           5782       5782              5782           5782   \n",
       "unique          2418       5698               509           5164   \n",
       "top     Dec 31, 2014  King Kong       $20,000,000             $0   \n",
       "freq              24          3               231            548   \n",
       "\n",
       "       worldwide_gross  \n",
       "count             5782  \n",
       "unique            5356  \n",
       "top                 $0  \n",
       "freq               367  "
      ]
     },
     "execution_count": 16,
     "metadata": {},
     "output_type": "execute_result"
    }
   ],
   "source": [
    "df5.describe()"
   ]
  },
  {
   "cell_type": "markdown",
   "metadata": {},
   "source": [
    "#### 6. Dataset im.db.zip\n"
   ]
  },
  {
   "cell_type": "code",
   "execution_count": 17,
   "metadata": {},
   "outputs": [],
   "source": [
    "import sqlite3\n",
    "import zipfile\n",
    "import os"
   ]
  },
  {
   "cell_type": "code",
   "execution_count": 18,
   "metadata": {},
   "outputs": [],
   "source": [
    "#define the path \n",
    "file_path = '../zippedData/im.db.zip'\n",
    "# Directory where you want to extract the files\n",
    "extraction_path = '../zippedData/' \n",
    " # Name of the extracted database file\n",
    "db_name = 'im.db'  \n",
    "#unzipping the files\n",
    "with zipfile.ZipFile(file_path, 'r') as zip_ref:\n",
    "    zip_ref.extractall(extraction_path)"
   ]
  },
  {
   "cell_type": "code",
   "execution_count": 19,
   "metadata": {},
   "outputs": [
    {
     "name": "stdout",
     "output_type": "stream",
     "text": [
      "Tables in the database: [('movie_basics',), ('directors',), ('known_for',), ('movie_akas',), ('movie_ratings',), ('persons',), ('principals',), ('writers',)]\n"
     ]
    }
   ],
   "source": [
    "#connecting to the sqlite database\n",
    "db_file_path = os.path.join(extraction_path, db_name)\n",
    "\n",
    "# Connect to the SQLite database\n",
    "conn = sqlite3.connect(db_file_path)\n",
    "cursor = conn.cursor()\n",
    "\n",
    "# Example query: Get the list of tables\n",
    "cursor.execute(\"SELECT name FROM sqlite_master WHERE type='table';\")\n",
    "tables = cursor.fetchall()\n",
    "\n",
    "# Print the list of tables\n",
    "print(\"Tables in the database:\", tables)"
   ]
  },
  {
   "cell_type": "markdown",
   "metadata": {},
   "source": [
    "#### Dataset size and information\n",
    "The dataset is a database that contains tables movie_basics, directors, known_for, movie_akas, movie_rating, persons, principals and writers.\n",
    "\n",
    "The relevant tables are movie_basics and movie_ratings for this project.\n",
    "\n",
    "The movie_basics table has a total of 6 columns and 146144 rows as shown below.\n",
    "\n",
    "The columns include movie_id, primary_title, original_title, start_year, runtime_minutes and genres.\n",
    "\n",
    "The movie_ratings table has a total of 3 columns and 73856 rows.\n",
    "\n",
    "The columns include movie_id, average rating and number of votes."
   ]
  },
  {
   "cell_type": "code",
   "execution_count": 20,
   "metadata": {},
   "outputs": [
    {
     "data": {
      "text/html": [
       "<div>\n",
       "<style scoped>\n",
       "    .dataframe tbody tr th:only-of-type {\n",
       "        vertical-align: middle;\n",
       "    }\n",
       "\n",
       "    .dataframe tbody tr th {\n",
       "        vertical-align: top;\n",
       "    }\n",
       "\n",
       "    .dataframe thead th {\n",
       "        text-align: right;\n",
       "    }\n",
       "</style>\n",
       "<table border=\"1\" class=\"dataframe\">\n",
       "  <thead>\n",
       "    <tr style=\"text-align: right;\">\n",
       "      <th></th>\n",
       "      <th>movie_id</th>\n",
       "      <th>primary_title</th>\n",
       "      <th>original_title</th>\n",
       "      <th>start_year</th>\n",
       "      <th>runtime_minutes</th>\n",
       "      <th>genres</th>\n",
       "    </tr>\n",
       "  </thead>\n",
       "  <tbody>\n",
       "    <tr>\n",
       "      <th>0</th>\n",
       "      <td>tt0063540</td>\n",
       "      <td>Sunghursh</td>\n",
       "      <td>Sunghursh</td>\n",
       "      <td>2013</td>\n",
       "      <td>175.0</td>\n",
       "      <td>Action,Crime,Drama</td>\n",
       "    </tr>\n",
       "    <tr>\n",
       "      <th>1</th>\n",
       "      <td>tt0066787</td>\n",
       "      <td>One Day Before the Rainy Season</td>\n",
       "      <td>Ashad Ka Ek Din</td>\n",
       "      <td>2019</td>\n",
       "      <td>114.0</td>\n",
       "      <td>Biography,Drama</td>\n",
       "    </tr>\n",
       "    <tr>\n",
       "      <th>2</th>\n",
       "      <td>tt0069049</td>\n",
       "      <td>The Other Side of the Wind</td>\n",
       "      <td>The Other Side of the Wind</td>\n",
       "      <td>2018</td>\n",
       "      <td>122.0</td>\n",
       "      <td>Drama</td>\n",
       "    </tr>\n",
       "    <tr>\n",
       "      <th>3</th>\n",
       "      <td>tt0069204</td>\n",
       "      <td>Sabse Bada Sukh</td>\n",
       "      <td>Sabse Bada Sukh</td>\n",
       "      <td>2018</td>\n",
       "      <td>NaN</td>\n",
       "      <td>Comedy,Drama</td>\n",
       "    </tr>\n",
       "    <tr>\n",
       "      <th>4</th>\n",
       "      <td>tt0100275</td>\n",
       "      <td>The Wandering Soap Opera</td>\n",
       "      <td>La Telenovela Errante</td>\n",
       "      <td>2017</td>\n",
       "      <td>80.0</td>\n",
       "      <td>Comedy,Drama,Fantasy</td>\n",
       "    </tr>\n",
       "    <tr>\n",
       "      <th>...</th>\n",
       "      <td>...</td>\n",
       "      <td>...</td>\n",
       "      <td>...</td>\n",
       "      <td>...</td>\n",
       "      <td>...</td>\n",
       "      <td>...</td>\n",
       "    </tr>\n",
       "    <tr>\n",
       "      <th>146139</th>\n",
       "      <td>tt9916538</td>\n",
       "      <td>Kuambil Lagi Hatiku</td>\n",
       "      <td>Kuambil Lagi Hatiku</td>\n",
       "      <td>2019</td>\n",
       "      <td>123.0</td>\n",
       "      <td>Drama</td>\n",
       "    </tr>\n",
       "    <tr>\n",
       "      <th>146140</th>\n",
       "      <td>tt9916622</td>\n",
       "      <td>Rodolpho Teóphilo - O Legado de um Pioneiro</td>\n",
       "      <td>Rodolpho Teóphilo - O Legado de um Pioneiro</td>\n",
       "      <td>2015</td>\n",
       "      <td>NaN</td>\n",
       "      <td>Documentary</td>\n",
       "    </tr>\n",
       "    <tr>\n",
       "      <th>146141</th>\n",
       "      <td>tt9916706</td>\n",
       "      <td>Dankyavar Danka</td>\n",
       "      <td>Dankyavar Danka</td>\n",
       "      <td>2013</td>\n",
       "      <td>NaN</td>\n",
       "      <td>Comedy</td>\n",
       "    </tr>\n",
       "    <tr>\n",
       "      <th>146142</th>\n",
       "      <td>tt9916730</td>\n",
       "      <td>6 Gunn</td>\n",
       "      <td>6 Gunn</td>\n",
       "      <td>2017</td>\n",
       "      <td>116.0</td>\n",
       "      <td>None</td>\n",
       "    </tr>\n",
       "    <tr>\n",
       "      <th>146143</th>\n",
       "      <td>tt9916754</td>\n",
       "      <td>Chico Albuquerque - Revelações</td>\n",
       "      <td>Chico Albuquerque - Revelações</td>\n",
       "      <td>2013</td>\n",
       "      <td>NaN</td>\n",
       "      <td>Documentary</td>\n",
       "    </tr>\n",
       "  </tbody>\n",
       "</table>\n",
       "<p>146144 rows × 6 columns</p>\n",
       "</div>"
      ],
      "text/plain": [
       "         movie_id                                primary_title  \\\n",
       "0       tt0063540                                    Sunghursh   \n",
       "1       tt0066787              One Day Before the Rainy Season   \n",
       "2       tt0069049                   The Other Side of the Wind   \n",
       "3       tt0069204                              Sabse Bada Sukh   \n",
       "4       tt0100275                     The Wandering Soap Opera   \n",
       "...           ...                                          ...   \n",
       "146139  tt9916538                          Kuambil Lagi Hatiku   \n",
       "146140  tt9916622  Rodolpho Teóphilo - O Legado de um Pioneiro   \n",
       "146141  tt9916706                              Dankyavar Danka   \n",
       "146142  tt9916730                                       6 Gunn   \n",
       "146143  tt9916754               Chico Albuquerque - Revelações   \n",
       "\n",
       "                                     original_title  start_year  \\\n",
       "0                                         Sunghursh        2013   \n",
       "1                                   Ashad Ka Ek Din        2019   \n",
       "2                        The Other Side of the Wind        2018   \n",
       "3                                   Sabse Bada Sukh        2018   \n",
       "4                             La Telenovela Errante        2017   \n",
       "...                                             ...         ...   \n",
       "146139                          Kuambil Lagi Hatiku        2019   \n",
       "146140  Rodolpho Teóphilo - O Legado de um Pioneiro        2015   \n",
       "146141                              Dankyavar Danka        2013   \n",
       "146142                                       6 Gunn        2017   \n",
       "146143               Chico Albuquerque - Revelações        2013   \n",
       "\n",
       "        runtime_minutes                genres  \n",
       "0                 175.0    Action,Crime,Drama  \n",
       "1                 114.0       Biography,Drama  \n",
       "2                 122.0                 Drama  \n",
       "3                   NaN          Comedy,Drama  \n",
       "4                  80.0  Comedy,Drama,Fantasy  \n",
       "...                 ...                   ...  \n",
       "146139            123.0                 Drama  \n",
       "146140              NaN           Documentary  \n",
       "146141              NaN                Comedy  \n",
       "146142            116.0                  None  \n",
       "146143              NaN           Documentary  \n",
       "\n",
       "[146144 rows x 6 columns]"
      ]
     },
     "execution_count": 20,
     "metadata": {},
     "output_type": "execute_result"
    }
   ],
   "source": [
    "table_name_basics = \"\"\"SELECT *\n",
    "                      FROM movie_basics\n",
    "                      ;\"\"\"\n",
    "\n",
    "pd.read_sql(table_name_basics, conn)"
   ]
  },
  {
   "cell_type": "code",
   "execution_count": 21,
   "metadata": {},
   "outputs": [
    {
     "data": {
      "text/html": [
       "<div>\n",
       "<style scoped>\n",
       "    .dataframe tbody tr th:only-of-type {\n",
       "        vertical-align: middle;\n",
       "    }\n",
       "\n",
       "    .dataframe tbody tr th {\n",
       "        vertical-align: top;\n",
       "    }\n",
       "\n",
       "    .dataframe thead th {\n",
       "        text-align: right;\n",
       "    }\n",
       "</style>\n",
       "<table border=\"1\" class=\"dataframe\">\n",
       "  <thead>\n",
       "    <tr style=\"text-align: right;\">\n",
       "      <th></th>\n",
       "      <th>movie_id</th>\n",
       "      <th>averagerating</th>\n",
       "      <th>numvotes</th>\n",
       "    </tr>\n",
       "  </thead>\n",
       "  <tbody>\n",
       "    <tr>\n",
       "      <th>0</th>\n",
       "      <td>tt10356526</td>\n",
       "      <td>8.3</td>\n",
       "      <td>31</td>\n",
       "    </tr>\n",
       "    <tr>\n",
       "      <th>1</th>\n",
       "      <td>tt10384606</td>\n",
       "      <td>8.9</td>\n",
       "      <td>559</td>\n",
       "    </tr>\n",
       "    <tr>\n",
       "      <th>2</th>\n",
       "      <td>tt1042974</td>\n",
       "      <td>6.4</td>\n",
       "      <td>20</td>\n",
       "    </tr>\n",
       "    <tr>\n",
       "      <th>3</th>\n",
       "      <td>tt1043726</td>\n",
       "      <td>4.2</td>\n",
       "      <td>50352</td>\n",
       "    </tr>\n",
       "    <tr>\n",
       "      <th>4</th>\n",
       "      <td>tt1060240</td>\n",
       "      <td>6.5</td>\n",
       "      <td>21</td>\n",
       "    </tr>\n",
       "    <tr>\n",
       "      <th>...</th>\n",
       "      <td>...</td>\n",
       "      <td>...</td>\n",
       "      <td>...</td>\n",
       "    </tr>\n",
       "    <tr>\n",
       "      <th>73851</th>\n",
       "      <td>tt9805820</td>\n",
       "      <td>8.1</td>\n",
       "      <td>25</td>\n",
       "    </tr>\n",
       "    <tr>\n",
       "      <th>73852</th>\n",
       "      <td>tt9844256</td>\n",
       "      <td>7.5</td>\n",
       "      <td>24</td>\n",
       "    </tr>\n",
       "    <tr>\n",
       "      <th>73853</th>\n",
       "      <td>tt9851050</td>\n",
       "      <td>4.7</td>\n",
       "      <td>14</td>\n",
       "    </tr>\n",
       "    <tr>\n",
       "      <th>73854</th>\n",
       "      <td>tt9886934</td>\n",
       "      <td>7.0</td>\n",
       "      <td>5</td>\n",
       "    </tr>\n",
       "    <tr>\n",
       "      <th>73855</th>\n",
       "      <td>tt9894098</td>\n",
       "      <td>6.3</td>\n",
       "      <td>128</td>\n",
       "    </tr>\n",
       "  </tbody>\n",
       "</table>\n",
       "<p>73856 rows × 3 columns</p>\n",
       "</div>"
      ],
      "text/plain": [
       "         movie_id  averagerating  numvotes\n",
       "0      tt10356526            8.3        31\n",
       "1      tt10384606            8.9       559\n",
       "2       tt1042974            6.4        20\n",
       "3       tt1043726            4.2     50352\n",
       "4       tt1060240            6.5        21\n",
       "...           ...            ...       ...\n",
       "73851   tt9805820            8.1        25\n",
       "73852   tt9844256            7.5        24\n",
       "73853   tt9851050            4.7        14\n",
       "73854   tt9886934            7.0         5\n",
       "73855   tt9894098            6.3       128\n",
       "\n",
       "[73856 rows x 3 columns]"
      ]
     },
     "execution_count": 21,
     "metadata": {},
     "output_type": "execute_result"
    }
   ],
   "source": [
    "table_name_rating = \"\"\"SELECT *\n",
    "                      FROM movie_ratings\n",
    "                      ;\"\"\"\n",
    "\n",
    "pd.read_sql(table_name_rating, conn)"
   ]
  },
  {
   "cell_type": "markdown",
   "metadata": {},
   "source": [
    "### Justification for feature inclusion\n",
    "From the analysis of the 6 datasets we decided to use 3 out of the 6 datasets.\n",
    "These datasets include:\n",
    "\n",
    " - Dataset tmdb.movies.csv.gz\n",
    " - Dataset tn.movie_budgets.csv.gz\n",
    " -  Dataset im.db.zip\n",
    "These datasets contained the features needed for the analysis and understanding of our project.\n",
    "\n",
    "These feature include:\n",
    "\n",
    "- vote count, rating and popularity - this feature is essential for this project as through vote count and rating we can be able to identify which films are popular among the audience this can be seen through database tmbd.movies.csv.gz\n",
    "\n",
    "- Budget - This is essential for the project as it allows us to understand the relationship between production budget and revenue to know how much profit and loss the movie studio has incurred. This feature is found in the dataset tn.movie_budgets.csv.gz\n",
    "\n",
    "- Revenue - It is the main indicator that shows us the financial success the movie has made or the financial loss the movie has made when it is compared to the budget. \n",
    "\n",
    "Revenue can be domestic gross which is revenue income from a certain region or country or world-wide gross which is revenue generated across the globe. This feature is found in the dataset tn.movie_budgets.csv.gz\n",
    "\n",
    "- Genres - This feature enables us to identify which movie genre is popular and successful in the box office based on its average rating and number of votes made by the audience. This feature is found in the dataset im.db.zip"
   ]
  },
  {
   "cell_type": "markdown",
   "metadata": {},
   "source": [
    "### Limitations\n",
    "- Missing values - some features may contain missing values that may affect the analysis of the data.\n",
    "- NAN values - Some key features in the dataset may contain NAN values that might reduce the accuracy of the analysis and may cause errors during analysis if not acted upon.\n",
    "- NULL values\n",
    "- Duplicated values \n"
   ]
  },
  {
   "cell_type": "markdown",
   "metadata": {},
   "source": [
    "## Data Preparation\n",
    "\n",
    "Under this section, we will go each chosen dataset and clean in preparation for analysis.\n",
    "\n",
    "Cleaning of a dataset is very crucial to maintain accuracy as it removes errors and inconsistencies that may cause issues during analysis.\n",
    "\n",
    "Another reason is to maintain consistency and efficiency of the data.\n",
    "\n",
    "We would also want to maintain the integrity of our data.\n",
    "\n",
    "Doing so, we will be looking mainly for missing values, NAN values, duplicate values and dropping unecessary columns that could affect our accuracy during analysis.\n",
    "\n",
    "Pandas library will be used as tool to clean the selected datasets.\n"
   ]
  },
  {
   "cell_type": "markdown",
   "metadata": {},
   "source": [
    "### Handling Missing values\n",
    "In data preparation we handle missing values to maintain the integrity of our data, accuracy to ensure our data is not biased and consistency to make it easier for analysis.\n",
    "\n",
    "In this subsection, missing values will be handled by:\n",
    "- Identifying the number of missing values in each column of each dataset.\n"
   ]
  },
  {
   "cell_type": "markdown",
   "metadata": {},
   "source": [
    "#### Identifying missing values in dataset tmdb.movies.csv.gz"
   ]
  },
  {
   "cell_type": "code",
   "execution_count": 22,
   "metadata": {},
   "outputs": [
    {
     "data": {
      "text/plain": [
       "genre_ids            0\n",
       "id                   0\n",
       "original_language    0\n",
       "original_title       0\n",
       "popularity           0\n",
       "release_date         0\n",
       "title                0\n",
       "vote_average         0\n",
       "vote_count           0\n",
       "dtype: int64"
      ]
     },
     "execution_count": 22,
     "metadata": {},
     "output_type": "execute_result"
    }
   ],
   "source": [
    "#identifying the number of missing values\n",
    "df4.isnull().sum()"
   ]
  },
  {
   "cell_type": "markdown",
   "metadata": {},
   "source": [
    "Outcome shows dataset tmdb.movies.csv.gz has no missing values."
   ]
  },
  {
   "cell_type": "markdown",
   "metadata": {},
   "source": [
    "#### Identifying missing values in dataset tn.movie_budgets.csv.gz"
   ]
  },
  {
   "cell_type": "code",
   "execution_count": 23,
   "metadata": {},
   "outputs": [
    {
     "data": {
      "text/plain": [
       "release_date         0\n",
       "movie                0\n",
       "production_budget    0\n",
       "domestic_gross       0\n",
       "worldwide_gross      0\n",
       "dtype: int64"
      ]
     },
     "execution_count": 23,
     "metadata": {},
     "output_type": "execute_result"
    }
   ],
   "source": [
    "#identifying missing values \n",
    "df5.isnull().sum()"
   ]
  },
  {
   "cell_type": "markdown",
   "metadata": {},
   "source": [
    "Results shows dataset tn.movie_budgets.csv.gz has no missing values."
   ]
  },
  {
   "cell_type": "markdown",
   "metadata": {},
   "source": [
    "### Handling NAN Values\n",
    "In this section we will be handling NAN values.\n",
    "\n",
    "It is important to handle NAN values they reduce data quality indicating missing values, affect statistical analysis such as mean and standard deviation which is important during the analysis stage of this project.\n",
    "\n",
    "It also affects visualization which is an important aspect of this project as they lead to misleading and incomplete visualizations.\n",
    "\n",
    "The NAN values will be handled by:\n",
    "- Calculating the percentage of NAN values for each column in each selected dataset."
   ]
  },
  {
   "cell_type": "markdown",
   "metadata": {},
   "source": [
    "#### Calculating the percentage of NAN values for each column in dataset tmdb.movies.csv.gz"
   ]
  },
  {
   "cell_type": "code",
   "execution_count": 24,
   "metadata": {},
   "outputs": [
    {
     "name": "stdout",
     "output_type": "stream",
     "text": [
      "genre_ids            0.0\n",
      "id                   0.0\n",
      "original_language    0.0\n",
      "original_title       0.0\n",
      "popularity           0.0\n",
      "release_date         0.0\n",
      "title                0.0\n",
      "vote_average         0.0\n",
      "vote_count           0.0\n",
      "dtype: float64\n"
     ]
    }
   ],
   "source": [
    "#calculate the percentage of NAN values for each column\n",
    "rows = len(df4)\n",
    "missing = df4.isna().sum()\n",
    "percentage_missing = missing / rows\n",
    "\n",
    "print(percentage_missing)"
   ]
  },
  {
   "cell_type": "markdown",
   "metadata": {},
   "source": [
    "The dataset tmbd.movies.csv.gz has no NAN values"
   ]
  },
  {
   "cell_type": "markdown",
   "metadata": {},
   "source": [
    "#### Calculating the percentage of NAN values for each column in dataset tn.movie_budgets.csv.gz"
   ]
  },
  {
   "cell_type": "code",
   "execution_count": 25,
   "metadata": {},
   "outputs": [
    {
     "name": "stdout",
     "output_type": "stream",
     "text": [
      "release_date         0.0\n",
      "movie                0.0\n",
      "production_budget    0.0\n",
      "domestic_gross       0.0\n",
      "worldwide_gross      0.0\n",
      "dtype: float64\n"
     ]
    }
   ],
   "source": [
    "#calculate the percentage of NAN values for each column\n",
    "rows = len(df5)\n",
    "missing = df5.isna().sum()\n",
    "percentage_missing = missing / rows\n",
    "\n",
    "print(percentage_missing)"
   ]
  },
  {
   "cell_type": "markdown",
   "metadata": {},
   "source": [
    "The dataset tn.movies_budgets.csv.gz has no NAN values."
   ]
  },
  {
   "cell_type": "markdown",
   "metadata": {},
   "source": [
    "### Handling NULL Values\n",
    "Since we have database, it is important to check if the database ha NULL values.\n",
    "\n",
    "We check for NULL values to maintain data integrity as NuLL values indicate incomplete or missing values.\n",
    "\n",
    "Maintain accuracy during analysis as NULL values affect accuracy of a model."
   ]
  },
  {
   "cell_type": "markdown",
   "metadata": {},
   "source": [
    "#### Checking for NULL values in the database im.db.zip"
   ]
  },
  {
   "cell_type": "code",
   "execution_count": 26,
   "metadata": {},
   "outputs": [
    {
     "data": {
      "text/html": [
       "<div>\n",
       "<style scoped>\n",
       "    .dataframe tbody tr th:only-of-type {\n",
       "        vertical-align: middle;\n",
       "    }\n",
       "\n",
       "    .dataframe tbody tr th {\n",
       "        vertical-align: top;\n",
       "    }\n",
       "\n",
       "    .dataframe thead th {\n",
       "        text-align: right;\n",
       "    }\n",
       "</style>\n",
       "<table border=\"1\" class=\"dataframe\">\n",
       "  <thead>\n",
       "    <tr style=\"text-align: right;\">\n",
       "      <th></th>\n",
       "      <th>movie_id</th>\n",
       "      <th>primary_title</th>\n",
       "      <th>original_title</th>\n",
       "      <th>start_year</th>\n",
       "      <th>runtime_minutes</th>\n",
       "      <th>genres</th>\n",
       "    </tr>\n",
       "  </thead>\n",
       "  <tbody>\n",
       "  </tbody>\n",
       "</table>\n",
       "</div>"
      ],
      "text/plain": [
       "Empty DataFrame\n",
       "Columns: [movie_id, primary_title, original_title, start_year, runtime_minutes, genres]\n",
       "Index: []"
      ]
     },
     "execution_count": 26,
     "metadata": {},
     "output_type": "execute_result"
    }
   ],
   "source": [
    "table_basics = \"\"\"SELECT *\n",
    "                  FROM movie_basics\n",
    "                  WHERE movie_id IS NULL\n",
    "                  ;\"\"\"\n",
    "\n",
    "pd.read_sql(table_basics, conn)"
   ]
  },
  {
   "cell_type": "code",
   "execution_count": 27,
   "metadata": {},
   "outputs": [
    {
     "data": {
      "text/html": [
       "<div>\n",
       "<style scoped>\n",
       "    .dataframe tbody tr th:only-of-type {\n",
       "        vertical-align: middle;\n",
       "    }\n",
       "\n",
       "    .dataframe tbody tr th {\n",
       "        vertical-align: top;\n",
       "    }\n",
       "\n",
       "    .dataframe thead th {\n",
       "        text-align: right;\n",
       "    }\n",
       "</style>\n",
       "<table border=\"1\" class=\"dataframe\">\n",
       "  <thead>\n",
       "    <tr style=\"text-align: right;\">\n",
       "      <th></th>\n",
       "      <th>movie_id</th>\n",
       "      <th>primary_title</th>\n",
       "      <th>original_title</th>\n",
       "      <th>start_year</th>\n",
       "      <th>runtime_minutes</th>\n",
       "      <th>genres</th>\n",
       "    </tr>\n",
       "  </thead>\n",
       "  <tbody>\n",
       "  </tbody>\n",
       "</table>\n",
       "</div>"
      ],
      "text/plain": [
       "Empty DataFrame\n",
       "Columns: [movie_id, primary_title, original_title, start_year, runtime_minutes, genres]\n",
       "Index: []"
      ]
     },
     "execution_count": 27,
     "metadata": {},
     "output_type": "execute_result"
    }
   ],
   "source": [
    "table_basics = \"\"\"SELECT *\n",
    "                  FROM movie_basics\n",
    "                  WHERE primary_title IS NULL\n",
    "                  ;\"\"\"\n",
    "\n",
    "pd.read_sql(table_basics, conn)"
   ]
  },
  {
   "cell_type": "code",
   "execution_count": 28,
   "metadata": {},
   "outputs": [
    {
     "data": {
      "text/html": [
       "<div>\n",
       "<style scoped>\n",
       "    .dataframe tbody tr th:only-of-type {\n",
       "        vertical-align: middle;\n",
       "    }\n",
       "\n",
       "    .dataframe tbody tr th {\n",
       "        vertical-align: top;\n",
       "    }\n",
       "\n",
       "    .dataframe thead th {\n",
       "        text-align: right;\n",
       "    }\n",
       "</style>\n",
       "<table border=\"1\" class=\"dataframe\">\n",
       "  <thead>\n",
       "    <tr style=\"text-align: right;\">\n",
       "      <th></th>\n",
       "      <th>movie_id</th>\n",
       "      <th>primary_title</th>\n",
       "      <th>original_title</th>\n",
       "      <th>start_year</th>\n",
       "      <th>runtime_minutes</th>\n",
       "      <th>genres</th>\n",
       "    </tr>\n",
       "  </thead>\n",
       "  <tbody>\n",
       "  </tbody>\n",
       "</table>\n",
       "</div>"
      ],
      "text/plain": [
       "Empty DataFrame\n",
       "Columns: [movie_id, primary_title, original_title, start_year, runtime_minutes, genres]\n",
       "Index: []"
      ]
     },
     "execution_count": 28,
     "metadata": {},
     "output_type": "execute_result"
    }
   ],
   "source": [
    "table_basics = \"\"\"SELECT *\n",
    "                  FROM movie_basics\n",
    "                  WHERE start_year IS NULL\n",
    "                  ;\"\"\"\n",
    "\n",
    "pd.read_sql(table_basics, conn)"
   ]
  },
  {
   "cell_type": "code",
   "execution_count": 29,
   "metadata": {},
   "outputs": [
    {
     "data": {
      "text/html": [
       "<div>\n",
       "<style scoped>\n",
       "    .dataframe tbody tr th:only-of-type {\n",
       "        vertical-align: middle;\n",
       "    }\n",
       "\n",
       "    .dataframe tbody tr th {\n",
       "        vertical-align: top;\n",
       "    }\n",
       "\n",
       "    .dataframe thead th {\n",
       "        text-align: right;\n",
       "    }\n",
       "</style>\n",
       "<table border=\"1\" class=\"dataframe\">\n",
       "  <thead>\n",
       "    <tr style=\"text-align: right;\">\n",
       "      <th></th>\n",
       "      <th>genres</th>\n",
       "    </tr>\n",
       "  </thead>\n",
       "  <tbody>\n",
       "    <tr>\n",
       "      <th>0</th>\n",
       "      <td>None</td>\n",
       "    </tr>\n",
       "    <tr>\n",
       "      <th>1</th>\n",
       "      <td>None</td>\n",
       "    </tr>\n",
       "    <tr>\n",
       "      <th>2</th>\n",
       "      <td>None</td>\n",
       "    </tr>\n",
       "    <tr>\n",
       "      <th>3</th>\n",
       "      <td>None</td>\n",
       "    </tr>\n",
       "    <tr>\n",
       "      <th>4</th>\n",
       "      <td>None</td>\n",
       "    </tr>\n",
       "    <tr>\n",
       "      <th>...</th>\n",
       "      <td>...</td>\n",
       "    </tr>\n",
       "    <tr>\n",
       "      <th>5403</th>\n",
       "      <td>None</td>\n",
       "    </tr>\n",
       "    <tr>\n",
       "      <th>5404</th>\n",
       "      <td>None</td>\n",
       "    </tr>\n",
       "    <tr>\n",
       "      <th>5405</th>\n",
       "      <td>None</td>\n",
       "    </tr>\n",
       "    <tr>\n",
       "      <th>5406</th>\n",
       "      <td>None</td>\n",
       "    </tr>\n",
       "    <tr>\n",
       "      <th>5407</th>\n",
       "      <td>None</td>\n",
       "    </tr>\n",
       "  </tbody>\n",
       "</table>\n",
       "<p>5408 rows × 1 columns</p>\n",
       "</div>"
      ],
      "text/plain": [
       "     genres\n",
       "0      None\n",
       "1      None\n",
       "2      None\n",
       "3      None\n",
       "4      None\n",
       "...     ...\n",
       "5403   None\n",
       "5404   None\n",
       "5405   None\n",
       "5406   None\n",
       "5407   None\n",
       "\n",
       "[5408 rows x 1 columns]"
      ]
     },
     "execution_count": 29,
     "metadata": {},
     "output_type": "execute_result"
    }
   ],
   "source": [
    "table_basics = \"\"\"SELECT genres\n",
    "                  FROM movie_basics\n",
    "                  WHERE genres IS NULL\n",
    "                  ;\"\"\"\n",
    "\n",
    "pd.read_sql(table_basics, conn)"
   ]
  },
  {
   "cell_type": "markdown",
   "metadata": {},
   "source": [
    "From the codes above it shows our column movie_id, primary_title and start_year do not have null values, but our main column of focus genres has null values.\n",
    "\n",
    "To handle null values in column genres we will delete the rows that have null values."
   ]
  },
  {
   "cell_type": "code",
   "execution_count": 30,
   "metadata": {},
   "outputs": [
    {
     "data": {
      "text/plain": [
       "<sqlite3.Cursor at 0x1a3f59e1ab0>"
      ]
     },
     "execution_count": 30,
     "metadata": {},
     "output_type": "execute_result"
    }
   ],
   "source": [
    "#deleting null values \n",
    "cursor.execute(\"\"\"\n",
    "    DELETE FROM movie_basics\n",
    "    WHERE genres IS NULL;\n",
    "\"\"\")"
   ]
  },
  {
   "cell_type": "code",
   "execution_count": 31,
   "metadata": {},
   "outputs": [],
   "source": [
    "# Commit the changes\n",
    "conn.commit()"
   ]
  },
  {
   "cell_type": "code",
   "execution_count": 32,
   "metadata": {},
   "outputs": [
    {
     "data": {
      "text/html": [
       "<div>\n",
       "<style scoped>\n",
       "    .dataframe tbody tr th:only-of-type {\n",
       "        vertical-align: middle;\n",
       "    }\n",
       "\n",
       "    .dataframe tbody tr th {\n",
       "        vertical-align: top;\n",
       "    }\n",
       "\n",
       "    .dataframe thead th {\n",
       "        text-align: right;\n",
       "    }\n",
       "</style>\n",
       "<table border=\"1\" class=\"dataframe\">\n",
       "  <thead>\n",
       "    <tr style=\"text-align: right;\">\n",
       "      <th></th>\n",
       "      <th>genres</th>\n",
       "    </tr>\n",
       "  </thead>\n",
       "  <tbody>\n",
       "  </tbody>\n",
       "</table>\n",
       "</div>"
      ],
      "text/plain": [
       "Empty DataFrame\n",
       "Columns: [genres]\n",
       "Index: []"
      ]
     },
     "execution_count": 32,
     "metadata": {},
     "output_type": "execute_result"
    }
   ],
   "source": [
    "table_basics = \"\"\"SELECT genres\n",
    "                  FROM movie_basics\n",
    "                  WHERE genres IS NULL\n",
    "                  ;\"\"\"\n",
    "\n",
    "pd.read_sql(table_basics, conn)\n",
    "\n",
    "#The outcome after deleting the NULL values in column genres."
   ]
  },
  {
   "cell_type": "code",
   "execution_count": 33,
   "metadata": {},
   "outputs": [
    {
     "data": {
      "text/html": [
       "<div>\n",
       "<style scoped>\n",
       "    .dataframe tbody tr th:only-of-type {\n",
       "        vertical-align: middle;\n",
       "    }\n",
       "\n",
       "    .dataframe tbody tr th {\n",
       "        vertical-align: top;\n",
       "    }\n",
       "\n",
       "    .dataframe thead th {\n",
       "        text-align: right;\n",
       "    }\n",
       "</style>\n",
       "<table border=\"1\" class=\"dataframe\">\n",
       "  <thead>\n",
       "    <tr style=\"text-align: right;\">\n",
       "      <th></th>\n",
       "      <th>averagerating</th>\n",
       "    </tr>\n",
       "  </thead>\n",
       "  <tbody>\n",
       "  </tbody>\n",
       "</table>\n",
       "</div>"
      ],
      "text/plain": [
       "Empty DataFrame\n",
       "Columns: [averagerating]\n",
       "Index: []"
      ]
     },
     "execution_count": 33,
     "metadata": {},
     "output_type": "execute_result"
    }
   ],
   "source": [
    "#checking for null values in column averagerating in table movie_ratings\n",
    "table_rating = \"\"\"SELECT averagerating\n",
    "                      FROM movie_ratings\n",
    "                      WHERE averagerating IS NULL\n",
    "                      ;\"\"\"\n",
    "\n",
    "pd.read_sql(table_rating, conn)"
   ]
  },
  {
   "cell_type": "code",
   "execution_count": 34,
   "metadata": {},
   "outputs": [
    {
     "data": {
      "text/html": [
       "<div>\n",
       "<style scoped>\n",
       "    .dataframe tbody tr th:only-of-type {\n",
       "        vertical-align: middle;\n",
       "    }\n",
       "\n",
       "    .dataframe tbody tr th {\n",
       "        vertical-align: top;\n",
       "    }\n",
       "\n",
       "    .dataframe thead th {\n",
       "        text-align: right;\n",
       "    }\n",
       "</style>\n",
       "<table border=\"1\" class=\"dataframe\">\n",
       "  <thead>\n",
       "    <tr style=\"text-align: right;\">\n",
       "      <th></th>\n",
       "      <th>numvotes</th>\n",
       "    </tr>\n",
       "  </thead>\n",
       "  <tbody>\n",
       "  </tbody>\n",
       "</table>\n",
       "</div>"
      ],
      "text/plain": [
       "Empty DataFrame\n",
       "Columns: [numvotes]\n",
       "Index: []"
      ]
     },
     "execution_count": 34,
     "metadata": {},
     "output_type": "execute_result"
    }
   ],
   "source": [
    "#checking for null values in column numvotes in table movie_ratings\n",
    "table_rating = \"\"\"SELECT numvotes\n",
    "                      FROM movie_ratings\n",
    "                      WHERE numvotes IS NULL\n",
    "                      ;\"\"\"\n",
    "\n",
    "pd.read_sql(table_rating, conn)\n"
   ]
  },
  {
   "cell_type": "markdown",
   "metadata": {},
   "source": [
    "From the codes above columns average rating and numvotes from table movie_rating do not have null values."
   ]
  },
  {
   "cell_type": "markdown",
   "metadata": {},
   "source": [
    "### Handling Duplicated values\n",
    "\n",
    "We handle duplicated values to maintain accuracy during analysis especially during statistical analysis of means, variances and standard deviation.\n",
    "\n",
    "We also handle duplicates to maintain data consistency and integrity.\n",
    "\n",
    "\n"
   ]
  },
  {
   "cell_type": "markdown",
   "metadata": {},
   "source": [
    "#### Checking for duplicated values in dataset tmdb.movies.csv.gz"
   ]
  },
  {
   "cell_type": "code",
   "execution_count": 35,
   "metadata": {},
   "outputs": [
    {
     "data": {
      "text/html": [
       "<div>\n",
       "<style scoped>\n",
       "    .dataframe tbody tr th:only-of-type {\n",
       "        vertical-align: middle;\n",
       "    }\n",
       "\n",
       "    .dataframe tbody tr th {\n",
       "        vertical-align: top;\n",
       "    }\n",
       "\n",
       "    .dataframe thead th {\n",
       "        text-align: right;\n",
       "    }\n",
       "</style>\n",
       "<table border=\"1\" class=\"dataframe\">\n",
       "  <thead>\n",
       "    <tr style=\"text-align: right;\">\n",
       "      <th></th>\n",
       "      <th>genre_ids</th>\n",
       "      <th>id</th>\n",
       "      <th>original_language</th>\n",
       "      <th>original_title</th>\n",
       "      <th>popularity</th>\n",
       "      <th>release_date</th>\n",
       "      <th>title</th>\n",
       "      <th>vote_average</th>\n",
       "      <th>vote_count</th>\n",
       "    </tr>\n",
       "  </thead>\n",
       "  <tbody>\n",
       "    <tr>\n",
       "      <th>2473</th>\n",
       "      <td>[16, 35, 10751]</td>\n",
       "      <td>862</td>\n",
       "      <td>en</td>\n",
       "      <td>Toy Story</td>\n",
       "      <td>28.005</td>\n",
       "      <td>1995-11-22</td>\n",
       "      <td>Toy Story</td>\n",
       "      <td>7.9</td>\n",
       "      <td>10174</td>\n",
       "    </tr>\n",
       "    <tr>\n",
       "      <th>2477</th>\n",
       "      <td>[16, 35, 10751]</td>\n",
       "      <td>863</td>\n",
       "      <td>en</td>\n",
       "      <td>Toy Story 2</td>\n",
       "      <td>22.698</td>\n",
       "      <td>1999-11-24</td>\n",
       "      <td>Toy Story 2</td>\n",
       "      <td>7.5</td>\n",
       "      <td>7553</td>\n",
       "    </tr>\n",
       "    <tr>\n",
       "      <th>2536</th>\n",
       "      <td>[12, 28, 878]</td>\n",
       "      <td>20526</td>\n",
       "      <td>en</td>\n",
       "      <td>TRON: Legacy</td>\n",
       "      <td>13.459</td>\n",
       "      <td>2010-12-10</td>\n",
       "      <td>TRON: Legacy</td>\n",
       "      <td>6.3</td>\n",
       "      <td>4387</td>\n",
       "    </tr>\n",
       "    <tr>\n",
       "      <th>2673</th>\n",
       "      <td>[18, 10749]</td>\n",
       "      <td>46705</td>\n",
       "      <td>en</td>\n",
       "      <td>Blue Valentine</td>\n",
       "      <td>8.994</td>\n",
       "      <td>2010-12-29</td>\n",
       "      <td>Blue Valentine</td>\n",
       "      <td>6.9</td>\n",
       "      <td>1677</td>\n",
       "    </tr>\n",
       "    <tr>\n",
       "      <th>2717</th>\n",
       "      <td>[35, 18, 14, 27, 9648]</td>\n",
       "      <td>45649</td>\n",
       "      <td>en</td>\n",
       "      <td>Rubber</td>\n",
       "      <td>8.319</td>\n",
       "      <td>2010-09-01</td>\n",
       "      <td>Rubber</td>\n",
       "      <td>5.9</td>\n",
       "      <td>417</td>\n",
       "    </tr>\n",
       "    <tr>\n",
       "      <th>...</th>\n",
       "      <td>...</td>\n",
       "      <td>...</td>\n",
       "      <td>...</td>\n",
       "      <td>...</td>\n",
       "      <td>...</td>\n",
       "      <td>...</td>\n",
       "      <td>...</td>\n",
       "      <td>...</td>\n",
       "      <td>...</td>\n",
       "    </tr>\n",
       "    <tr>\n",
       "      <th>26481</th>\n",
       "      <td>[35, 18]</td>\n",
       "      <td>270805</td>\n",
       "      <td>en</td>\n",
       "      <td>Summer League</td>\n",
       "      <td>0.600</td>\n",
       "      <td>2013-03-18</td>\n",
       "      <td>Summer League</td>\n",
       "      <td>4.0</td>\n",
       "      <td>3</td>\n",
       "    </tr>\n",
       "    <tr>\n",
       "      <th>26485</th>\n",
       "      <td>[27, 53]</td>\n",
       "      <td>453259</td>\n",
       "      <td>en</td>\n",
       "      <td>Devils in the Darkness</td>\n",
       "      <td>0.600</td>\n",
       "      <td>2013-05-15</td>\n",
       "      <td>Devils in the Darkness</td>\n",
       "      <td>3.5</td>\n",
       "      <td>1</td>\n",
       "    </tr>\n",
       "    <tr>\n",
       "      <th>26504</th>\n",
       "      <td>[27, 35, 27]</td>\n",
       "      <td>534282</td>\n",
       "      <td>en</td>\n",
       "      <td>Head</td>\n",
       "      <td>0.600</td>\n",
       "      <td>2015-03-28</td>\n",
       "      <td>Head</td>\n",
       "      <td>1.0</td>\n",
       "      <td>1</td>\n",
       "    </tr>\n",
       "    <tr>\n",
       "      <th>26510</th>\n",
       "      <td>[99]</td>\n",
       "      <td>495045</td>\n",
       "      <td>en</td>\n",
       "      <td>Fail State</td>\n",
       "      <td>0.600</td>\n",
       "      <td>2018-10-19</td>\n",
       "      <td>Fail State</td>\n",
       "      <td>0.0</td>\n",
       "      <td>1</td>\n",
       "    </tr>\n",
       "    <tr>\n",
       "      <th>26511</th>\n",
       "      <td>[99]</td>\n",
       "      <td>492837</td>\n",
       "      <td>en</td>\n",
       "      <td>Making Filmmakers</td>\n",
       "      <td>0.600</td>\n",
       "      <td>2018-04-07</td>\n",
       "      <td>Making Filmmakers</td>\n",
       "      <td>0.0</td>\n",
       "      <td>1</td>\n",
       "    </tr>\n",
       "  </tbody>\n",
       "</table>\n",
       "<p>1020 rows × 9 columns</p>\n",
       "</div>"
      ],
      "text/plain": [
       "                    genre_ids      id original_language  \\\n",
       "2473          [16, 35, 10751]     862                en   \n",
       "2477          [16, 35, 10751]     863                en   \n",
       "2536            [12, 28, 878]   20526                en   \n",
       "2673              [18, 10749]   46705                en   \n",
       "2717   [35, 18, 14, 27, 9648]   45649                en   \n",
       "...                       ...     ...               ...   \n",
       "26481                [35, 18]  270805                en   \n",
       "26485                [27, 53]  453259                en   \n",
       "26504            [27, 35, 27]  534282                en   \n",
       "26510                    [99]  495045                en   \n",
       "26511                    [99]  492837                en   \n",
       "\n",
       "               original_title  popularity release_date  \\\n",
       "2473                Toy Story      28.005   1995-11-22   \n",
       "2477              Toy Story 2      22.698   1999-11-24   \n",
       "2536             TRON: Legacy      13.459   2010-12-10   \n",
       "2673           Blue Valentine       8.994   2010-12-29   \n",
       "2717                   Rubber       8.319   2010-09-01   \n",
       "...                       ...         ...          ...   \n",
       "26481           Summer League       0.600   2013-03-18   \n",
       "26485  Devils in the Darkness       0.600   2013-05-15   \n",
       "26504                    Head       0.600   2015-03-28   \n",
       "26510              Fail State       0.600   2018-10-19   \n",
       "26511       Making Filmmakers       0.600   2018-04-07   \n",
       "\n",
       "                        title  vote_average  vote_count  \n",
       "2473                Toy Story           7.9       10174  \n",
       "2477              Toy Story 2           7.5        7553  \n",
       "2536             TRON: Legacy           6.3        4387  \n",
       "2673           Blue Valentine           6.9        1677  \n",
       "2717                   Rubber           5.9         417  \n",
       "...                       ...           ...         ...  \n",
       "26481           Summer League           4.0           3  \n",
       "26485  Devils in the Darkness           3.5           1  \n",
       "26504                    Head           1.0           1  \n",
       "26510              Fail State           0.0           1  \n",
       "26511       Making Filmmakers           0.0           1  \n",
       "\n",
       "[1020 rows x 9 columns]"
      ]
     },
     "execution_count": 35,
     "metadata": {},
     "output_type": "execute_result"
    }
   ],
   "source": [
    "#Checking for duplicated values\n",
    "duplicate1 = df4[df4.duplicated()]\n",
    "\n",
    "duplicate1"
   ]
  },
  {
   "cell_type": "markdown",
   "metadata": {},
   "source": [
    "Outcome is that dataset tmdb.movies.csv.gz has no duplicated values."
   ]
  },
  {
   "cell_type": "markdown",
   "metadata": {},
   "source": [
    "##### Checking for duplicated values in dataset tn.movie_budgets.csv.gz"
   ]
  },
  {
   "cell_type": "code",
   "execution_count": 36,
   "metadata": {},
   "outputs": [
    {
     "data": {
      "text/html": [
       "<div>\n",
       "<style scoped>\n",
       "    .dataframe tbody tr th:only-of-type {\n",
       "        vertical-align: middle;\n",
       "    }\n",
       "\n",
       "    .dataframe tbody tr th {\n",
       "        vertical-align: top;\n",
       "    }\n",
       "\n",
       "    .dataframe thead th {\n",
       "        text-align: right;\n",
       "    }\n",
       "</style>\n",
       "<table border=\"1\" class=\"dataframe\">\n",
       "  <thead>\n",
       "    <tr style=\"text-align: right;\">\n",
       "      <th></th>\n",
       "      <th>release_date</th>\n",
       "      <th>movie</th>\n",
       "      <th>production_budget</th>\n",
       "      <th>domestic_gross</th>\n",
       "      <th>worldwide_gross</th>\n",
       "    </tr>\n",
       "    <tr>\n",
       "      <th>id</th>\n",
       "      <th></th>\n",
       "      <th></th>\n",
       "      <th></th>\n",
       "      <th></th>\n",
       "      <th></th>\n",
       "    </tr>\n",
       "  </thead>\n",
       "  <tbody>\n",
       "  </tbody>\n",
       "</table>\n",
       "</div>"
      ],
      "text/plain": [
       "Empty DataFrame\n",
       "Columns: [release_date, movie, production_budget, domestic_gross, worldwide_gross]\n",
       "Index: []"
      ]
     },
     "execution_count": 36,
     "metadata": {},
     "output_type": "execute_result"
    }
   ],
   "source": [
    "duplicate2 = df5[df5.duplicated()]\n",
    "\n",
    "duplicate2"
   ]
  },
  {
   "cell_type": "markdown",
   "metadata": {},
   "source": [
    "Outcome shows that dataset tn.movie_budgets.csv.gz has no duplicated values."
   ]
  },
  {
   "cell_type": "markdown",
   "metadata": {},
   "source": [
    "## Data Analysis\n",
    "In this section we will be applying statistical measures and logical techniques to evaluate and analyze data.\n",
    "\n",
    "The chosen datasets specific for this project include tn.movie_budgets.csv.gz, tmdb.movies.csv.gz and database im.db.zip.\n",
    "\n",
    "Each of these datasets will be analyzed through various methods such as hypothesis testing and linear regression.\n",
    "\n",
    "Our recommendations in this case is what we stated under our business  goals, to help understand and implement ways in which each stakeholder can take the movie studio a successs. \n",
    "\n",
    "Our findings will be the results achieved after analysis.\n",
    "\n",
    "These methods will help us create findings to our business problem and use our analysis and findings as recommendations to our business problem.\n",
    "\n",
    "We will also be able to explain why our findings support our recommendations and how the recommendations will help the new movie studio succeed.\n"
   ]
  },
  {
   "cell_type": "markdown",
   "metadata": {},
   "source": [
    "### Methods"
   ]
  },
  {
   "cell_type": "markdown",
   "metadata": {},
   "source": [
    "#### 1. Hypothesis testing \n",
    "This is one of the methods that will be used for analysis. Under hypothesis testing, we will be able to analyze each of the datasets to achieve our findings. The findings will be used to explain why it supports our recommendations.\n",
    "\n",
    "In hypothesis testing, we will be defining the null and alternative hypothesis of each of the datasets and concluding if we are able to reject the null hypothesis or if we fail to reject the null hypothesis.\n",
    "\n",
    "Statistical tests such as t_tests, correlation will be used with, p-values and alpha values will be used to help us either reject or fail to reject the null hypothesis.\n",
    "\n",
    "The analysis will be either one-tailed or two-tailed depending on the specific finding.\n",
    "\n",
    "We will be using an alpha value of 0.05.\n"
   ]
  },
  {
   "cell_type": "markdown",
   "metadata": {},
   "source": [
    "##### 1. Dataset tn.movie_budgets.csv.gz\n",
    "Budget vs Revenue is one of our recommendations as listed in our business understanding as way of making our movie studio succeed.\n",
    "\n",
    "Revenue is divided into domestic gross and worldwide gross. These types of revenue generated depends on the production budget used by the movie studio.\n",
    "\n",
    "The production budget used by the movie studio is used by the film and production team to make the movie that fits the audience requirements.\n",
    "\n",
    "The production budget is approved by the company executives and provided by the investors.\n",
    "\n",
    "This dataset has three specific columns that we will be using that is production budget, domestic gross and worldwide gross, we will be using these columns to generate both null and alternative hypothesis to see if production budget is associated with domestic gross and worldwide gross."
   ]
  },
  {
   "cell_type": "markdown",
   "metadata": {},
   "source": [
    "##### Null and Alternative Hypothesis\n",
    "- Null Hypothesis (Ho)\n",
    "\n",
    "The null hypothesis generated between production budget and domestic gross is that there is no relationship between production budget of a movie and the domestic gross generated.\n",
    "\n",
    "This means that changes in production budget whether a high production or not is not associated with the domestic gross generated.\n",
    "\n",
    "The null hypothesis generated between production budget and worldwide gross is that there is no relationship between production budget of a movie and the worldwide gross generated.\n",
    "\n",
    "This means that changes in production budget whether a high production or not is not associated with the worldwide gross generated.\n",
    "\n",
    "- Alternative Hypothesis (H1)\n",
    "\n",
    "The alternative hypothesis generated between production budget and domestic gross is that there is a significant relationship between production budget of a movie and the domestic gross generated.\n",
    "\n",
    "This means that changes in production budget whether a high production or not is associated with the domestic gross generated.\n",
    "\n",
    "The alternative hypothesis generated between production budget and domestic gross is that there is a significant relationship between production budget of a movie and the worldwide gross generated.\n",
    "\n",
    "This means that changes in production budget whether a high production or not is associated with the worldwide gross generated.\n",
    "\n",
    "\n",
    "To get our findings we will use pearson correlation to generate the correlation and the p-value. So that we can be able to either reject or fail to reject our null hypothesis.\n",
    "\n",
    "\n",
    "\n"
   ]
  },
  {
   "cell_type": "code",
   "execution_count": 37,
   "metadata": {},
   "outputs": [
    {
     "data": {
      "text/html": [
       "<div>\n",
       "<style scoped>\n",
       "    .dataframe tbody tr th:only-of-type {\n",
       "        vertical-align: middle;\n",
       "    }\n",
       "\n",
       "    .dataframe tbody tr th {\n",
       "        vertical-align: top;\n",
       "    }\n",
       "\n",
       "    .dataframe thead th {\n",
       "        text-align: right;\n",
       "    }\n",
       "</style>\n",
       "<table border=\"1\" class=\"dataframe\">\n",
       "  <thead>\n",
       "    <tr style=\"text-align: right;\">\n",
       "      <th></th>\n",
       "      <th>release_date</th>\n",
       "      <th>movie</th>\n",
       "      <th>production_budget</th>\n",
       "      <th>domestic_gross</th>\n",
       "      <th>worldwide_gross</th>\n",
       "    </tr>\n",
       "    <tr>\n",
       "      <th>id</th>\n",
       "      <th></th>\n",
       "      <th></th>\n",
       "      <th></th>\n",
       "      <th></th>\n",
       "      <th></th>\n",
       "    </tr>\n",
       "  </thead>\n",
       "  <tbody>\n",
       "    <tr>\n",
       "      <th>1</th>\n",
       "      <td>Dec 18, 2009</td>\n",
       "      <td>Avatar</td>\n",
       "      <td>$425,000,000</td>\n",
       "      <td>$760,507,625</td>\n",
       "      <td>$2,776,345,279</td>\n",
       "    </tr>\n",
       "    <tr>\n",
       "      <th>2</th>\n",
       "      <td>May 20, 2011</td>\n",
       "      <td>Pirates of the Caribbean: On Stranger Tides</td>\n",
       "      <td>$410,600,000</td>\n",
       "      <td>$241,063,875</td>\n",
       "      <td>$1,045,663,875</td>\n",
       "    </tr>\n",
       "    <tr>\n",
       "      <th>3</th>\n",
       "      <td>Jun 7, 2019</td>\n",
       "      <td>Dark Phoenix</td>\n",
       "      <td>$350,000,000</td>\n",
       "      <td>$42,762,350</td>\n",
       "      <td>$149,762,350</td>\n",
       "    </tr>\n",
       "    <tr>\n",
       "      <th>4</th>\n",
       "      <td>May 1, 2015</td>\n",
       "      <td>Avengers: Age of Ultron</td>\n",
       "      <td>$330,600,000</td>\n",
       "      <td>$459,005,868</td>\n",
       "      <td>$1,403,013,963</td>\n",
       "    </tr>\n",
       "    <tr>\n",
       "      <th>5</th>\n",
       "      <td>Dec 15, 2017</td>\n",
       "      <td>Star Wars Ep. VIII: The Last Jedi</td>\n",
       "      <td>$317,000,000</td>\n",
       "      <td>$620,181,382</td>\n",
       "      <td>$1,316,721,747</td>\n",
       "    </tr>\n",
       "  </tbody>\n",
       "</table>\n",
       "</div>"
      ],
      "text/plain": [
       "    release_date                                        movie  \\\n",
       "id                                                              \n",
       "1   Dec 18, 2009                                       Avatar   \n",
       "2   May 20, 2011  Pirates of the Caribbean: On Stranger Tides   \n",
       "3    Jun 7, 2019                                 Dark Phoenix   \n",
       "4    May 1, 2015                      Avengers: Age of Ultron   \n",
       "5   Dec 15, 2017            Star Wars Ep. VIII: The Last Jedi   \n",
       "\n",
       "   production_budget domestic_gross worldwide_gross  \n",
       "id                                                   \n",
       "1       $425,000,000   $760,507,625  $2,776,345,279  \n",
       "2       $410,600,000   $241,063,875  $1,045,663,875  \n",
       "3       $350,000,000    $42,762,350    $149,762,350  \n",
       "4       $330,600,000   $459,005,868  $1,403,013,963  \n",
       "5       $317,000,000   $620,181,382  $1,316,721,747  "
      ]
     },
     "execution_count": 37,
     "metadata": {},
     "output_type": "execute_result"
    }
   ],
   "source": [
    "#specify the file path\n",
    "file_path = '../zippedData/tn.movie_budgets.csv.gz'\n",
    "\n",
    "#open the compressed zip folder\n",
    "with gzip.open(file_path, 'rt') as file:\n",
    "    df5 = pd.read_csv(file, index_col=0)\n",
    "\n",
    "#show the first 5 rows\n",
    "df5.head()\n"
   ]
  },
  {
   "cell_type": "code",
   "execution_count": 38,
   "metadata": {},
   "outputs": [],
   "source": [
    "# import the necessary libraries \n",
    "import scipy.stats as stats\n",
    "import statsmodels.api as sm\n",
    "import matplotlib.pyplot as plt\n",
    "import seaborn as sns\n",
    "import numpy as np"
   ]
  },
  {
   "cell_type": "code",
   "execution_count": 39,
   "metadata": {},
   "outputs": [
    {
     "name": "stdout",
     "output_type": "stream",
     "text": [
      "    release_date                                        movie  \\\n",
      "id                                                              \n",
      "1   Dec 18, 2009                                       Avatar   \n",
      "2   May 20, 2011  Pirates of the Caribbean: On Stranger Tides   \n",
      "3    Jun 7, 2019                                 Dark Phoenix   \n",
      "4    May 1, 2015                      Avengers: Age of Ultron   \n",
      "5   Dec 15, 2017            Star Wars Ep. VIII: The Last Jedi   \n",
      "..           ...                                          ...   \n",
      "78  Dec 31, 2018                                       Red 11   \n",
      "79   Apr 2, 1999                                    Following   \n",
      "80  Jul 13, 2005                Return to the Land of Wonders   \n",
      "81  Sep 29, 2015                         A Plague So Pleasant   \n",
      "82   Aug 5, 2005                            My Date With Drew   \n",
      "\n",
      "    production_budget domestic_gross worldwide_gross  \n",
      "id                                                    \n",
      "1           425000000   $760,507,625  $2,776,345,279  \n",
      "2           410600000   $241,063,875  $1,045,663,875  \n",
      "3           350000000    $42,762,350    $149,762,350  \n",
      "4           330600000   $459,005,868  $1,403,013,963  \n",
      "5           317000000   $620,181,382  $1,316,721,747  \n",
      "..                ...            ...             ...  \n",
      "78               7000             $0              $0  \n",
      "79               6000        $48,482        $240,495  \n",
      "80               5000         $1,338          $1,338  \n",
      "81               1400             $0              $0  \n",
      "82               1100       $181,041        $181,041  \n",
      "\n",
      "[5782 rows x 5 columns]\n"
     ]
    }
   ],
   "source": [
    "#change production buget from string to integer\n",
    "\n",
    "# create a function production_string to convert it to an integer\n",
    "\n",
    "def production_string(money):\n",
    "    #remove the $ and commas\n",
    "    budget = money.replace('$', '').replace(',', '')\n",
    "    #convert variable budget to integer\n",
    "    return int(budget)\n",
    "\n",
    "#apply the conversion to production_budget column\n",
    "df5['production_budget'] = df5['production_budget'].apply(production_string)\n",
    "\n",
    "print(df5)"
   ]
  },
  {
   "cell_type": "code",
   "execution_count": 40,
   "metadata": {},
   "outputs": [
    {
     "name": "stdout",
     "output_type": "stream",
     "text": [
      "    release_date                                        movie  \\\n",
      "id                                                              \n",
      "1   Dec 18, 2009                                       Avatar   \n",
      "2   May 20, 2011  Pirates of the Caribbean: On Stranger Tides   \n",
      "3    Jun 7, 2019                                 Dark Phoenix   \n",
      "4    May 1, 2015                      Avengers: Age of Ultron   \n",
      "5   Dec 15, 2017            Star Wars Ep. VIII: The Last Jedi   \n",
      "..           ...                                          ...   \n",
      "78  Dec 31, 2018                                       Red 11   \n",
      "79   Apr 2, 1999                                    Following   \n",
      "80  Jul 13, 2005                Return to the Land of Wonders   \n",
      "81  Sep 29, 2015                         A Plague So Pleasant   \n",
      "82   Aug 5, 2005                            My Date With Drew   \n",
      "\n",
      "    production_budget  domestic_gross worldwide_gross  \n",
      "id                                                     \n",
      "1           425000000       760507625  $2,776,345,279  \n",
      "2           410600000       241063875  $1,045,663,875  \n",
      "3           350000000        42762350    $149,762,350  \n",
      "4           330600000       459005868  $1,403,013,963  \n",
      "5           317000000       620181382  $1,316,721,747  \n",
      "..                ...             ...             ...  \n",
      "78               7000               0              $0  \n",
      "79               6000           48482        $240,495  \n",
      "80               5000            1338          $1,338  \n",
      "81               1400               0              $0  \n",
      "82               1100          181041        $181,041  \n",
      "\n",
      "[5782 rows x 5 columns]\n"
     ]
    }
   ],
   "source": [
    "#apply the conversion to domestice_gross column from string to integer\n",
    "df5['domestic_gross'] = df5['domestic_gross'].apply(production_string)\n",
    "\n",
    "print(df5)"
   ]
  },
  {
   "cell_type": "code",
   "execution_count": 41,
   "metadata": {},
   "outputs": [
    {
     "name": "stdout",
     "output_type": "stream",
     "text": [
      "    release_date                                        movie  \\\n",
      "id                                                              \n",
      "1   Dec 18, 2009                                       Avatar   \n",
      "2   May 20, 2011  Pirates of the Caribbean: On Stranger Tides   \n",
      "3    Jun 7, 2019                                 Dark Phoenix   \n",
      "4    May 1, 2015                      Avengers: Age of Ultron   \n",
      "5   Dec 15, 2017            Star Wars Ep. VIII: The Last Jedi   \n",
      "..           ...                                          ...   \n",
      "78  Dec 31, 2018                                       Red 11   \n",
      "79   Apr 2, 1999                                    Following   \n",
      "80  Jul 13, 2005                Return to the Land of Wonders   \n",
      "81  Sep 29, 2015                         A Plague So Pleasant   \n",
      "82   Aug 5, 2005                            My Date With Drew   \n",
      "\n",
      "    production_budget  domestic_gross  worldwide_gross  \n",
      "id                                                      \n",
      "1           425000000       760507625       2776345279  \n",
      "2           410600000       241063875       1045663875  \n",
      "3           350000000        42762350        149762350  \n",
      "4           330600000       459005868       1403013963  \n",
      "5           317000000       620181382       1316721747  \n",
      "..                ...             ...              ...  \n",
      "78               7000               0                0  \n",
      "79               6000           48482           240495  \n",
      "80               5000            1338             1338  \n",
      "81               1400               0                0  \n",
      "82               1100          181041           181041  \n",
      "\n",
      "[5782 rows x 5 columns]\n"
     ]
    }
   ],
   "source": [
    "#apply the conversion to worldwide_gross column from string to integer\n",
    "df5['worldwide_gross'] = df5['worldwide_gross'].apply(production_string)\n",
    "\n",
    "print(df5)"
   ]
  },
  {
   "cell_type": "code",
   "execution_count": 42,
   "metadata": {},
   "outputs": [
    {
     "name": "stdout",
     "output_type": "stream",
     "text": [
      "correlation 0.6856818396752732, P-value 0.0, T-statistic 71.61665384013196\n"
     ]
    }
   ],
   "source": [
    "# using pearson correlation to get the correlation and p-value and t-statistic\n",
    "\n",
    "alpha_value = 0.05\n",
    "\n",
    "corr, p_1 = stats.pearsonr(df5['production_budget'], df5['domestic_gross'])\n",
    "\n",
    "#get the t-statistic \n",
    "df_used = df5[['production_budget', 'domestic_gross']]\n",
    "n = len(df_used)\n",
    "t_stat1 = corr * ((n - 2) / (1 - corr**2))**0.5\n",
    "\n",
    "print(f'correlation {corr}, P-value {p_1}, T-statistic {t_stat1}')"
   ]
  },
  {
   "cell_type": "code",
   "execution_count": 43,
   "metadata": {},
   "outputs": [
    {
     "name": "stdout",
     "output_type": "stream",
     "text": [
      "correlation 0.7483059765694755, P-value 0.0, T-statistic 85.7626042752403\n"
     ]
    }
   ],
   "source": [
    "alpha_value = 0.05\n",
    "\n",
    "corr2, p_2 = stats.pearsonr(df5['production_budget'], df5['worldwide_gross'])\n",
    "\n",
    "#get the t-statistic \n",
    "df_used2 = df5[['production_budget', 'worldwide_gross']]\n",
    "n1 = len(df_used2)\n",
    "t_stat2 = corr2 * ((n1 - 2) / (1 - corr2**2))**0.5\n",
    "\n",
    "print(f'correlation {corr2}, P-value {p_2}, T-statistic {t_stat2}')"
   ]
  },
  {
   "cell_type": "code",
   "execution_count": 44,
   "metadata": {},
   "outputs": [
    {
     "data": {
      "image/png": "[encoded data removed]",
      "text/plain": [
       "<Figure size 576x432 with 1 Axes>"
      ]
     },
     "metadata": {
      "needs_background": "light"
     },
     "output_type": "display_data"
    }
   ],
   "source": [
    "# Create a scatter plot\n",
    "plt.figure(figsize=(8,6))\n",
    "plt.scatter(df5['production_budget'], df5['domestic_gross'])\n",
    "\n",
    "# Add title and labels\n",
    "plt.title('Relationship between Production Budget and Domestic Gross')\n",
    "plt.xlabel('Production Budget (millions)')\n",
    "plt.ylabel('Domestic Gross (millions)')\n",
    "\n",
    "# Show the plot\n",
    "plt.show()"
   ]
  },
  {
   "cell_type": "code",
   "execution_count": 45,
   "metadata": {},
   "outputs": [
    {
     "data": {
      "image/png": "[encoded data removed]",
      "text/plain": [
       "<Figure size 576x432 with 1 Axes>"
      ]
     },
     "metadata": {
      "needs_background": "light"
     },
     "output_type": "display_data"
    }
   ],
   "source": [
    "# Create a scatter plot\n",
    "plt.figure(figsize=(8,6))\n",
    "plt.scatter(df5['production_budget'], df5['worldwide_gross'])\n",
    "\n",
    "# Add title and labels\n",
    "plt.title('Relationship between Production Budget and Domestic Gross')\n",
    "plt.xlabel('Production Budget (millions)')\n",
    "plt.ylabel('World Wide Gross (millions)')\n",
    "\n",
    "# Show the plot\n",
    "plt.show()"
   ]
  },
  {
   "cell_type": "markdown",
   "metadata": {},
   "source": [
    "##### Results\n",
    "From the analysis, the findings achieved shows that we reject the null hypothesis with significance to the alpha value since the p-value is 0.0 less the than the alpha value 0.05. Between domestic gross and production budget.\n",
    "\n",
    "For worldwide gross and production budget, the findings achieved shows that we reject the null hypothesis with significance to the alpha value since the p-value is 0.0 which is less than the alpha value.\n",
    "\n",
    "In conclusion we do accept there is a relationship between domestic gross and production budget.\n",
    "\n",
    "In conclusion we do accept there is a relationship between worldwide gross and production budget.\n",
    "\n",
    "Our findings supports our recommendations which is budget vs revenue such that some films with high production budgets tend to generate a lot revenue in terms of domestic gross and world wide gross as shown in the visualizations above,  but sometimes that does not seem to be the case as some of them with high production budget generate low revenue compared to other movies with low production due to some factors such as popularity of the film and marketing of the film.\n",
    "\n",
    "For my recommendations which is revenue, i would suggest to the movie studio to invest in the production budget for the film and production team  of a film, as low production budgets leads to low return in revenue in terms of domestic gross and worldwide gross. Investing money to the production budget will lead to high return in revenue in terms of domestic gross and world wide gross.\n",
    "\n"
   ]
  },
  {
   "cell_type": "markdown",
   "metadata": {},
   "source": [
    "##### 2. Dataset tmdb.movies.csv.gz\n",
    "One of our recommendations is popularity vs audience. In the case popularity refers to how popular a certain film is and audience refers to the number of people who watch the certain films based on their popularity.\n",
    "\n",
    "Popularity of a film is based on how the film is promoted by the market and sales team and how the audience viewed the movie that was made by the film production team.\n",
    "\n",
    "The audience refers to the number of people of watch the film. This affects the rating of the film as the people who watch the film rate the films, which influences the success of the film.\n",
    "\n",
    "A movie that is highly rated guarantees high return in terms pf revenue and also based on popularity.\n",
    "\n",
    "The dataset tmb.movies.csv.gz has 3 columns that we will be that popularity average, vote counts and vote average. We will be able to associate popularity average and vote counts and form a hypothesis, same to vote counts and vote average to be able to form another hypothesis.\n"
   ]
  },
  {
   "cell_type": "markdown",
   "metadata": {},
   "source": [
    "##### Null and Alternative Hypothesis\n",
    "- Null hypothesis(Ho)\n",
    "The null hypothesis states that there is no significant relationship between popularity and vote counts.\n",
    "\n",
    "The other null hypothesis states that there is no significant relationship between vote counts and vote average.\n",
    "\n",
    "- Alternative hypothesis(H1)\n",
    "The alternative hypothesis state that there is a significant reletionship between popularity and vote counts.\n",
    "\n",
    "This means changes in popularity is associated with vote counts which determines the number of people who watch based on the film popularity.\n",
    "\n",
    "The alternative hypothesis states there is a significant relationship between vote counts and vote average.\n",
    "\n",
    "This means changes in vote counts is associated with vote average which determines the rating of the films.\n",
    "\n",
    "To get our findings we will use pearson correlation to generate the correlation and the p-value. So that we can be able to either reject or fail to reject our null hypothesis.\n",
    "\n",
    "\n",
    "\n",
    "\n",
    "\n"
   ]
  },
  {
   "cell_type": "code",
   "execution_count": 46,
   "metadata": {},
   "outputs": [
    {
     "data": {
      "text/html": [
       "<div>\n",
       "<style scoped>\n",
       "    .dataframe tbody tr th:only-of-type {\n",
       "        vertical-align: middle;\n",
       "    }\n",
       "\n",
       "    .dataframe tbody tr th {\n",
       "        vertical-align: top;\n",
       "    }\n",
       "\n",
       "    .dataframe thead th {\n",
       "        text-align: right;\n",
       "    }\n",
       "</style>\n",
       "<table border=\"1\" class=\"dataframe\">\n",
       "  <thead>\n",
       "    <tr style=\"text-align: right;\">\n",
       "      <th></th>\n",
       "      <th>genre_ids</th>\n",
       "      <th>id</th>\n",
       "      <th>original_language</th>\n",
       "      <th>original_title</th>\n",
       "      <th>popularity</th>\n",
       "      <th>release_date</th>\n",
       "      <th>title</th>\n",
       "      <th>vote_average</th>\n",
       "      <th>vote_count</th>\n",
       "    </tr>\n",
       "  </thead>\n",
       "  <tbody>\n",
       "    <tr>\n",
       "      <th>0</th>\n",
       "      <td>[12, 14, 10751]</td>\n",
       "      <td>12444</td>\n",
       "      <td>en</td>\n",
       "      <td>Harry Potter and the Deathly Hallows: Part 1</td>\n",
       "      <td>33.533</td>\n",
       "      <td>2010-11-19</td>\n",
       "      <td>Harry Potter and the Deathly Hallows: Part 1</td>\n",
       "      <td>7.7</td>\n",
       "      <td>10788</td>\n",
       "    </tr>\n",
       "    <tr>\n",
       "      <th>1</th>\n",
       "      <td>[14, 12, 16, 10751]</td>\n",
       "      <td>10191</td>\n",
       "      <td>en</td>\n",
       "      <td>How to Train Your Dragon</td>\n",
       "      <td>28.734</td>\n",
       "      <td>2010-03-26</td>\n",
       "      <td>How to Train Your Dragon</td>\n",
       "      <td>7.7</td>\n",
       "      <td>7610</td>\n",
       "    </tr>\n",
       "    <tr>\n",
       "      <th>2</th>\n",
       "      <td>[12, 28, 878]</td>\n",
       "      <td>10138</td>\n",
       "      <td>en</td>\n",
       "      <td>Iron Man 2</td>\n",
       "      <td>28.515</td>\n",
       "      <td>2010-05-07</td>\n",
       "      <td>Iron Man 2</td>\n",
       "      <td>6.8</td>\n",
       "      <td>12368</td>\n",
       "    </tr>\n",
       "    <tr>\n",
       "      <th>3</th>\n",
       "      <td>[16, 35, 10751]</td>\n",
       "      <td>862</td>\n",
       "      <td>en</td>\n",
       "      <td>Toy Story</td>\n",
       "      <td>28.005</td>\n",
       "      <td>1995-11-22</td>\n",
       "      <td>Toy Story</td>\n",
       "      <td>7.9</td>\n",
       "      <td>10174</td>\n",
       "    </tr>\n",
       "    <tr>\n",
       "      <th>4</th>\n",
       "      <td>[28, 878, 12]</td>\n",
       "      <td>27205</td>\n",
       "      <td>en</td>\n",
       "      <td>Inception</td>\n",
       "      <td>27.920</td>\n",
       "      <td>2010-07-16</td>\n",
       "      <td>Inception</td>\n",
       "      <td>8.3</td>\n",
       "      <td>22186</td>\n",
       "    </tr>\n",
       "  </tbody>\n",
       "</table>\n",
       "</div>"
      ],
      "text/plain": [
       "             genre_ids     id original_language  \\\n",
       "0      [12, 14, 10751]  12444                en   \n",
       "1  [14, 12, 16, 10751]  10191                en   \n",
       "2        [12, 28, 878]  10138                en   \n",
       "3      [16, 35, 10751]    862                en   \n",
       "4        [28, 878, 12]  27205                en   \n",
       "\n",
       "                                 original_title  popularity release_date  \\\n",
       "0  Harry Potter and the Deathly Hallows: Part 1      33.533   2010-11-19   \n",
       "1                      How to Train Your Dragon      28.734   2010-03-26   \n",
       "2                                    Iron Man 2      28.515   2010-05-07   \n",
       "3                                     Toy Story      28.005   1995-11-22   \n",
       "4                                     Inception      27.920   2010-07-16   \n",
       "\n",
       "                                          title  vote_average  vote_count  \n",
       "0  Harry Potter and the Deathly Hallows: Part 1           7.7       10788  \n",
       "1                      How to Train Your Dragon           7.7        7610  \n",
       "2                                    Iron Man 2           6.8       12368  \n",
       "3                                     Toy Story           7.9       10174  \n",
       "4                                     Inception           8.3       22186  "
      ]
     },
     "execution_count": 46,
     "metadata": {},
     "output_type": "execute_result"
    }
   ],
   "source": [
    "#generate the rows and columns\n",
    "df4.head()"
   ]
  },
  {
   "cell_type": "code",
   "execution_count": 47,
   "metadata": {},
   "outputs": [
    {
     "data": {
      "text/html": [
       "<div>\n",
       "<style scoped>\n",
       "    .dataframe tbody tr th:only-of-type {\n",
       "        vertical-align: middle;\n",
       "    }\n",
       "\n",
       "    .dataframe tbody tr th {\n",
       "        vertical-align: top;\n",
       "    }\n",
       "\n",
       "    .dataframe thead th {\n",
       "        text-align: right;\n",
       "    }\n",
       "</style>\n",
       "<table border=\"1\" class=\"dataframe\">\n",
       "  <thead>\n",
       "    <tr style=\"text-align: right;\">\n",
       "      <th></th>\n",
       "      <th>genre_ids</th>\n",
       "      <th>id</th>\n",
       "      <th>original_language</th>\n",
       "      <th>original_title</th>\n",
       "      <th>popularity</th>\n",
       "      <th>release_date</th>\n",
       "      <th>title</th>\n",
       "      <th>vote_average</th>\n",
       "      <th>vote_count</th>\n",
       "    </tr>\n",
       "  </thead>\n",
       "  <tbody>\n",
       "    <tr>\n",
       "      <th>26512</th>\n",
       "      <td>[27, 18]</td>\n",
       "      <td>488143</td>\n",
       "      <td>en</td>\n",
       "      <td>Laboratory Conditions</td>\n",
       "      <td>0.6</td>\n",
       "      <td>2018-10-13</td>\n",
       "      <td>Laboratory Conditions</td>\n",
       "      <td>0.0</td>\n",
       "      <td>1</td>\n",
       "    </tr>\n",
       "    <tr>\n",
       "      <th>26513</th>\n",
       "      <td>[18, 53]</td>\n",
       "      <td>485975</td>\n",
       "      <td>en</td>\n",
       "      <td>_EXHIBIT_84xxx_</td>\n",
       "      <td>0.6</td>\n",
       "      <td>2018-05-01</td>\n",
       "      <td>_EXHIBIT_84xxx_</td>\n",
       "      <td>0.0</td>\n",
       "      <td>1</td>\n",
       "    </tr>\n",
       "    <tr>\n",
       "      <th>26514</th>\n",
       "      <td>[14, 28, 12]</td>\n",
       "      <td>381231</td>\n",
       "      <td>en</td>\n",
       "      <td>The Last One</td>\n",
       "      <td>0.6</td>\n",
       "      <td>2018-10-01</td>\n",
       "      <td>The Last One</td>\n",
       "      <td>0.0</td>\n",
       "      <td>1</td>\n",
       "    </tr>\n",
       "    <tr>\n",
       "      <th>26515</th>\n",
       "      <td>[10751, 12, 28]</td>\n",
       "      <td>366854</td>\n",
       "      <td>en</td>\n",
       "      <td>Trailer Made</td>\n",
       "      <td>0.6</td>\n",
       "      <td>2018-06-22</td>\n",
       "      <td>Trailer Made</td>\n",
       "      <td>0.0</td>\n",
       "      <td>1</td>\n",
       "    </tr>\n",
       "    <tr>\n",
       "      <th>26516</th>\n",
       "      <td>[53, 27]</td>\n",
       "      <td>309885</td>\n",
       "      <td>en</td>\n",
       "      <td>The Church</td>\n",
       "      <td>0.6</td>\n",
       "      <td>2018-10-05</td>\n",
       "      <td>The Church</td>\n",
       "      <td>0.0</td>\n",
       "      <td>1</td>\n",
       "    </tr>\n",
       "  </tbody>\n",
       "</table>\n",
       "</div>"
      ],
      "text/plain": [
       "             genre_ids      id original_language         original_title  \\\n",
       "26512         [27, 18]  488143                en  Laboratory Conditions   \n",
       "26513         [18, 53]  485975                en        _EXHIBIT_84xxx_   \n",
       "26514     [14, 28, 12]  381231                en           The Last One   \n",
       "26515  [10751, 12, 28]  366854                en           Trailer Made   \n",
       "26516         [53, 27]  309885                en             The Church   \n",
       "\n",
       "       popularity release_date                  title  vote_average  \\\n",
       "26512         0.6   2018-10-13  Laboratory Conditions           0.0   \n",
       "26513         0.6   2018-05-01        _EXHIBIT_84xxx_           0.0   \n",
       "26514         0.6   2018-10-01           The Last One           0.0   \n",
       "26515         0.6   2018-06-22           Trailer Made           0.0   \n",
       "26516         0.6   2018-10-05             The Church           0.0   \n",
       "\n",
       "       vote_count  \n",
       "26512           1  \n",
       "26513           1  \n",
       "26514           1  \n",
       "26515           1  \n",
       "26516           1  "
      ]
     },
     "execution_count": 47,
     "metadata": {},
     "output_type": "execute_result"
    }
   ],
   "source": [
    "df4.tail()"
   ]
  },
  {
   "cell_type": "code",
   "execution_count": 48,
   "metadata": {},
   "outputs": [
    {
     "name": "stdout",
     "output_type": "stream",
     "text": [
      "correlation 0.6948493710333701, P-value 0.0, T-statistic 157.33081648072485\n"
     ]
    }
   ],
   "source": [
    "# using pearson correlation to get the correlation and p-value and t-statistic\n",
    "\n",
    "alpha_value = 0.05\n",
    "\n",
    "corr3, p_3 = stats.pearsonr(df4['popularity'], df4['vote_count'])\n",
    "\n",
    "#get the t-statistic \n",
    "df_use3 = df4[['popularity', 'vote_count']]\n",
    "n3 = len(df_use3)\n",
    "t_stat3 = corr3 * np.sqrt((n3 - 2) / (1 - corr3**2))\n",
    "\n",
    "print(f'correlation {corr3}, P-value {p_3}, T-statistic {t_stat3}')"
   ]
  },
  {
   "cell_type": "code",
   "execution_count": 49,
   "metadata": {},
   "outputs": [
    {
     "name": "stdout",
     "output_type": "stream",
     "text": [
      "correlation 0.08636988831138762, P-value 4.364473564674249e-45, T-statistic 14.116730105684951\n"
     ]
    }
   ],
   "source": [
    "# using pearson correlation to get the correlation and p-value and t-statistic\n",
    "\n",
    "alpha_value = 0.05\n",
    "\n",
    "corr4, p_4 = stats.pearsonr(df4['vote_count'], df4['vote_average'])\n",
    "\n",
    "#get the t-statistic \n",
    "df_use4 = df4[['vote_count', 'vote_average']]\n",
    "n4 = len(df_use4)\n",
    "t_stat4 = corr4 * np.sqrt((n4 - 2) / (1 - corr4**2))\n",
    "\n",
    "print(f'correlation {corr4}, P-value {p_4}, T-statistic {t_stat4}')"
   ]
  },
  {
   "cell_type": "code",
   "execution_count": 50,
   "metadata": {},
   "outputs": [
    {
     "data": {
      "image/png": "[encoded data removed]",
      "text/plain": [
       "<Figure size 576x432 with 1 Axes>"
      ]
     },
     "metadata": {
      "needs_background": "light"
     },
     "output_type": "display_data"
    }
   ],
   "source": [
    "# Create a scatter plot\n",
    "plt.figure(figsize=(8,6))\n",
    "plt.scatter(df4['popularity'], df4['vote_count'])\n",
    "\n",
    "# Add title and labels\n",
    "plt.title('Relationship between Popularity and Audience')\n",
    "plt.xlabel('Popularity')\n",
    "plt.ylabel('Audience')\n",
    "\n",
    "# Show the plot\n",
    "plt.show()"
   ]
  },
  {
   "cell_type": "code",
   "execution_count": 51,
   "metadata": {},
   "outputs": [
    {
     "data": {
      "image/png": "[encoded data removed]",
      "text/plain": [
       "<Figure size 576x432 with 1 Axes>"
      ]
     },
     "metadata": {
      "needs_background": "light"
     },
     "output_type": "display_data"
    }
   ],
   "source": [
    "# Create a scatter plot\n",
    "plt.figure(figsize=(8,6))\n",
    "plt.scatter(df4['vote_average'], df4['vote_count'])\n",
    "\n",
    "# Add title and labels\n",
    "plt.title('Relationship between Rating and Audience')\n",
    "plt.xlabel('Rating')\n",
    "plt.ylabel('Audience')\n",
    "\n",
    "\n",
    "# Show the plot\n",
    "plt.show()"
   ]
  },
  {
   "cell_type": "markdown",
   "metadata": {},
   "source": [
    "##### Results\n",
    "For the relationship between popularity and vote count, we conclude our findings to reject the null hypothesis with signifinance with alpha value having a p-value of 0.0 less than the alpha value.\n",
    "\n",
    "In conclusion we do accept there is a relationship between popularity and vote count.\n",
    "\n",
    "We do support our recommendation which is popularity vs the number of audience accepting that films that have higher popularity tend to attract more people to go watch it compared to films that have a low popularity which tends to attract less people to watch the film.\n",
    "\n",
    "This recommendation can enable the movie studio succeed by advising the studi0 to budget for the promotion of the movie which done by the market and sales team. The market and sales team are tasked with finding ways to promote the movie to make it popular by doing promo shoots, posters about the movie and interviews about the movie.\n",
    "\n",
    "For the relationship between vote counts and vote average, we conclude our findings to reject the null hypothesis with signficance with the alpha value having a p-value of 4.364473564674249e-45.\n",
    "\n",
    "In conclusion we do accept there is a significant relationship between vote count and vote average.\n",
    "\n",
    "We do support our recommendation which is rating of movies is significant such that a high rated film depends when more people who have watched the film and a low rated film comes about when less people have watched the film.\n",
    "\n",
    "This recommendation can enable the movie studio succeed by advising the studi0 to budget for the promotion of the movie which done by the market and sales team. The market and sales team are tasked with finding ways to promote the movie to make it popular by doing promo shoots, posters about the movie and interviews about the movie. By promoting the film, more people go to watch it and those end up rating the film highly and vice versa.\n",
    "\n",
    "\n"
   ]
  },
  {
   "cell_type": "markdown",
   "metadata": {},
   "source": [
    "##### 3. Database im.db.zip\n",
    "One of our recommendations is genres. Genres is defined as the categories of films either romance, action , animation etc. Different audiences have different preferences in terms of genres. In the box office the most genres that do well are mainly animation and action this is because of their intended audience.\n",
    "\n",
    "Animated films mainly preferred by children and adults who love animations. This occurs with different genres depending on the preference of the audience.\n",
    "\n",
    "Genres affect the number of people go watch the movies and the rating of the movies.\n",
    "\n",
    "Our database im.db.zip expands on different film genres, the number of votes the different genres  of the films get and the average rating of the films based on the genres."
   ]
  },
  {
   "cell_type": "markdown",
   "metadata": {},
   "source": [
    "##### Null and Alternative Hypothesis\n",
    "- Null hypothesis\n",
    "The null hypothesis states that there is no significant difference between the number of vote across different genres.\n",
    "\n",
    "The null hypothesis states that there is no significant difference between the average rating across different genres.\n",
    "\n",
    "- Alternative hypothesis\n",
    "The alternative hypothesis states there is a significant difference between the number of votes across different genres. Meaning the number of votes are different across different genres.\n",
    "\n",
    "The alternative hypothesis states there is a significant difference between the avearage rating across different genres. Meaning the average rating is different across different genres.\n",
    "\n",
    "For this test we shall use Anova as genres is categorical and a string and we want to compare it to the numerical data numvotea and average rating.\n"
   ]
  },
  {
   "cell_type": "code",
   "execution_count": 52,
   "metadata": {},
   "outputs": [
    {
     "data": {
      "text/html": [
       "<div>\n",
       "<style scoped>\n",
       "    .dataframe tbody tr th:only-of-type {\n",
       "        vertical-align: middle;\n",
       "    }\n",
       "\n",
       "    .dataframe tbody tr th {\n",
       "        vertical-align: top;\n",
       "    }\n",
       "\n",
       "    .dataframe thead th {\n",
       "        text-align: right;\n",
       "    }\n",
       "</style>\n",
       "<table border=\"1\" class=\"dataframe\">\n",
       "  <thead>\n",
       "    <tr style=\"text-align: right;\">\n",
       "      <th></th>\n",
       "      <th>movie_id</th>\n",
       "      <th>primary_title</th>\n",
       "      <th>original_title</th>\n",
       "      <th>start_year</th>\n",
       "      <th>runtime_minutes</th>\n",
       "      <th>genres</th>\n",
       "      <th>averagerating</th>\n",
       "      <th>numvotes</th>\n",
       "    </tr>\n",
       "  </thead>\n",
       "  <tbody>\n",
       "    <tr>\n",
       "      <th>0</th>\n",
       "      <td>tt0063540</td>\n",
       "      <td>Sunghursh</td>\n",
       "      <td>Sunghursh</td>\n",
       "      <td>2013</td>\n",
       "      <td>175.0</td>\n",
       "      <td>Action,Crime,Drama</td>\n",
       "      <td>7.0</td>\n",
       "      <td>77</td>\n",
       "    </tr>\n",
       "    <tr>\n",
       "      <th>1</th>\n",
       "      <td>tt0066787</td>\n",
       "      <td>One Day Before the Rainy Season</td>\n",
       "      <td>Ashad Ka Ek Din</td>\n",
       "      <td>2019</td>\n",
       "      <td>114.0</td>\n",
       "      <td>Biography,Drama</td>\n",
       "      <td>7.2</td>\n",
       "      <td>43</td>\n",
       "    </tr>\n",
       "    <tr>\n",
       "      <th>2</th>\n",
       "      <td>tt0069049</td>\n",
       "      <td>The Other Side of the Wind</td>\n",
       "      <td>The Other Side of the Wind</td>\n",
       "      <td>2018</td>\n",
       "      <td>122.0</td>\n",
       "      <td>Drama</td>\n",
       "      <td>6.9</td>\n",
       "      <td>4517</td>\n",
       "    </tr>\n",
       "    <tr>\n",
       "      <th>3</th>\n",
       "      <td>tt0069204</td>\n",
       "      <td>Sabse Bada Sukh</td>\n",
       "      <td>Sabse Bada Sukh</td>\n",
       "      <td>2018</td>\n",
       "      <td>NaN</td>\n",
       "      <td>Comedy,Drama</td>\n",
       "      <td>6.1</td>\n",
       "      <td>13</td>\n",
       "    </tr>\n",
       "    <tr>\n",
       "      <th>4</th>\n",
       "      <td>tt0100275</td>\n",
       "      <td>The Wandering Soap Opera</td>\n",
       "      <td>La Telenovela Errante</td>\n",
       "      <td>2017</td>\n",
       "      <td>80.0</td>\n",
       "      <td>Comedy,Drama,Fantasy</td>\n",
       "      <td>6.5</td>\n",
       "      <td>119</td>\n",
       "    </tr>\n",
       "    <tr>\n",
       "      <th>...</th>\n",
       "      <td>...</td>\n",
       "      <td>...</td>\n",
       "      <td>...</td>\n",
       "      <td>...</td>\n",
       "      <td>...</td>\n",
       "      <td>...</td>\n",
       "      <td>...</td>\n",
       "      <td>...</td>\n",
       "    </tr>\n",
       "    <tr>\n",
       "      <th>73047</th>\n",
       "      <td>tt9913056</td>\n",
       "      <td>Swarm Season</td>\n",
       "      <td>Swarm Season</td>\n",
       "      <td>2019</td>\n",
       "      <td>86.0</td>\n",
       "      <td>Documentary</td>\n",
       "      <td>6.2</td>\n",
       "      <td>5</td>\n",
       "    </tr>\n",
       "    <tr>\n",
       "      <th>73048</th>\n",
       "      <td>tt9913084</td>\n",
       "      <td>Diabolik sono io</td>\n",
       "      <td>Diabolik sono io</td>\n",
       "      <td>2019</td>\n",
       "      <td>75.0</td>\n",
       "      <td>Documentary</td>\n",
       "      <td>6.2</td>\n",
       "      <td>6</td>\n",
       "    </tr>\n",
       "    <tr>\n",
       "      <th>73049</th>\n",
       "      <td>tt9914286</td>\n",
       "      <td>Sokagin Çocuklari</td>\n",
       "      <td>Sokagin Çocuklari</td>\n",
       "      <td>2019</td>\n",
       "      <td>98.0</td>\n",
       "      <td>Drama,Family</td>\n",
       "      <td>8.7</td>\n",
       "      <td>136</td>\n",
       "    </tr>\n",
       "    <tr>\n",
       "      <th>73050</th>\n",
       "      <td>tt9914642</td>\n",
       "      <td>Albatross</td>\n",
       "      <td>Albatross</td>\n",
       "      <td>2017</td>\n",
       "      <td>NaN</td>\n",
       "      <td>Documentary</td>\n",
       "      <td>8.5</td>\n",
       "      <td>8</td>\n",
       "    </tr>\n",
       "    <tr>\n",
       "      <th>73051</th>\n",
       "      <td>tt9916160</td>\n",
       "      <td>Drømmeland</td>\n",
       "      <td>Drømmeland</td>\n",
       "      <td>2019</td>\n",
       "      <td>72.0</td>\n",
       "      <td>Documentary</td>\n",
       "      <td>6.5</td>\n",
       "      <td>11</td>\n",
       "    </tr>\n",
       "  </tbody>\n",
       "</table>\n",
       "<p>73052 rows × 8 columns</p>\n",
       "</div>"
      ],
      "text/plain": [
       "        movie_id                    primary_title              original_title  \\\n",
       "0      tt0063540                        Sunghursh                   Sunghursh   \n",
       "1      tt0066787  One Day Before the Rainy Season             Ashad Ka Ek Din   \n",
       "2      tt0069049       The Other Side of the Wind  The Other Side of the Wind   \n",
       "3      tt0069204                  Sabse Bada Sukh             Sabse Bada Sukh   \n",
       "4      tt0100275         The Wandering Soap Opera       La Telenovela Errante   \n",
       "...          ...                              ...                         ...   \n",
       "73047  tt9913056                     Swarm Season                Swarm Season   \n",
       "73048  tt9913084                 Diabolik sono io            Diabolik sono io   \n",
       "73049  tt9914286                Sokagin Çocuklari           Sokagin Çocuklari   \n",
       "73050  tt9914642                        Albatross                   Albatross   \n",
       "73051  tt9916160                       Drømmeland                  Drømmeland   \n",
       "\n",
       "       start_year  runtime_minutes                genres  averagerating  \\\n",
       "0            2013            175.0    Action,Crime,Drama            7.0   \n",
       "1            2019            114.0       Biography,Drama            7.2   \n",
       "2            2018            122.0                 Drama            6.9   \n",
       "3            2018              NaN          Comedy,Drama            6.1   \n",
       "4            2017             80.0  Comedy,Drama,Fantasy            6.5   \n",
       "...           ...              ...                   ...            ...   \n",
       "73047        2019             86.0           Documentary            6.2   \n",
       "73048        2019             75.0           Documentary            6.2   \n",
       "73049        2019             98.0          Drama,Family            8.7   \n",
       "73050        2017              NaN           Documentary            8.5   \n",
       "73051        2019             72.0           Documentary            6.5   \n",
       "\n",
       "       numvotes  \n",
       "0            77  \n",
       "1            43  \n",
       "2          4517  \n",
       "3            13  \n",
       "4           119  \n",
       "...         ...  \n",
       "73047         5  \n",
       "73048         6  \n",
       "73049       136  \n",
       "73050         8  \n",
       "73051        11  \n",
       "\n",
       "[73052 rows x 8 columns]"
      ]
     },
     "execution_count": 52,
     "metadata": {},
     "output_type": "execute_result"
    }
   ],
   "source": [
    "#First combine the two columns movie_basics and movie_rating together \n",
    "\n",
    "query = \"\"\"SELECT *\n",
    "           FROM movie_basics\n",
    "           JOIN movie_ratings\n",
    "           USING (movie_id);\n",
    "\"\"\"\n",
    "pd.read_sql(query, conn)"
   ]
  },
  {
   "cell_type": "code",
   "execution_count": 53,
   "metadata": {},
   "outputs": [
    {
     "name": "stdout",
     "output_type": "stream",
     "text": [
      "F-statistic 10.812658963629369, P-value 0.0\n"
     ]
    }
   ],
   "source": [
    "#use anova to get the p-value\n",
    "\n",
    "#convert the query into a dataframe\n",
    "df6 = pd.read_sql(query, conn)\n",
    "\n",
    "#get the unique genres\n",
    "category = df6['genres'].unique()\n",
    "\n",
    "#perform anova between genres and value count\n",
    "f_statistic, p_v6 = stats.f_oneway(*[df6[df6['genres'] == genre]['numvotes'] for genre in category])\n",
    "\n",
    "print(f'F-statistic {f_statistic}, P-value {p_v6}')"
   ]
  },
  {
   "cell_type": "code",
   "execution_count": 54,
   "metadata": {},
   "outputs": [
    {
     "name": "stdout",
     "output_type": "stream",
     "text": [
      "F-statistic 27.103987540184093, P-value 0.0\n"
     ]
    }
   ],
   "source": [
    "#use anova to get the p-value\n",
    "\n",
    "#convert the query into a dataframe\n",
    "df6 = pd.read_sql(query, conn)\n",
    "\n",
    "#get the unique genres\n",
    "category = df6['genres'].unique()\n",
    "\n",
    "#perform anova between genres and value count\n",
    "f_statistic1, p_v7 = stats.f_oneway(*[df6[df6['genres'] == genre]['averagerating'] for genre in category])\n",
    "\n",
    "print(f'F-statistic {f_statistic1}, P-value {p_v7}')"
   ]
  },
  {
   "cell_type": "code",
   "execution_count": 55,
   "metadata": {},
   "outputs": [
    {
     "name": "stderr",
     "output_type": "stream",
     "text": [
      "c:\\Users\\NATALI\\anaconda3\\envs\\learn-env\\lib\\site-packages\\seaborn\\_decorators.py:36: FutureWarning: Pass the following variables as keyword args: x, y. From version 0.12, the only valid positional argument will be `data`, and passing other arguments without an explicit keyword will result in an error or misinterpretation.\n",
      "  warnings.warn(\n"
     ]
    },
    {
     "data": {
      "image/png": "[encoded data removed]",
      "text/plain": [
       "<Figure size 720x432 with 1 Axes>"
      ]
     },
     "metadata": {
      "needs_background": "light"
     },
     "output_type": "display_data"
    }
   ],
   "source": [
    "#visualize genres and number of votes \n",
    "# Group the data by genre and calculate the total number of votes for each genre\n",
    "df6 = df6.groupby('genres')['numvotes'].sum().reset_index()\n",
    "\n",
    "# Sort the data by the total number of votes in descending order\n",
    "df6 = df6.sort_values(by='numvotes', ascending=False)\n",
    "\n",
    "# Get the top 20 genres\n",
    "top_5_genres = df6.head(20)\n",
    "\n",
    "# Create a scatter plot of the top 5 genres\n",
    "plt.figure(figsize=(10, 6))\n",
    "sns.scatterplot(top_5_genres[\"genres\"], top_5_genres[\"numvotes\"], data=category)\n",
    "plt.title(\"Distribution of numvotes across top 5 genres\")\n",
    "plt.xlabel(\"Genre\")\n",
    "plt.ylabel(\"numvotes\")\n",
    "plt.xticks(rotation=45, ha='right')\n",
    "plt.show()"
   ]
  },
  {
   "cell_type": "markdown",
   "metadata": {},
   "source": [
    "##### Results\n",
    "For the relationship between genres and number of votes, we conclude our findings to reject the null hypothesis starting there is a significance number of votes across different genres.\n",
    "\n",
    "From the visualization we can see that the genre with the highest number of votes is action, adventure ans Sci-fi as per the analysis showing that this genre is the most watched.\n",
    "\n",
    "We do support our recommendation of genres, stating that different genres are watched by different audiences as different audiences have different preferences.\n",
    "\n",
    "Our recommendation can support the movie studio by enabling the film production team to research on different genres and understand audience preferences. This can enable them to make films based on different genres such as animation for kids to gross a lot money in the box office as the animation genre is most loved by children.\n",
    "\n",
    "Through this the movie studio will be able to generate a lot of income in the box office.\n",
    "\n",
    "For the relationship between genres and average rating , we conclude our findings to reject the null hypothesis starting there is a significance number of votes across different genres.\n",
    "\n",
    "We do support our recommendation of genres, stating that different genres are watched by different audiences as different audiences have different preferences hence have different rating to them.\n",
    "\n",
    "Our recommendation can support the movies studio by enabling the film production team to research on different genres and understand audience preferences. Different genres have different ratings as the number of people watch the film genres the more the rating of the film increases based on the genre.\n",
    "\n",
    "Through this the movie studio will be able to generate a lot of income in the box office.\n",
    "\n",
    "\n",
    "\n",
    "\n",
    "\n"
   ]
  },
  {
   "cell_type": "markdown",
   "metadata": {},
   "source": [
    "#### 2. Linear Regression\n",
    "This is another method that will be used for analysis. In linear regression, we will be able to identify independent and dependent variables and identify if there is a linear relationship between them.\n",
    "\n",
    "From this we want to know if we will be able to predict the values of the dependent variable from the independent variable and find out if there is a linear relationship between the two variables.\n",
    "\n",
    "Independent and dependent variables will be identified from the various datasets. Methods such as r-squared will be used to interpret what percentage of the dependent variable is explained from the prediction, f-statistic and p-value.\n",
    "\n"
   ]
  },
  {
   "cell_type": "markdown",
   "metadata": {},
   "source": [
    "##### 1. Dataset tn.movie_budgets.csv.gz\n",
    "For this datasets we shall define the independent and dependent variables. The independent variable is production budget and the dependent variables are domestic gross and world wide gross.\n",
    "\n",
    "We shall visualize the independent variable with each of the dependent variables and create a linear relationship for both of them."
   ]
  },
  {
   "cell_type": "code",
   "execution_count": 56,
   "metadata": {},
   "outputs": [
    {
     "data": {
      "text/plain": [
       "<matplotlib.collections.PathCollection at 0x1a3ff89c970>"
      ]
     },
     "execution_count": 56,
     "metadata": {},
     "output_type": "execute_result"
    },
    {
     "data": {
      "image/png": "[encoded data removed]",
      "text/plain": [
       "<Figure size 432x288 with 1 Axes>"
      ]
     },
     "metadata": {
      "needs_background": "light"
     },
     "output_type": "display_data"
    }
   ],
   "source": [
    "#visualize the relationship between predictor and the target\n",
    "X = df5[[\"production_budget\"]]\n",
    "y = df5[\"domestic_gross\"]\n",
    "\n",
    "plt.scatter(X, y)"
   ]
  },
  {
   "cell_type": "code",
   "execution_count": 57,
   "metadata": {},
   "outputs": [
    {
     "data": {
      "text/plain": [
       "<statsmodels.regression.linear_model.OLS at 0x1a38295b370>"
      ]
     },
     "execution_count": 57,
     "metadata": {},
     "output_type": "execute_result"
    }
   ],
   "source": [
    "#Determine X and y values\n",
    "X = df5[[\"production_budget\"]]\n",
    "y = df5[\"domestic_gross\"]\n",
    "\n",
    "#Create an OLS model\n",
    "model1 = sm.OLS(endog=y, exog=sm.add_constant(X))\n",
    "model1"
   ]
  },
  {
   "cell_type": "code",
   "execution_count": 58,
   "metadata": {},
   "outputs": [
    {
     "data": {
      "text/plain": [
       "<statsmodels.regression.linear_model.RegressionResultsWrapper at 0x1a382fa2af0>"
      ]
     },
     "execution_count": 58,
     "metadata": {},
     "output_type": "execute_result"
    }
   ],
   "source": [
    "#fit the model\n",
    "results1 = model1.fit()\n",
    "results1"
   ]
  },
  {
   "cell_type": "code",
   "execution_count": 59,
   "metadata": {},
   "outputs": [
    {
     "data": {
      "text/plain": [
       "(5128.945107257292, 0.0)"
      ]
     },
     "execution_count": 59,
     "metadata": {},
     "output_type": "execute_result"
    }
   ],
   "source": [
    "#getting the f_satistic and p_value\n",
    "results1.fvalue, results1.f_pvalue"
   ]
  },
  {
   "cell_type": "code",
   "execution_count": 60,
   "metadata": {},
   "outputs": [
    {
     "data": {
      "text/plain": [
       "0.4701595852604673"
      ]
     },
     "execution_count": 60,
     "metadata": {},
     "output_type": "execute_result"
    }
   ],
   "source": [
    "#getting the r-squared\n",
    "results1.rsquared"
   ]
  },
  {
   "cell_type": "code",
   "execution_count": 61,
   "metadata": {},
   "outputs": [
    {
     "data": {
      "text/plain": [
       "const                6.523889e+06\n",
       "production_budget    1.119087e+00\n",
       "dtype: float64"
      ]
     },
     "execution_count": 61,
     "metadata": {},
     "output_type": "execute_result"
    }
   ],
   "source": [
    "#getting the model parameters\n",
    "results1.params"
   ]
  },
  {
   "cell_type": "code",
   "execution_count": 62,
   "metadata": {},
   "outputs": [
    {
     "data": {
      "text/plain": [
       "const                1.933931e-15\n",
       "production_budget    0.000000e+00\n",
       "dtype: float64"
      ]
     },
     "execution_count": 62,
     "metadata": {},
     "output_type": "execute_result"
    }
   ],
   "source": [
    "# getting the model parameters p-values\n",
    "results1.pvalues"
   ]
  },
  {
   "cell_type": "code",
   "execution_count": 99,
   "metadata": {},
   "outputs": [
    {
     "data": {
      "text/plain": [
       "<matplotlib.legend.Legend at 0x1a38553a1c0>"
      ]
     },
     "execution_count": 99,
     "metadata": {},
     "output_type": "execute_result"
    },
    {
     "data": {
      "image/png": "[encoded data removed]",
      "text/plain": [
       "<Figure size 576x432 with 1 Axes>"
      ]
     },
     "metadata": {
      "needs_background": "light"
     },
     "output_type": "display_data"
    }
   ],
   "source": [
    "\n",
    "fig, ax = plt.subplots(figsize=(8,6))\n",
    "df5.plot.scatter(x=\"production_budget\", y=\"domestic_gross\", label=\"Data points\", ax=ax)\n",
    "sm.graphics.abline_plot(model_results=results1, label=\"Regression line\", ax=ax)\n",
    "ax.set_title(\"Production Budget & Domestic Gross Linear Regression\")\n",
    "ax.legend()"
   ]
  },
  {
   "cell_type": "code",
   "execution_count": 64,
   "metadata": {},
   "outputs": [
    {
     "data": {
      "text/plain": [
       "<matplotlib.collections.PathCollection at 0x1a3fed306d0>"
      ]
     },
     "execution_count": 64,
     "metadata": {},
     "output_type": "execute_result"
    },
    {
     "data": {
      "image/png": "[encoded data removed]",
      "text/plain": [
       "<Figure size 432x288 with 1 Axes>"
      ]
     },
     "metadata": {
      "needs_background": "light"
     },
     "output_type": "display_data"
    }
   ],
   "source": [
    "#visualize the relationship between predictor and the target\n",
    "X = df5[[\"production_budget\"]]\n",
    "y = df5[\"worldwide_gross\"]\n",
    "\n",
    "plt.scatter(X, y)"
   ]
  },
  {
   "cell_type": "code",
   "execution_count": 65,
   "metadata": {},
   "outputs": [
    {
     "data": {
      "text/plain": [
       "<statsmodels.regression.linear_model.RegressionResultsWrapper at 0x1a3fecfc880>"
      ]
     },
     "execution_count": 65,
     "metadata": {},
     "output_type": "execute_result"
    }
   ],
   "source": [
    "#Determine X and y values\n",
    "X = df5[[\"production_budget\"]]\n",
    "y = df5[\"worldwide_gross\"]\n",
    "\n",
    "#Create an OLS model\n",
    "model3 = sm.OLS(endog=y, exog=sm.add_constant(X))\n",
    "model3\n",
    "\n",
    "results2 = model3.fit()\n",
    "results2\n",
    "\n"
   ]
  },
  {
   "cell_type": "code",
   "execution_count": 67,
   "metadata": {},
   "outputs": [
    {
     "data": {
      "text/plain": [
       "(7355.224292071473, 0.0)"
      ]
     },
     "execution_count": 67,
     "metadata": {},
     "output_type": "execute_result"
    }
   ],
   "source": [
    "results2.fvalue, results2.f_pvalue"
   ]
  },
  {
   "cell_type": "code",
   "execution_count": 68,
   "metadata": {},
   "outputs": [
    {
     "data": {
      "text/plain": [
       "const               -7.285667e+06\n",
       "production_budget    3.126943e+00\n",
       "dtype: float64"
      ]
     },
     "execution_count": 68,
     "metadata": {},
     "output_type": "execute_result"
    }
   ],
   "source": [
    "results2.params"
   ]
  },
  {
   "cell_type": "code",
   "execution_count": 69,
   "metadata": {},
   "outputs": [
    {
     "data": {
      "text/plain": [
       "0.5599618345695967"
      ]
     },
     "execution_count": 69,
     "metadata": {},
     "output_type": "execute_result"
    }
   ],
   "source": [
    "results2.rsquared"
   ]
  },
  {
   "cell_type": "code",
   "execution_count": 70,
   "metadata": {},
   "outputs": [
    {
     "data": {
      "text/plain": [
       "const                0.000138\n",
       "production_budget    0.000000\n",
       "dtype: float64"
      ]
     },
     "execution_count": 70,
     "metadata": {},
     "output_type": "execute_result"
    }
   ],
   "source": [
    "results2.pvalues"
   ]
  },
  {
   "cell_type": "code",
   "execution_count": 98,
   "metadata": {},
   "outputs": [
    {
     "data": {
      "text/plain": [
       "<matplotlib.legend.Legend at 0x1a3857dcac0>"
      ]
     },
     "execution_count": 98,
     "metadata": {},
     "output_type": "execute_result"
    },
    {
     "data": {
      "image/png": "[encoded data removed]",
      "text/plain": [
       "<Figure size 720x432 with 1 Axes>"
      ]
     },
     "metadata": {
      "needs_background": "light"
     },
     "output_type": "display_data"
    }
   ],
   "source": [
    "fig, ax = plt.subplots(figsize=(10,6))\n",
    "df5.plot.scatter(x=\"production_budget\", y=\"worldwide_gross\", label=\"Data points\", ax=ax)\n",
    "sm.graphics.abline_plot(model_results=results2, label=\"Regression line\", ax=ax)\n",
    "ax.set_title(\"Production budget & World wide gross Linear Regression\")\n",
    "ax.legend()"
   ]
  },
  {
   "cell_type": "markdown",
   "metadata": {},
   "source": [
    "##### Results\n",
    "From the relationship between production budget and domestic gross, the rsquared results show that our model explains 47% of the variance in domestic gross the dependent variable.\n",
    "\n",
    "The visualization of the relationship between production budget and domestic gross, it shows that the linear relationship between the two is quite minimal. This means that a higher production budget can be able to gross a high domestic gross  but that is not a guarantee as not every time a film with a high production budget generates a high domestic gross.\n",
    "\n",
    "This is seen as some movies with low production budget are able to generate a high domestic gross. This means it is not a guarantee that a high production budget predicts a high domestic gross.\n",
    "\n",
    "\n",
    "From the relationship between production budget and world wide  gross, the rsquared results show that our model explains 56% of the variance in domestic gross the dependent variable.\n",
    "\n",
    "The visualization of the relationship between production budget and world wide  gross, it shows that the linear relationship between the two is quite minimal. This means that a higher production budget can be able to gross a high world wide gross  but that is not a guarantee as not every time a film with a high production budget generates a high world wide gross.\n",
    "\n",
    "This is seen as some movies with low production budget are able to generate a high world wide gross. This means it is not a guarantee that a high production budget predicts a high world wide gross.\n",
    "\n"
   ]
  },
  {
   "cell_type": "markdown",
   "metadata": {},
   "source": [
    "#### 2. Dataset tmdb.movies.csv.gz"
   ]
  },
  {
   "cell_type": "markdown",
   "metadata": {},
   "source": [
    "For this the independent and dependent variables are popularity and vote count. We will you these two variables to create a linear regression relationship.\n",
    "\n",
    "The independent variable for the second one is vote count and the dependent variable is vote average and we will use these variables to create a linear regression relationship."
   ]
  },
  {
   "cell_type": "code",
   "execution_count": 73,
   "metadata": {},
   "outputs": [
    {
     "data": {
      "text/plain": [
       "<matplotlib.collections.PathCollection at 0x1a3fecfc3a0>"
      ]
     },
     "execution_count": 73,
     "metadata": {},
     "output_type": "execute_result"
    },
    {
     "data": {
      "image/png": "[encoded data removed]",
      "text/plain": [
       "<Figure size 432x288 with 1 Axes>"
      ]
     },
     "metadata": {
      "needs_background": "light"
     },
     "output_type": "display_data"
    }
   ],
   "source": [
    "#check for a linear relationship between the 2 variables.\n",
    "x = df4[['popularity']]\n",
    "y = df4['vote_count']\n",
    "\n",
    "plt.scatter(x, y)"
   ]
  },
  {
   "cell_type": "code",
   "execution_count": 82,
   "metadata": {},
   "outputs": [
    {
     "data": {
      "text/plain": [
       "<statsmodels.regression.linear_model.RegressionResultsWrapper at 0x1a384ca1760>"
      ]
     },
     "execution_count": 82,
     "metadata": {},
     "output_type": "execute_result"
    }
   ],
   "source": [
    "X = df4[['popularity']] \n",
    "y = df4['vote_count']\n",
    "\n",
    "#Create an OLS model\n",
    "model4 = sm.OLS(endog=y, exog=sm.add_constant(X))\n",
    "model4\n",
    "\n",
    "results3 = model4.fit()\n",
    "results3\n"
   ]
  },
  {
   "cell_type": "code",
   "execution_count": 83,
   "metadata": {},
   "outputs": [
    {
     "data": {
      "text/plain": [
       "(24752.98581449151, 0.0)"
      ]
     },
     "execution_count": 83,
     "metadata": {},
     "output_type": "execute_result"
    }
   ],
   "source": [
    "results3.fvalue, results3.f_pvalue"
   ]
  },
  {
   "cell_type": "code",
   "execution_count": 84,
   "metadata": {},
   "outputs": [
    {
     "data": {
      "text/plain": [
       "0.48281564842546987"
      ]
     },
     "execution_count": 84,
     "metadata": {},
     "output_type": "execute_result"
    }
   ],
   "source": [
    "results3.rsquared"
   ]
  },
  {
   "cell_type": "code",
   "execution_count": 85,
   "metadata": {},
   "outputs": [
    {
     "data": {
      "text/plain": [
       "const        -285.791847\n",
       "popularity    153.315279\n",
       "dtype: float64"
      ]
     },
     "execution_count": 85,
     "metadata": {},
     "output_type": "execute_result"
    }
   ],
   "source": [
    "results3.params"
   ]
  },
  {
   "cell_type": "code",
   "execution_count": 97,
   "metadata": {},
   "outputs": [
    {
     "data": {
      "text/plain": [
       "<matplotlib.legend.Legend at 0x1a384d45ac0>"
      ]
     },
     "execution_count": 97,
     "metadata": {},
     "output_type": "execute_result"
    },
    {
     "data": {
      "image/png": "[encoded data removed]",
      "text/plain": [
       "<Figure size 720x432 with 1 Axes>"
      ]
     },
     "metadata": {
      "needs_background": "light"
     },
     "output_type": "display_data"
    },
    {
     "data": {
      "text/plain": [
       "<Figure size 720x432 with 0 Axes>"
      ]
     },
     "metadata": {},
     "output_type": "display_data"
    }
   ],
   "source": [
    "\n",
    "fig, ax = plt.subplots(figsize=(10,6))\n",
    "plt.figure(figsize=(10, 6))\n",
    "df4.plot.scatter(x=\"popularity\", y=\"vote_count\", label=\"Data points\", ax=ax)\n",
    "sm.graphics.abline_plot(model_results=results3, label=\"Regression line\", ax=ax)\n",
    "ax.set_title(\"Popularity & Audience Linear regression\")\n",
    "ax.legend()"
   ]
  },
  {
   "cell_type": "code",
   "execution_count": 100,
   "metadata": {},
   "outputs": [
    {
     "data": {
      "text/plain": [
       "<matplotlib.collections.PathCollection at 0x1a3835ed4f0>"
      ]
     },
     "execution_count": 100,
     "metadata": {},
     "output_type": "execute_result"
    },
    {
     "data": {
      "image/png": "[encoded data removed]",
      "text/plain": [
       "<Figure size 432x288 with 1 Axes>"
      ]
     },
     "metadata": {
      "needs_background": "light"
     },
     "output_type": "display_data"
    }
   ],
   "source": [
    "#visualize the relationship to chcek for a linear  relationship\n",
    "x = df4['vote_average']\n",
    "y = df4['vote_count']\n",
    "\n",
    "plt.scatter(x, y)"
   ]
  },
  {
   "cell_type": "code",
   "execution_count": 102,
   "metadata": {},
   "outputs": [
    {
     "data": {
      "text/plain": [
       "<statsmodels.regression.linear_model.OLS at 0x1a384ca1a00>"
      ]
     },
     "execution_count": 102,
     "metadata": {},
     "output_type": "execute_result"
    }
   ],
   "source": [
    "X = df4[['vote_count']]\n",
    "y = df4['vote_average']\n",
    "\n",
    "model5 = sm.OLS(endog=y, exog=sm.add_constant(X))\n",
    "model5"
   ]
  },
  {
   "cell_type": "code",
   "execution_count": 103,
   "metadata": {},
   "outputs": [
    {
     "data": {
      "text/plain": [
       "<statsmodels.regression.linear_model.RegressionResultsWrapper at 0x1a382027760>"
      ]
     },
     "execution_count": 103,
     "metadata": {},
     "output_type": "execute_result"
    }
   ],
   "source": [
    "results4 = model5.fit()\n",
    "results4"
   ]
  },
  {
   "cell_type": "code",
   "execution_count": 104,
   "metadata": {},
   "outputs": [
    {
     "data": {
      "text/plain": [
       "(199.2820688767436, 4.3644735647029113e-45)"
      ]
     },
     "execution_count": 104,
     "metadata": {},
     "output_type": "execute_result"
    }
   ],
   "source": [
    "results4.fvalue, results4.f_pvalue"
   ]
  },
  {
   "cell_type": "code",
   "execution_count": 105,
   "metadata": {},
   "outputs": [
    {
     "data": {
      "text/plain": [
       "0.007459757606921302"
      ]
     },
     "execution_count": 105,
     "metadata": {},
     "output_type": "execute_result"
    }
   ],
   "source": [
    "results4.rsquared"
   ]
  },
  {
   "cell_type": "code",
   "execution_count": 106,
   "metadata": {},
   "outputs": [
    {
     "data": {
      "text/plain": [
       "const         5.958935\n",
       "vote_count    0.000167\n",
       "dtype: float64"
      ]
     },
     "execution_count": 106,
     "metadata": {},
     "output_type": "execute_result"
    }
   ],
   "source": [
    "results4.params"
   ]
  },
  {
   "cell_type": "code",
   "execution_count": 107,
   "metadata": {},
   "outputs": [
    {
     "data": {
      "text/plain": [
       "const         0.000000e+00\n",
       "vote_count    4.364474e-45\n",
       "dtype: float64"
      ]
     },
     "execution_count": 107,
     "metadata": {},
     "output_type": "execute_result"
    }
   ],
   "source": [
    "results4.pvalues"
   ]
  },
  {
   "cell_type": "code",
   "execution_count": 109,
   "metadata": {},
   "outputs": [
    {
     "data": {
      "text/plain": [
       "Text(0.5, 1.0, 'Audience & Rating Linear regression')"
      ]
     },
     "execution_count": 109,
     "metadata": {},
     "output_type": "execute_result"
    },
    {
     "data": {
      "image/png": "[encoded data removed]",
      "text/plain": [
       "<Figure size 720x432 with 1 Axes>"
      ]
     },
     "metadata": {
      "needs_background": "light"
     },
     "output_type": "display_data"
    },
    {
     "data": {
      "text/plain": [
       "<Figure size 720x432 with 0 Axes>"
      ]
     },
     "metadata": {},
     "output_type": "display_data"
    }
   ],
   "source": [
    "fig, ax = plt.subplots(figsize=(10,6))\n",
    "plt.figure(figsize=(10, 6))\n",
    "df4.plot.scatter(x=\"vote_average\", y=\"vote_count\", label=\"Data points\", ax=ax)\n",
    "sm.graphics.abline_plot(model_results=results3, label=\"Regression line\", ax=ax)\n",
    "ax.set_title(\"Audience & Rating Linear regression\")"
   ]
  },
  {
   "cell_type": "markdown",
   "metadata": {},
   "source": [
    "##### Results\n",
    "From the relationship between popularity and vote count, the rsquared results show that our model explains 48% of the variance vote count the dependent variable.\n",
    "\n",
    "The visualization shows a linear regression relationship between popularity and vote count. The trend shows that higher popularity sometimes lead to higher audience watch time in watching the films.\n",
    "\n",
    "However the relationship is not very strong as some movies which are quite popular do not have many audience watch time and some movies that are not that popular receive many audience watch time.\n",
    "\n",
    "Our linear regression between the two variables can be to predict that some popular films are able to predict a high number of watch time from the audience.\n",
    "\n",
    "From the relationship between vote average and vote count, the rsquared results show that our model explains 74% of the variance vote average the dependent variable.\n",
    "\n",
    "Vote average in this case is rating of a movie.\n",
    "\n",
    "\n",
    "The visualization shows a linear regression relationship between vote count and vote average, the trend of the relationship indicates a positive correlation between vote count and vote average. This suggests that increase in vote count leads to increase in vote average of a certain film.\n",
    "\n",
    "Our linear regression shows that our independent variable vote count is able to predict values of our dependent variable vote average.\n",
    "\n",
    "\n",
    "\n"
   ]
  },
  {
   "cell_type": "markdown",
   "metadata": {},
   "source": [
    "### Business Recommendation 1"
   ]
  },
  {
   "cell_type": "markdown",
   "metadata": {},
   "source": [
    "My first business recommendation for the new movie studio, is to emphasize more on what the audience like to see.\n",
    "\n",
    "We all know that every audiences have different preferences according to age, hobbies and characteristics as they watch films that relate to them.\n",
    "\n",
    "As a new movie studio, I would engage the movie studio film and production who are one of the stakeholders to prioritize genres as a way of attracting different audiences to watch the films. As different audiences have different preferences when it comes to genres.\n",
    "\n",
    "Prioritizing genres can lead to popularity of films making the popular at the box office."
   ]
  },
  {
   "cell_type": "markdown",
   "metadata": {},
   "source": [
    "### Business Recommendation 2"
   ]
  },
  {
   "cell_type": "markdown",
   "metadata": {},
   "source": [
    "Another business recommendation, I would recommend to the new movie studio is a way of promoting the films. This can be done through the marketing and sales team. \n",
    "\n",
    "By doing this, this makes the films become popular among the audience. As seen through the linear regression between popularity and vote count, popularity of a film influences the number of people who end up watching the film based on the popularity. \n",
    "\n",
    "This leads to the movie generating money in the box office. The number of people who end up watching the movie also influences the rating of the movies.\n",
    "\n",
    "Movies that have a high number of audiences receive a high rating from the audience influencing more people to watch the movies.\n",
    "\n",
    "Increasing the gross income of the movies in the box office."
   ]
  },
  {
   "cell_type": "markdown",
   "metadata": {},
   "source": [
    "### Business Recommendation 3"
   ]
  },
  {
   "cell_type": "markdown",
   "metadata": {},
   "source": [
    "The last recommendation I would the movie studio to prioritize production budget which is used by the film production team. Production budget is essential as it helps the production team to create a team that meets the audience requirements.\n",
    "\n",
    "The production budget is approved by the company executives and provided by the investors who are stakeholders of the movie studio.\n",
    "\n",
    "A high production sometimes guarantees that a movies grosses a lot of income in the box office in the terms of domestic and world wide gross, but sometimes not all the time as some movies with a low production budget grosses more than movies with a high production budget as per the analysis."
   ]
  }
 ],
 "metadata": {
  "kernelspec": {
   "display_name": "Python (learn-env)",
   "language": "python",
   "name": "learn-env"
  },
  "language_info": {
   "codemirror_mode": {
    "name": "ipython",
    "version": 3
   },
   "file_extension": ".py",
   "mimetype": "text/x-python",
   "name": "python",
   "nbconvert_exporter": "python",
   "pygments_lexer": "ipython3",
   "version": "3.8.5"
  }
 },
 "nbformat": 4,
 "nbformat_minor": 4
}
